{
 "cells": [
  {
   "cell_type": "markdown",
   "id": "grand-metropolitan",
   "metadata": {},
   "source": [
    "# Web Scraping Assignment 2"
   ]
  },
  {
   "cell_type": "code",
   "execution_count": 1,
   "id": "ethical-substance",
   "metadata": {},
   "outputs": [],
   "source": [
    "#importing required libraries\n",
    "import selenium \n",
    "from selenium import webdriver\n",
    "import pandas as pd"
   ]
  },
  {
   "cell_type": "markdown",
   "id": "checked-requirement",
   "metadata": {},
   "source": [
    "# 1. python program to scrape data for “Data Analyst” Job position "
   ]
  },
  {
   "cell_type": "markdown",
   "id": "checked-material",
   "metadata": {},
   "source": [
    "### 1.1 Connecting to web driver"
   ]
  },
  {
   "cell_type": "code",
   "execution_count": 2,
   "id": "secondary-headline",
   "metadata": {},
   "outputs": [],
   "source": [
    "driver=webdriver.Chrome(r\"c://chromedriver.exe\")"
   ]
  },
  {
   "cell_type": "markdown",
   "id": "vocal-george",
   "metadata": {},
   "source": [
    "### 1.2 Getting the webpage"
   ]
  },
  {
   "cell_type": "code",
   "execution_count": 3,
   "id": "large-indicator",
   "metadata": {},
   "outputs": [],
   "source": [
    "driver.get(\"https://www.naukri.com/\")"
   ]
  },
  {
   "cell_type": "markdown",
   "id": "academic-elements",
   "metadata": {},
   "source": [
    "### 1.3 Finding Element for job search bar"
   ]
  },
  {
   "cell_type": "code",
   "execution_count": 4,
   "id": "returning-porter",
   "metadata": {},
   "outputs": [],
   "source": [
    "search_job=driver.find_element_by_id(\"qsb-keyword-sugg\")\n",
    "search_job.send_keys(\"Data Scientist\")\n",
    "search_location=driver.find_element_by_xpath(\"//input[@id='qsb-location-sugg']\")\n",
    "search_location.send_keys(\"Bangalore\")\n",
    "search_button=driver.find_element_by_xpath(\"//div[@class='search-btn']/button\")\n",
    "search_button.click()"
   ]
  },
  {
   "cell_type": "markdown",
   "id": "valued-microphone",
   "metadata": {},
   "source": [
    "### 1.4 Job Title"
   ]
  },
  {
   "cell_type": "markdown",
   "id": "resistant-coupon",
   "metadata": {},
   "source": [
    "### 1.4.1 Extracting all tags having job title"
   ]
  },
  {
   "cell_type": "code",
   "execution_count": 7,
   "id": "composite-reverse",
   "metadata": {},
   "outputs": [
    {
     "data": {
      "text/plain": [
       "[<selenium.webdriver.remote.webelement.WebElement (session=\"12e54506c432bfbe5c77312efecfefac\", element=\"81c437d8-6d93-4db4-99ff-4fff76673d1f\")>,\n",
       " <selenium.webdriver.remote.webelement.WebElement (session=\"12e54506c432bfbe5c77312efecfefac\", element=\"cca8e9a0-ff9a-4d92-9653-8bc2fa757aa4\")>,\n",
       " <selenium.webdriver.remote.webelement.WebElement (session=\"12e54506c432bfbe5c77312efecfefac\", element=\"ca52cd37-bf21-43c7-a294-9d5f3328033f\")>,\n",
       " <selenium.webdriver.remote.webelement.WebElement (session=\"12e54506c432bfbe5c77312efecfefac\", element=\"0faf800e-fdb9-4502-a14d-1582c49f88af\")>,\n",
       " <selenium.webdriver.remote.webelement.WebElement (session=\"12e54506c432bfbe5c77312efecfefac\", element=\"96fc6752-e28c-4a2d-9be4-bbbc1d7fccc1\")>]"
      ]
     },
     "execution_count": 7,
     "metadata": {},
     "output_type": "execute_result"
    }
   ],
   "source": [
    "title_tags=driver.find_elements_by_xpath(\"//a[@class='title fw500 ellipsis']\")\n",
    "title_tags[0:5]"
   ]
  },
  {
   "cell_type": "markdown",
   "id": "compound-scotland",
   "metadata": {},
   "source": [
    "### 1.4.2 Extarcting text from job title tag using for loop"
   ]
  },
  {
   "cell_type": "code",
   "execution_count": 8,
   "id": "grand-panic",
   "metadata": {},
   "outputs": [
    {
     "data": {
      "text/plain": [
       "['Required- Data Scientist (NLP)-Axis Bank - 6 months contract',\n",
       " 'Data Scientist - Python/ MATLAB/ Machine Learning Algorithms',\n",
       " 'Principal Data Scientist - Machine/Deep Learning - NLP/Tensorflow',\n",
       " 'Data Scientist/ Analyst',\n",
       " 'Opportunity For Data Scientist Internship - Bengaluru']"
      ]
     },
     "execution_count": 8,
     "metadata": {},
     "output_type": "execute_result"
    }
   ],
   "source": [
    "title=[]\n",
    "for i in title_tags:\n",
    "    title.append(i.text)\n",
    "title[0:5]    "
   ]
  },
  {
   "cell_type": "markdown",
   "id": "pretty-reunion",
   "metadata": {},
   "source": [
    "### 1. 5 Job Location"
   ]
  },
  {
   "cell_type": "markdown",
   "id": "convenient-symbol",
   "metadata": {},
   "source": [
    "### 1.5.1 Extracting all tags having job location"
   ]
  },
  {
   "cell_type": "code",
   "execution_count": 9,
   "id": "liable-filter",
   "metadata": {},
   "outputs": [
    {
     "data": {
      "text/plain": [
       "[<selenium.webdriver.remote.webelement.WebElement (session=\"12e54506c432bfbe5c77312efecfefac\", element=\"6db03739-3d6f-48e7-bae8-0adfc351d2ca\")>,\n",
       " <selenium.webdriver.remote.webelement.WebElement (session=\"12e54506c432bfbe5c77312efecfefac\", element=\"360e6488-ccd2-4706-8452-b061b7dc8e3b\")>,\n",
       " <selenium.webdriver.remote.webelement.WebElement (session=\"12e54506c432bfbe5c77312efecfefac\", element=\"ac302932-52f8-4c62-b91b-399d892926e5\")>,\n",
       " <selenium.webdriver.remote.webelement.WebElement (session=\"12e54506c432bfbe5c77312efecfefac\", element=\"3c30a8f1-10b4-465c-986f-c6fbdf593501\")>,\n",
       " <selenium.webdriver.remote.webelement.WebElement (session=\"12e54506c432bfbe5c77312efecfefac\", element=\"15e6ce43-9ec0-4664-be89-a764538095f2\")>]"
      ]
     },
     "execution_count": 9,
     "metadata": {},
     "output_type": "execute_result"
    }
   ],
   "source": [
    "location_tags=driver.find_elements_by_xpath(\"//li[@class='fleft grey-text br2 placeHolderLi location']/span[1]\")\n",
    "location_tags[0:5]"
   ]
  },
  {
   "cell_type": "markdown",
   "id": "breeding-milwaukee",
   "metadata": {},
   "source": [
    "### 1.5.2 Extarcting text from job location tag using for loop"
   ]
  },
  {
   "cell_type": "code",
   "execution_count": 10,
   "id": "egyptian-winning",
   "metadata": {},
   "outputs": [
    {
     "data": {
      "text/plain": [
       "['Kolkata, New Delhi, Hyderabad/Secunderabad, Pune, Chennai, Bangalore/Bengaluru, Mumbai (All Areas)',\n",
       " 'Bangalore/Bengaluru',\n",
       " 'Bangalore/Bengaluru',\n",
       " 'Bangalore/Bengaluru',\n",
       " 'Bangalore/Bengaluru']"
      ]
     },
     "execution_count": 10,
     "metadata": {},
     "output_type": "execute_result"
    }
   ],
   "source": [
    "location=[]\n",
    "for i in location_tags:\n",
    "    location.append(i.text)\n",
    "location[0:5]    "
   ]
  },
  {
   "cell_type": "markdown",
   "id": "funny-mentor",
   "metadata": {},
   "source": [
    "### 1.6 company name"
   ]
  },
  {
   "cell_type": "markdown",
   "id": "straight-image",
   "metadata": {},
   "source": [
    "### 1.6.1 Extracting all tags having company name"
   ]
  },
  {
   "cell_type": "code",
   "execution_count": 11,
   "id": "olympic-rally",
   "metadata": {},
   "outputs": [
    {
     "data": {
      "text/plain": [
       "[<selenium.webdriver.remote.webelement.WebElement (session=\"12e54506c432bfbe5c77312efecfefac\", element=\"ce7223ba-5e7a-4af1-8f58-3d79f4fdcfe9\")>,\n",
       " <selenium.webdriver.remote.webelement.WebElement (session=\"12e54506c432bfbe5c77312efecfefac\", element=\"5181e234-6cc8-4ef5-9411-36085a3c2d2a\")>,\n",
       " <selenium.webdriver.remote.webelement.WebElement (session=\"12e54506c432bfbe5c77312efecfefac\", element=\"805af601-24b5-45e4-ae09-2c575d8dcac1\")>,\n",
       " <selenium.webdriver.remote.webelement.WebElement (session=\"12e54506c432bfbe5c77312efecfefac\", element=\"cb2c4ea9-2538-464f-84dd-66fe7a08566e\")>,\n",
       " <selenium.webdriver.remote.webelement.WebElement (session=\"12e54506c432bfbe5c77312efecfefac\", element=\"5f7b40cd-8f49-40c3-af42-b0dd24e9a2ee\")>]"
      ]
     },
     "execution_count": 11,
     "metadata": {},
     "output_type": "execute_result"
    }
   ],
   "source": [
    "comp_name_tags=driver.find_elements_by_xpath(\"//a[@class='subTitle ellipsis fleft']\")\n",
    "comp_name_tags[0:5]"
   ]
  },
  {
   "cell_type": "markdown",
   "id": "nearby-process",
   "metadata": {},
   "source": [
    "### 1.6.2 Extarcting text from company name tag using for loop"
   ]
  },
  {
   "cell_type": "code",
   "execution_count": 12,
   "id": "related-davis",
   "metadata": {},
   "outputs": [
    {
     "data": {
      "text/plain": [
       "['Axis Bank Limited',\n",
       " 'Wrackle Technologies Pvt Ltd',\n",
       " 'Fidius advisory',\n",
       " 'Becton Dickinson India Pvt. Ltd',\n",
       " 'Corner Stone Solutions']"
      ]
     },
     "execution_count": 12,
     "metadata": {},
     "output_type": "execute_result"
    }
   ],
   "source": [
    "company_name=[]\n",
    "for i in comp_name_tags:\n",
    "    company_name.append(i.text)\n",
    "company_name[0:5]    "
   ]
  },
  {
   "cell_type": "markdown",
   "id": "million-spice",
   "metadata": {},
   "source": [
    "### 1.7 Experience Required"
   ]
  },
  {
   "cell_type": "markdown",
   "id": "undefined-article",
   "metadata": {},
   "source": [
    "### 1.7.1 Extracting all tags having Experience"
   ]
  },
  {
   "cell_type": "code",
   "execution_count": 13,
   "id": "variable-saint",
   "metadata": {},
   "outputs": [
    {
     "data": {
      "text/plain": [
       "[<selenium.webdriver.remote.webelement.WebElement (session=\"12e54506c432bfbe5c77312efecfefac\", element=\"f2e35526-40b9-4f1e-9a63-12dc231ff3ef\")>,\n",
       " <selenium.webdriver.remote.webelement.WebElement (session=\"12e54506c432bfbe5c77312efecfefac\", element=\"21f3a652-56a3-4949-95ef-0c8e99330949\")>,\n",
       " <selenium.webdriver.remote.webelement.WebElement (session=\"12e54506c432bfbe5c77312efecfefac\", element=\"46674e40-2fe9-4509-b9b1-001e12f29d6f\")>,\n",
       " <selenium.webdriver.remote.webelement.WebElement (session=\"12e54506c432bfbe5c77312efecfefac\", element=\"d53d35c2-5659-4226-b74b-c238efab48c8\")>,\n",
       " <selenium.webdriver.remote.webelement.WebElement (session=\"12e54506c432bfbe5c77312efecfefac\", element=\"222b5918-8645-4a22-976b-014b248d6e8a\")>]"
      ]
     },
     "execution_count": 13,
     "metadata": {},
     "output_type": "execute_result"
    }
   ],
   "source": [
    "experience_tags=driver.find_elements_by_xpath(\"//li[@class='fleft grey-text br2 placeHolderLi experience']/span[1]\")\n",
    "experience_tags[0:5]"
   ]
  },
  {
   "cell_type": "markdown",
   "id": "intelligent-cross",
   "metadata": {},
   "source": [
    "### 1.7.2 Extracting text from Experience tag using for loop"
   ]
  },
  {
   "cell_type": "code",
   "execution_count": 14,
   "id": "processed-proof",
   "metadata": {},
   "outputs": [
    {
     "data": {
      "text/plain": [
       "['4-9 Yrs', '3-8 Yrs', '8-13 Yrs', '5-10 Yrs', '0-1 Yrs']"
      ]
     },
     "execution_count": 14,
     "metadata": {},
     "output_type": "execute_result"
    }
   ],
   "source": [
    "experience=[]\n",
    "for i in experience_tags:\n",
    "    experience.append(i.text)\n",
    "experience[0:5]    "
   ]
  },
  {
   "cell_type": "markdown",
   "id": "protective-powell",
   "metadata": {},
   "source": [
    "### 1.8 Checking for length of all tags"
   ]
  },
  {
   "cell_type": "code",
   "execution_count": 15,
   "id": "assigned-vietnamese",
   "metadata": {},
   "outputs": [
    {
     "name": "stdout",
     "output_type": "stream",
     "text": [
      "20 20 20 20\n"
     ]
    }
   ],
   "source": [
    "print(len(title),len(location),len(company_name),len(experience))"
   ]
  },
  {
   "cell_type": "markdown",
   "id": "appointed-pottery",
   "metadata": {},
   "source": [
    "### 1.9 scrape the data for the first 10 jobs"
   ]
  },
  {
   "cell_type": "code",
   "execution_count": 16,
   "id": "radio-father",
   "metadata": {},
   "outputs": [],
   "source": [
    "title=title[:-10]\n",
    "location=location[:-10]\n",
    "company_name=company_name[:-10]\n",
    "experience=experience[:-10]"
   ]
  },
  {
   "cell_type": "markdown",
   "id": "simple-inventory",
   "metadata": {},
   "source": [
    "### 1.10 DataFraming using Pandas"
   ]
  },
  {
   "cell_type": "code",
   "execution_count": 17,
   "id": "exceptional-disclaimer",
   "metadata": {},
   "outputs": [
    {
     "data": {
      "text/html": [
       "<div>\n",
       "<style scoped>\n",
       "    .dataframe tbody tr th:only-of-type {\n",
       "        vertical-align: middle;\n",
       "    }\n",
       "\n",
       "    .dataframe tbody tr th {\n",
       "        vertical-align: top;\n",
       "    }\n",
       "\n",
       "    .dataframe thead th {\n",
       "        text-align: right;\n",
       "    }\n",
       "</style>\n",
       "<table border=\"1\" class=\"dataframe\">\n",
       "  <thead>\n",
       "    <tr style=\"text-align: right;\">\n",
       "      <th></th>\n",
       "      <th>job title</th>\n",
       "      <th>location</th>\n",
       "      <th>company name</th>\n",
       "      <th>experience</th>\n",
       "    </tr>\n",
       "  </thead>\n",
       "  <tbody>\n",
       "    <tr>\n",
       "      <th>0</th>\n",
       "      <td>Required- Data Scientist (NLP)-Axis Bank - 6 m...</td>\n",
       "      <td>Kolkata, New Delhi, Hyderabad/Secunderabad, Pu...</td>\n",
       "      <td>Axis Bank Limited</td>\n",
       "      <td>4-9 Yrs</td>\n",
       "    </tr>\n",
       "    <tr>\n",
       "      <th>1</th>\n",
       "      <td>Data Scientist - Python/ MATLAB/ Machine Learn...</td>\n",
       "      <td>Bangalore/Bengaluru</td>\n",
       "      <td>Wrackle Technologies Pvt Ltd</td>\n",
       "      <td>3-8 Yrs</td>\n",
       "    </tr>\n",
       "    <tr>\n",
       "      <th>2</th>\n",
       "      <td>Principal Data Scientist - Machine/Deep Learni...</td>\n",
       "      <td>Bangalore/Bengaluru</td>\n",
       "      <td>Fidius advisory</td>\n",
       "      <td>8-13 Yrs</td>\n",
       "    </tr>\n",
       "    <tr>\n",
       "      <th>3</th>\n",
       "      <td>Data Scientist/ Analyst</td>\n",
       "      <td>Bangalore/Bengaluru</td>\n",
       "      <td>Becton Dickinson India Pvt. Ltd</td>\n",
       "      <td>5-10 Yrs</td>\n",
       "    </tr>\n",
       "    <tr>\n",
       "      <th>4</th>\n",
       "      <td>Opportunity For Data Scientist Internship - Be...</td>\n",
       "      <td>Bangalore/Bengaluru</td>\n",
       "      <td>Corner Stone Solutions</td>\n",
       "      <td>0-1 Yrs</td>\n",
       "    </tr>\n",
       "    <tr>\n",
       "      <th>5</th>\n",
       "      <td>Data Scientist/Senior Data Scientist</td>\n",
       "      <td>Hyderabad/Secunderabad, Pune, Chennai, Bangalo...</td>\n",
       "      <td>GANIT BUSINESS SOLUTIONS PRIVATE LIMITED</td>\n",
       "      <td>4-8 Yrs</td>\n",
       "    </tr>\n",
       "    <tr>\n",
       "      <th>6</th>\n",
       "      <td>Senior Data Scientist, , Data Science</td>\n",
       "      <td>Bangalore/Bengaluru</td>\n",
       "      <td>Visa Inc.</td>\n",
       "      <td>6-10 Yrs</td>\n",
       "    </tr>\n",
       "    <tr>\n",
       "      <th>7</th>\n",
       "      <td>Senior Data Scientist (Machine Vision solutions)</td>\n",
       "      <td>Bangalore/Bengaluru</td>\n",
       "      <td>ONX Software Systems Pvt Ltd</td>\n",
       "      <td>5-9 Yrs</td>\n",
       "    </tr>\n",
       "    <tr>\n",
       "      <th>8</th>\n",
       "      <td>Global Medical Data Scientist</td>\n",
       "      <td>Bangalore/Bengaluru</td>\n",
       "      <td>GlaxoSmithKline Pharmaceuticals Limited</td>\n",
       "      <td>5-10 Yrs</td>\n",
       "    </tr>\n",
       "    <tr>\n",
       "      <th>9</th>\n",
       "      <td>Data Scientist - Advanced Analytics</td>\n",
       "      <td>Bangalore/Bengaluru</td>\n",
       "      <td>IBM India Pvt. Limited</td>\n",
       "      <td>10-15 Yrs</td>\n",
       "    </tr>\n",
       "  </tbody>\n",
       "</table>\n",
       "</div>"
      ],
      "text/plain": [
       "                                           job title  \\\n",
       "0  Required- Data Scientist (NLP)-Axis Bank - 6 m...   \n",
       "1  Data Scientist - Python/ MATLAB/ Machine Learn...   \n",
       "2  Principal Data Scientist - Machine/Deep Learni...   \n",
       "3                            Data Scientist/ Analyst   \n",
       "4  Opportunity For Data Scientist Internship - Be...   \n",
       "5               Data Scientist/Senior Data Scientist   \n",
       "6              Senior Data Scientist, , Data Science   \n",
       "7   Senior Data Scientist (Machine Vision solutions)   \n",
       "8                      Global Medical Data Scientist   \n",
       "9                Data Scientist - Advanced Analytics   \n",
       "\n",
       "                                            location  \\\n",
       "0  Kolkata, New Delhi, Hyderabad/Secunderabad, Pu...   \n",
       "1                                Bangalore/Bengaluru   \n",
       "2                                Bangalore/Bengaluru   \n",
       "3                                Bangalore/Bengaluru   \n",
       "4                                Bangalore/Bengaluru   \n",
       "5  Hyderabad/Secunderabad, Pune, Chennai, Bangalo...   \n",
       "6                                Bangalore/Bengaluru   \n",
       "7                                Bangalore/Bengaluru   \n",
       "8                                Bangalore/Bengaluru   \n",
       "9                                Bangalore/Bengaluru   \n",
       "\n",
       "                               company name experience  \n",
       "0                         Axis Bank Limited    4-9 Yrs  \n",
       "1              Wrackle Technologies Pvt Ltd    3-8 Yrs  \n",
       "2                           Fidius advisory   8-13 Yrs  \n",
       "3           Becton Dickinson India Pvt. Ltd   5-10 Yrs  \n",
       "4                    Corner Stone Solutions    0-1 Yrs  \n",
       "5  GANIT BUSINESS SOLUTIONS PRIVATE LIMITED    4-8 Yrs  \n",
       "6                                 Visa Inc.   6-10 Yrs  \n",
       "7              ONX Software Systems Pvt Ltd    5-9 Yrs  \n",
       "8   GlaxoSmithKline Pharmaceuticals Limited   5-10 Yrs  \n",
       "9                    IBM India Pvt. Limited  10-15 Yrs  "
      ]
     },
     "execution_count": 17,
     "metadata": {},
     "output_type": "execute_result"
    }
   ],
   "source": [
    "jobs=pd.DataFrame({})\n",
    "jobs[\"job title\"]=title\n",
    "jobs[\"location\"]=location\n",
    "jobs[\"company name\"]=company_name\n",
    "jobs[\"experience\"]=experience\n",
    "jobs"
   ]
  },
  {
   "cell_type": "markdown",
   "id": "portable-brake",
   "metadata": {},
   "source": [
    "### 1.11 closing the drive"
   ]
  },
  {
   "cell_type": "code",
   "execution_count": 18,
   "id": "toxic-pottery",
   "metadata": {},
   "outputs": [],
   "source": [
    "driver.close()"
   ]
  },
  {
   "cell_type": "markdown",
   "id": "bearing-kansas",
   "metadata": {},
   "source": [
    "# 2. python program to scrape data for “Data Scientist” Job position in Bangalore location"
   ]
  },
  {
   "cell_type": "markdown",
   "id": "amber-hardwood",
   "metadata": {},
   "source": [
    "### 2.1 Connecting to web driver"
   ]
  },
  {
   "cell_type": "code",
   "execution_count": 18,
   "id": "appreciated-japanese",
   "metadata": {},
   "outputs": [],
   "source": [
    "driver=webdriver.Chrome(r\"c://chromedriver.exe\")"
   ]
  },
  {
   "cell_type": "markdown",
   "id": "worthy-filename",
   "metadata": {},
   "source": [
    "### 2.2 Getting the webpage"
   ]
  },
  {
   "cell_type": "code",
   "execution_count": 19,
   "id": "varied-politics",
   "metadata": {},
   "outputs": [],
   "source": [
    "driver.get(\"https://www.naukri.com/\")"
   ]
  },
  {
   "cell_type": "markdown",
   "id": "reasonable-turner",
   "metadata": {},
   "source": [
    "### 2.3 Finding Element for job search bar"
   ]
  },
  {
   "cell_type": "code",
   "execution_count": 20,
   "id": "premium-remainder",
   "metadata": {},
   "outputs": [],
   "source": [
    "search_job=driver.find_element_by_id(\"qsb-keyword-sugg\")\n",
    "search_job.send_keys(\"Data Scientist\")\n",
    "search_location=driver.find_element_by_xpath(\"//input[@id='qsb-location-sugg']\")\n",
    "search_location.send_keys(\"Bangalore\")\n",
    "search_button=driver.find_element_by_xpath(\"//div[@class='search-btn']/button\")\n",
    "search_button.click()\n"
   ]
  },
  {
   "cell_type": "markdown",
   "id": "stuck-assault",
   "metadata": {},
   "source": [
    "### 2.4 Job Title "
   ]
  },
  {
   "cell_type": "markdown",
   "id": "descending-applicant",
   "metadata": {},
   "source": [
    "### 2.4.1 Extracting all tags having job title"
   ]
  },
  {
   "cell_type": "code",
   "execution_count": 21,
   "id": "acceptable-impossible",
   "metadata": {},
   "outputs": [
    {
     "data": {
      "text/plain": [
       "[<selenium.webdriver.remote.webelement.WebElement (session=\"decbfbf2d0f8949454f0b2cc2ccacc16\", element=\"93dfaba0-4060-4429-945e-81c835827fda\")>,\n",
       " <selenium.webdriver.remote.webelement.WebElement (session=\"decbfbf2d0f8949454f0b2cc2ccacc16\", element=\"d6a3fe4c-ba7b-4801-9159-4b0b38ad4d53\")>,\n",
       " <selenium.webdriver.remote.webelement.WebElement (session=\"decbfbf2d0f8949454f0b2cc2ccacc16\", element=\"ac112ad8-1e34-471c-870c-b10778d6006c\")>,\n",
       " <selenium.webdriver.remote.webelement.WebElement (session=\"decbfbf2d0f8949454f0b2cc2ccacc16\", element=\"b7ce5e4e-9073-4d2c-8895-62ce15517191\")>,\n",
       " <selenium.webdriver.remote.webelement.WebElement (session=\"decbfbf2d0f8949454f0b2cc2ccacc16\", element=\"bbba23d0-4b92-42fb-bab6-41c47d4c3dcf\")>]"
      ]
     },
     "execution_count": 21,
     "metadata": {},
     "output_type": "execute_result"
    }
   ],
   "source": [
    "title_tags=driver.find_elements_by_xpath(\"//a[@class='title fw500 ellipsis']\")\n",
    "title_tags[0:5]"
   ]
  },
  {
   "cell_type": "markdown",
   "id": "fresh-closure",
   "metadata": {},
   "source": [
    "### 2.4.2 Extarcting text from job title tag using for loop"
   ]
  },
  {
   "cell_type": "code",
   "execution_count": 22,
   "id": "acceptable-pressure",
   "metadata": {},
   "outputs": [
    {
     "data": {
      "text/plain": [
       "['Data Scientist',\n",
       " 'Data Scientist - Machine Learning',\n",
       " 'Data Scientist - IBM Garage',\n",
       " 'GAMMA Lead Data Scientist',\n",
       " 'DBCG IND - GAMMA Senior Data Scientist']"
      ]
     },
     "execution_count": 22,
     "metadata": {},
     "output_type": "execute_result"
    }
   ],
   "source": [
    "title=[]\n",
    "for i in title_tags:\n",
    "    title.append(i.text)\n",
    "title[0:5]   "
   ]
  },
  {
   "cell_type": "markdown",
   "id": "mental-assets",
   "metadata": {},
   "source": [
    "### 2.5 Job Location"
   ]
  },
  {
   "cell_type": "markdown",
   "id": "mysterious-albert",
   "metadata": {},
   "source": [
    "### 2.5.1 Extracting all tags having job location"
   ]
  },
  {
   "cell_type": "code",
   "execution_count": 23,
   "id": "economic-doctrine",
   "metadata": {},
   "outputs": [
    {
     "data": {
      "text/plain": [
       "[<selenium.webdriver.remote.webelement.WebElement (session=\"decbfbf2d0f8949454f0b2cc2ccacc16\", element=\"474ba659-11be-4d8c-a62e-b57a0ed6617b\")>,\n",
       " <selenium.webdriver.remote.webelement.WebElement (session=\"decbfbf2d0f8949454f0b2cc2ccacc16\", element=\"6d223127-2569-4b4e-9e7a-2e2300cccd41\")>,\n",
       " <selenium.webdriver.remote.webelement.WebElement (session=\"decbfbf2d0f8949454f0b2cc2ccacc16\", element=\"27235fff-d128-4ef3-84fa-26de14f60162\")>,\n",
       " <selenium.webdriver.remote.webelement.WebElement (session=\"decbfbf2d0f8949454f0b2cc2ccacc16\", element=\"e912e6ff-e163-4238-afa4-abd04df22414\")>,\n",
       " <selenium.webdriver.remote.webelement.WebElement (session=\"decbfbf2d0f8949454f0b2cc2ccacc16\", element=\"617d8520-496c-4fed-a4f0-513ca154f213\")>]"
      ]
     },
     "execution_count": 23,
     "metadata": {},
     "output_type": "execute_result"
    }
   ],
   "source": [
    "location_tags=driver.find_elements_by_xpath(\"//li[@class='fleft grey-text br2 placeHolderLi location']/span[1]\")\n",
    "location_tags[0:5]"
   ]
  },
  {
   "cell_type": "markdown",
   "id": "transsexual-montana",
   "metadata": {},
   "source": [
    "### 2.5.2 Extarcting text from job location tag using for loop"
   ]
  },
  {
   "cell_type": "code",
   "execution_count": 24,
   "id": "sized-monitor",
   "metadata": {},
   "outputs": [
    {
     "data": {
      "text/plain": [
       "['Bangalore/Bengaluru',\n",
       " 'Bangalore/Bengaluru',\n",
       " 'Noida, Hyderabad/Secunderabad, Bangalore/Bengaluru',\n",
       " 'Mumbai, New Delhi, Chennai, Bangalore/Bengaluru',\n",
       " 'Mumbai, New Delhi, Chennai, Bangalore/Bengaluru']"
      ]
     },
     "execution_count": 24,
     "metadata": {},
     "output_type": "execute_result"
    }
   ],
   "source": [
    "location=[]\n",
    "for i in location_tags:\n",
    "    location.append(i.text)\n",
    "location[0:5]    "
   ]
  },
  {
   "cell_type": "markdown",
   "id": "dynamic-algorithm",
   "metadata": {},
   "source": [
    "### 2.6 company name"
   ]
  },
  {
   "cell_type": "markdown",
   "id": "meaning-tongue",
   "metadata": {},
   "source": [
    "### 2.6.1 Extracting all tags having company name"
   ]
  },
  {
   "cell_type": "code",
   "execution_count": 25,
   "id": "abroad-binding",
   "metadata": {},
   "outputs": [
    {
     "data": {
      "text/plain": [
       "[<selenium.webdriver.remote.webelement.WebElement (session=\"decbfbf2d0f8949454f0b2cc2ccacc16\", element=\"e4128130-c9c5-418e-953f-b8d094dcf027\")>,\n",
       " <selenium.webdriver.remote.webelement.WebElement (session=\"decbfbf2d0f8949454f0b2cc2ccacc16\", element=\"2c2145ed-fbf9-4609-8cc6-3af77d63abcf\")>,\n",
       " <selenium.webdriver.remote.webelement.WebElement (session=\"decbfbf2d0f8949454f0b2cc2ccacc16\", element=\"be2eed84-5ee6-4fca-86fc-f32bad09b21c\")>,\n",
       " <selenium.webdriver.remote.webelement.WebElement (session=\"decbfbf2d0f8949454f0b2cc2ccacc16\", element=\"d1f91142-5b25-4495-844a-e020cd5b49df\")>,\n",
       " <selenium.webdriver.remote.webelement.WebElement (session=\"decbfbf2d0f8949454f0b2cc2ccacc16\", element=\"6b7a93b8-8836-468b-986d-c2a7d1f6db5f\")>]"
      ]
     },
     "execution_count": 25,
     "metadata": {},
     "output_type": "execute_result"
    }
   ],
   "source": [
    "comp_name_tags=driver.find_elements_by_xpath(\"//a[@class='subTitle ellipsis fleft']\")\n",
    "comp_name_tags[0:5]"
   ]
  },
  {
   "cell_type": "markdown",
   "id": "supreme-stress",
   "metadata": {},
   "source": [
    "### 2.6.2 Extarcting text from company name tag using for loop\n",
    "\n"
   ]
  },
  {
   "cell_type": "code",
   "execution_count": 26,
   "id": "disturbed-panel",
   "metadata": {},
   "outputs": [
    {
     "data": {
      "text/plain": [
       "['CronJ IT Technologies Private Limited',\n",
       " 'AugmatrixGo',\n",
       " 'IBM India Pvt. Limited',\n",
       " 'Boston Consulting Group',\n",
       " 'Boston Consulting Group']"
      ]
     },
     "execution_count": 26,
     "metadata": {},
     "output_type": "execute_result"
    }
   ],
   "source": [
    "company_name=[]\n",
    "for i in comp_name_tags:\n",
    "    company_name.append(i.text)\n",
    "company_name[0:5]    "
   ]
  },
  {
   "cell_type": "markdown",
   "id": "single-spell",
   "metadata": {},
   "source": [
    "### 2.7 Full Job Description "
   ]
  },
  {
   "cell_type": "code",
   "execution_count": 27,
   "id": "stable-desire",
   "metadata": {},
   "outputs": [
    {
     "data": {
      "text/plain": [
       "[<selenium.webdriver.remote.webelement.WebElement (session=\"decbfbf2d0f8949454f0b2cc2ccacc16\", element=\"da626d20-9715-4b49-9541-bb04e04ca0e4\")>,\n",
       " <selenium.webdriver.remote.webelement.WebElement (session=\"decbfbf2d0f8949454f0b2cc2ccacc16\", element=\"7cb81249-80f7-4263-81aa-89a5cc638656\")>,\n",
       " <selenium.webdriver.remote.webelement.WebElement (session=\"decbfbf2d0f8949454f0b2cc2ccacc16\", element=\"b3719f0d-9113-450b-b66e-47726f7809ac\")>,\n",
       " <selenium.webdriver.remote.webelement.WebElement (session=\"decbfbf2d0f8949454f0b2cc2ccacc16\", element=\"d56937e8-9c75-4781-b5a9-b06ea51db9d5\")>,\n",
       " <selenium.webdriver.remote.webelement.WebElement (session=\"decbfbf2d0f8949454f0b2cc2ccacc16\", element=\"1748de75-ca2c-4455-9926-045279bbc383\")>]"
      ]
     },
     "execution_count": 27,
     "metadata": {},
     "output_type": "execute_result"
    }
   ],
   "source": [
    "job_desc_tags=driver.find_elements_by_xpath(\"//div[@class='job-description fs12 grey-text']\")\n",
    "job_desc_tags[0:5]"
   ]
  },
  {
   "cell_type": "code",
   "execution_count": 28,
   "id": "environmental-module",
   "metadata": {},
   "outputs": [
    {
     "data": {
      "text/plain": [
       "['Flexibility in working independently and do needful research whenever requiredGood Know...',\n",
       " 'BTech / MTech degree in from reputed institutes like IIT / NIT / BITSSkills Required : ...',\n",
       " 'Required Technical and Professional ExpertisePreferred Technical and Professional Exper...',\n",
       " 'Practice Area Profile BCG GAMMA combines innovative skills in computer science, artific...',\n",
       " 'What Youll Do We re looking for a passionate and talented Senior Data Scientist to join...']"
      ]
     },
     "execution_count": 28,
     "metadata": {},
     "output_type": "execute_result"
    }
   ],
   "source": [
    "### 2.7.2 Extarcting text from company name tag using for loop\n",
    "job_desc=[]\n",
    "for i in job_desc_tags:\n",
    "    job_desc.append(i.text)\n",
    "job_desc  [0:5] "
   ]
  },
  {
   "cell_type": "markdown",
   "id": "spatial-scenario",
   "metadata": {},
   "source": [
    "### 2.8 Checking for length of all tags"
   ]
  },
  {
   "cell_type": "code",
   "execution_count": 29,
   "id": "suburban-banks",
   "metadata": {},
   "outputs": [
    {
     "name": "stdout",
     "output_type": "stream",
     "text": [
      "20 20 20 20\n"
     ]
    }
   ],
   "source": [
    "print(len(title),len(location),len(company_name),len(job_desc))"
   ]
  },
  {
   "cell_type": "markdown",
   "id": "seventh-stamp",
   "metadata": {},
   "source": [
    "### 2.9 scrape the data for the first 10 jobs"
   ]
  },
  {
   "cell_type": "code",
   "execution_count": 30,
   "id": "realistic-young",
   "metadata": {},
   "outputs": [],
   "source": [
    "title=title[:-10]\n",
    "location=location[:-10]\n",
    "company_name=company_name[:-10]\n",
    "job_desc=job_desc[:-10]\n"
   ]
  },
  {
   "cell_type": "markdown",
   "id": "dental-authority",
   "metadata": {},
   "source": [
    "### 2.10 DataFraming using Pandas"
   ]
  },
  {
   "cell_type": "code",
   "execution_count": 31,
   "id": "blessed-pilot",
   "metadata": {},
   "outputs": [
    {
     "data": {
      "text/html": [
       "<div>\n",
       "<style scoped>\n",
       "    .dataframe tbody tr th:only-of-type {\n",
       "        vertical-align: middle;\n",
       "    }\n",
       "\n",
       "    .dataframe tbody tr th {\n",
       "        vertical-align: top;\n",
       "    }\n",
       "\n",
       "    .dataframe thead th {\n",
       "        text-align: right;\n",
       "    }\n",
       "</style>\n",
       "<table border=\"1\" class=\"dataframe\">\n",
       "  <thead>\n",
       "    <tr style=\"text-align: right;\">\n",
       "      <th></th>\n",
       "      <th>job title</th>\n",
       "      <th>location</th>\n",
       "      <th>company name</th>\n",
       "      <th>job description</th>\n",
       "    </tr>\n",
       "  </thead>\n",
       "  <tbody>\n",
       "    <tr>\n",
       "      <th>0</th>\n",
       "      <td>Data Scientist</td>\n",
       "      <td>Bangalore/Bengaluru</td>\n",
       "      <td>CronJ IT Technologies Private Limited</td>\n",
       "      <td>Flexibility in working independently and do ne...</td>\n",
       "    </tr>\n",
       "    <tr>\n",
       "      <th>1</th>\n",
       "      <td>Data Scientist - Machine Learning</td>\n",
       "      <td>Bangalore/Bengaluru</td>\n",
       "      <td>AugmatrixGo</td>\n",
       "      <td>BTech / MTech degree in from reputed institute...</td>\n",
       "    </tr>\n",
       "    <tr>\n",
       "      <th>2</th>\n",
       "      <td>Data Scientist - IBM Garage</td>\n",
       "      <td>Noida, Hyderabad/Secunderabad, Bangalore/Benga...</td>\n",
       "      <td>IBM India Pvt. Limited</td>\n",
       "      <td>Required Technical and Professional ExpertiseP...</td>\n",
       "    </tr>\n",
       "    <tr>\n",
       "      <th>3</th>\n",
       "      <td>GAMMA Lead Data Scientist</td>\n",
       "      <td>Mumbai, New Delhi, Chennai, Bangalore/Bengaluru</td>\n",
       "      <td>Boston Consulting Group</td>\n",
       "      <td>Practice Area Profile BCG GAMMA combines innov...</td>\n",
       "    </tr>\n",
       "    <tr>\n",
       "      <th>4</th>\n",
       "      <td>DBCG IND - GAMMA Senior Data Scientist</td>\n",
       "      <td>Mumbai, New Delhi, Chennai, Bangalore/Bengaluru</td>\n",
       "      <td>Boston Consulting Group</td>\n",
       "      <td>What Youll Do We re looking for a passionate a...</td>\n",
       "    </tr>\n",
       "    <tr>\n",
       "      <th>5</th>\n",
       "      <td>Data Scientist/Senior Data Scientist</td>\n",
       "      <td>Hyderabad/Secunderabad, Pune, Chennai, Bangalo...</td>\n",
       "      <td>GANIT BUSINESS SOLUTIONS PRIVATE LIMITED</td>\n",
       "      <td>Bachelors / Masters degree in Engineering / Te...</td>\n",
       "    </tr>\n",
       "    <tr>\n",
       "      <th>6</th>\n",
       "      <td>Senior Data Scientist | CES IT LTD | CMMI Level 5</td>\n",
       "      <td>Kolkata, Mumbai, Hyderabad/Secunderabad, Pune,...</td>\n",
       "      <td>CES Ltd.</td>\n",
       "      <td>Logical and Analytical skills must be really s...</td>\n",
       "    </tr>\n",
       "    <tr>\n",
       "      <th>7</th>\n",
       "      <td>Data Scientist</td>\n",
       "      <td>Bangalore/Bengaluru</td>\n",
       "      <td>Schneider Electric India Pvt. Ltd.</td>\n",
       "      <td>In-depth understanding and modeling experience...</td>\n",
       "    </tr>\n",
       "    <tr>\n",
       "      <th>8</th>\n",
       "      <td>Associate Data Scientist - CRM &amp; Loyalty</td>\n",
       "      <td>Bangalore/Bengaluru</td>\n",
       "      <td>Shell India Markets Private Limited</td>\n",
       "      <td>The RoleGeneral Position DefinitionThis role w...</td>\n",
       "    </tr>\n",
       "    <tr>\n",
       "      <th>9</th>\n",
       "      <td>Data Scientist - Business Analytics</td>\n",
       "      <td>Bangalore/Bengaluru</td>\n",
       "      <td>Philips India Limited</td>\n",
       "      <td>Experience in the areas of analytics, exposure...</td>\n",
       "    </tr>\n",
       "  </tbody>\n",
       "</table>\n",
       "</div>"
      ],
      "text/plain": [
       "                                           job title  \\\n",
       "0                                     Data Scientist   \n",
       "1                  Data Scientist - Machine Learning   \n",
       "2                        Data Scientist - IBM Garage   \n",
       "3                          GAMMA Lead Data Scientist   \n",
       "4             DBCG IND - GAMMA Senior Data Scientist   \n",
       "5               Data Scientist/Senior Data Scientist   \n",
       "6  Senior Data Scientist | CES IT LTD | CMMI Level 5   \n",
       "7                                     Data Scientist   \n",
       "8           Associate Data Scientist - CRM & Loyalty   \n",
       "9                Data Scientist - Business Analytics   \n",
       "\n",
       "                                            location  \\\n",
       "0                                Bangalore/Bengaluru   \n",
       "1                                Bangalore/Bengaluru   \n",
       "2  Noida, Hyderabad/Secunderabad, Bangalore/Benga...   \n",
       "3    Mumbai, New Delhi, Chennai, Bangalore/Bengaluru   \n",
       "4    Mumbai, New Delhi, Chennai, Bangalore/Bengaluru   \n",
       "5  Hyderabad/Secunderabad, Pune, Chennai, Bangalo...   \n",
       "6  Kolkata, Mumbai, Hyderabad/Secunderabad, Pune,...   \n",
       "7                                Bangalore/Bengaluru   \n",
       "8                                Bangalore/Bengaluru   \n",
       "9                                Bangalore/Bengaluru   \n",
       "\n",
       "                               company name  \\\n",
       "0     CronJ IT Technologies Private Limited   \n",
       "1                               AugmatrixGo   \n",
       "2                    IBM India Pvt. Limited   \n",
       "3                   Boston Consulting Group   \n",
       "4                   Boston Consulting Group   \n",
       "5  GANIT BUSINESS SOLUTIONS PRIVATE LIMITED   \n",
       "6                                  CES Ltd.   \n",
       "7        Schneider Electric India Pvt. Ltd.   \n",
       "8       Shell India Markets Private Limited   \n",
       "9                     Philips India Limited   \n",
       "\n",
       "                                     job description  \n",
       "0  Flexibility in working independently and do ne...  \n",
       "1  BTech / MTech degree in from reputed institute...  \n",
       "2  Required Technical and Professional ExpertiseP...  \n",
       "3  Practice Area Profile BCG GAMMA combines innov...  \n",
       "4  What Youll Do We re looking for a passionate a...  \n",
       "5  Bachelors / Masters degree in Engineering / Te...  \n",
       "6  Logical and Analytical skills must be really s...  \n",
       "7  In-depth understanding and modeling experience...  \n",
       "8  The RoleGeneral Position DefinitionThis role w...  \n",
       "9  Experience in the areas of analytics, exposure...  "
      ]
     },
     "execution_count": 31,
     "metadata": {},
     "output_type": "execute_result"
    }
   ],
   "source": [
    "jobs=pd.DataFrame({})\n",
    "jobs[\"job title\"]=title\n",
    "jobs[\"location\"]=location\n",
    "jobs[\"company name\"]=company_name\n",
    "jobs[\"job description\"]=job_desc\n",
    "jobs"
   ]
  },
  {
   "cell_type": "markdown",
   "id": "boxed-disabled",
   "metadata": {},
   "source": [
    "### 2.11 closing the drive"
   ]
  },
  {
   "cell_type": "code",
   "execution_count": 32,
   "id": "competent-consent",
   "metadata": {},
   "outputs": [],
   "source": [
    "driver.close()"
   ]
  },
  {
   "cell_type": "markdown",
   "id": "biblical-shower",
   "metadata": {},
   "source": [
    "# 3. python program to scrape data using the filters available"
   ]
  },
  {
   "cell_type": "markdown",
   "id": "progressive-textbook",
   "metadata": {},
   "source": [
    "### 3.1 Connecting to web driver"
   ]
  },
  {
   "cell_type": "code",
   "execution_count": 25,
   "id": "traditional-disabled",
   "metadata": {},
   "outputs": [],
   "source": [
    "driver=webdriver.Chrome(r\"c://chromedriver.exe\")"
   ]
  },
  {
   "cell_type": "markdown",
   "id": "coral-prairie",
   "metadata": {},
   "source": [
    "### 3.2 Getting the webpage"
   ]
  },
  {
   "cell_type": "code",
   "execution_count": 26,
   "id": "beneficial-aggregate",
   "metadata": {},
   "outputs": [],
   "source": [
    "driver.get(\"https://www.naukri.com/\")"
   ]
  },
  {
   "cell_type": "markdown",
   "id": "reasonable-sequence",
   "metadata": {},
   "source": [
    "### 3.3 Finding Element for job search bar"
   ]
  },
  {
   "cell_type": "code",
   "execution_count": 27,
   "id": "urban-reynolds",
   "metadata": {},
   "outputs": [],
   "source": [
    "search_job=driver.find_element_by_id(\"qsb-keyword-sugg\")\n",
    "search_job.send_keys(\"Data Scientist\")\n",
    "search_button=driver.find_element_by_xpath(\"//div[@class='search-btn']/button\")\n",
    "search_button.click()"
   ]
  },
  {
   "cell_type": "markdown",
   "id": "military-catch",
   "metadata": {},
   "source": [
    "### 3.4 Finding loaction and salary for the respective filter"
   ]
  },
  {
   "cell_type": "code",
   "execution_count": 28,
   "id": "large-detroit",
   "metadata": {},
   "outputs": [],
   "source": [
    "location_filter=driver.find_element_by_xpath(\"//span[@class='ellipsis fleft' and @title='Delhi / NCR']\")\n",
    "location_filter.click()"
   ]
  },
  {
   "cell_type": "code",
   "execution_count": 29,
   "id": "suited-liability",
   "metadata": {},
   "outputs": [],
   "source": [
    "salary_filter=driver.find_element_by_xpath(\"//span[@class='ellipsis fleft' and @title='3-6 Lakhs']\")\n",
    "salary_filter.click()"
   ]
  },
  {
   "cell_type": "markdown",
   "id": "supported-reserve",
   "metadata": {},
   "source": [
    "### 3.5 Job Title"
   ]
  },
  {
   "cell_type": "markdown",
   "id": "behavioral-algebra",
   "metadata": {},
   "source": [
    "### 3.5.1 Extracting all tags having job title"
   ]
  },
  {
   "cell_type": "code",
   "execution_count": 30,
   "id": "seventh-asian",
   "metadata": {},
   "outputs": [
    {
     "data": {
      "text/plain": [
       "[<selenium.webdriver.remote.webelement.WebElement (session=\"bcab4832ac4b2402d84747bbafdcf59e\", element=\"21e471d3-4f7f-411e-8f45-e63eeb1541bf\")>,\n",
       " <selenium.webdriver.remote.webelement.WebElement (session=\"bcab4832ac4b2402d84747bbafdcf59e\", element=\"082822c4-f77c-4637-b2c7-b96fc6f6992b\")>,\n",
       " <selenium.webdriver.remote.webelement.WebElement (session=\"bcab4832ac4b2402d84747bbafdcf59e\", element=\"779bbea3-da7e-4d3d-a0fb-0295d297895a\")>,\n",
       " <selenium.webdriver.remote.webelement.WebElement (session=\"bcab4832ac4b2402d84747bbafdcf59e\", element=\"3749a115-54ed-452f-9af5-766cae491819\")>,\n",
       " <selenium.webdriver.remote.webelement.WebElement (session=\"bcab4832ac4b2402d84747bbafdcf59e\", element=\"aa443d9e-b8a8-475a-ab9a-ddca1d8d0bfd\")>]"
      ]
     },
     "execution_count": 30,
     "metadata": {},
     "output_type": "execute_result"
    }
   ],
   "source": [
    "title_tags=driver.find_elements_by_xpath(\"//a[@class='title fw500 ellipsis']\")\n",
    "title_tags[0:5]"
   ]
  },
  {
   "cell_type": "markdown",
   "id": "specific-liver",
   "metadata": {},
   "source": [
    "### 3.5.2 Extarcting text from job title tag using for loop"
   ]
  },
  {
   "cell_type": "code",
   "execution_count": 31,
   "id": "convenient-favor",
   "metadata": {},
   "outputs": [
    {
     "data": {
      "text/plain": [
       "['Developer - Data Science',\n",
       " 'Required- Data Scientist (NLP)-Axis Bank - 6 months contract',\n",
       " 'Data Scientist/Data Analyst - Python/Machine Learning',\n",
       " 'Data Scientist',\n",
       " 'Data Scientist - Python & Machine Learning']"
      ]
     },
     "execution_count": 31,
     "metadata": {},
     "output_type": "execute_result"
    }
   ],
   "source": [
    "title=[]\n",
    "for i in title_tags:\n",
    "    title.append(i.text)\n",
    "title[0:5]    "
   ]
  },
  {
   "cell_type": "markdown",
   "id": "smart-oliver",
   "metadata": {},
   "source": [
    "### 3.6 Job Location"
   ]
  },
  {
   "cell_type": "markdown",
   "id": "systematic-height",
   "metadata": {},
   "source": [
    "### 3.6.1 Extracting all tags having job location"
   ]
  },
  {
   "cell_type": "code",
   "execution_count": 32,
   "id": "royal-motorcycle",
   "metadata": {},
   "outputs": [
    {
     "data": {
      "text/plain": [
       "[<selenium.webdriver.remote.webelement.WebElement (session=\"bcab4832ac4b2402d84747bbafdcf59e\", element=\"71f214e8-fcfc-4f78-a4ab-f4e44bcd86b2\")>,\n",
       " <selenium.webdriver.remote.webelement.WebElement (session=\"bcab4832ac4b2402d84747bbafdcf59e\", element=\"4c0df3d1-4685-4f75-99e8-a9ae46de0cbb\")>,\n",
       " <selenium.webdriver.remote.webelement.WebElement (session=\"bcab4832ac4b2402d84747bbafdcf59e\", element=\"2048e3fd-a33c-4f6c-8a0a-4ff3edf02337\")>,\n",
       " <selenium.webdriver.remote.webelement.WebElement (session=\"bcab4832ac4b2402d84747bbafdcf59e\", element=\"ea5c41ed-fa6a-4ead-a239-9d3b46be692e\")>,\n",
       " <selenium.webdriver.remote.webelement.WebElement (session=\"bcab4832ac4b2402d84747bbafdcf59e\", element=\"6e51ac99-d6ef-4ae5-8acc-623930de25f0\")>]"
      ]
     },
     "execution_count": 32,
     "metadata": {},
     "output_type": "execute_result"
    }
   ],
   "source": [
    "location_tags=driver.find_elements_by_xpath(\"//li[@class='fleft grey-text br2 placeHolderLi location']/span[1]\")\n",
    "location_tags[0:5]"
   ]
  },
  {
   "cell_type": "markdown",
   "id": "piano-strike",
   "metadata": {},
   "source": [
    "### 3.6.2 Extracting text from job location tag using for loop"
   ]
  },
  {
   "cell_type": "code",
   "execution_count": 33,
   "id": "mechanical-courtesy",
   "metadata": {},
   "outputs": [
    {
     "data": {
      "text/plain": [
       "['Delhi / NCR',\n",
       " 'Kolkata, New Delhi, Hyderabad/Secunderabad, Pune, Chennai, Bangalore/Bengaluru, Mumbai (All Areas)',\n",
       " 'Mumbai, Ghaziabad',\n",
       " 'Ghaziabad, Faridabad, Delhi / NCR',\n",
       " 'Hyderabad/Secunderabad, Pune, Bangalore/Bengaluru, Delhi / NCR, Mumbai (All Areas)']"
      ]
     },
     "execution_count": 33,
     "metadata": {},
     "output_type": "execute_result"
    }
   ],
   "source": [
    "location=[]\n",
    "for i in location_tags:\n",
    "    location.append(i.text)\n",
    "location[0:5] "
   ]
  },
  {
   "cell_type": "markdown",
   "id": "recorded-harbor",
   "metadata": {},
   "source": [
    "### 3.7 company name"
   ]
  },
  {
   "cell_type": "markdown",
   "id": "popular-external",
   "metadata": {},
   "source": [
    "### 3.7.1 Extracting all tags having company name"
   ]
  },
  {
   "cell_type": "code",
   "execution_count": 34,
   "id": "planned-pharmacology",
   "metadata": {},
   "outputs": [
    {
     "data": {
      "text/plain": [
       "[<selenium.webdriver.remote.webelement.WebElement (session=\"bcab4832ac4b2402d84747bbafdcf59e\", element=\"9c6179a7-7ed3-4aba-bf27-1007c577b118\")>,\n",
       " <selenium.webdriver.remote.webelement.WebElement (session=\"bcab4832ac4b2402d84747bbafdcf59e\", element=\"6858005f-ed58-4fba-8779-da6474cd8293\")>,\n",
       " <selenium.webdriver.remote.webelement.WebElement (session=\"bcab4832ac4b2402d84747bbafdcf59e\", element=\"27c1ade6-f43e-48aa-8d3d-2ee402d78d0c\")>,\n",
       " <selenium.webdriver.remote.webelement.WebElement (session=\"bcab4832ac4b2402d84747bbafdcf59e\", element=\"41e72727-98da-47d7-8a88-2ac87bef27a0\")>,\n",
       " <selenium.webdriver.remote.webelement.WebElement (session=\"bcab4832ac4b2402d84747bbafdcf59e\", element=\"0f6bb1a7-8a2f-45a9-aba0-af49d2a14ce8\")>]"
      ]
     },
     "execution_count": 34,
     "metadata": {},
     "output_type": "execute_result"
    }
   ],
   "source": [
    "comp_name_tags=driver.find_elements_by_xpath(\"//a[@class='subTitle ellipsis fleft']\")\n",
    "comp_name_tags[0:5]"
   ]
  },
  {
   "cell_type": "markdown",
   "id": "cubic-vermont",
   "metadata": {},
   "source": [
    "### 3.7.1 Extarcting text from company name tag using for loop"
   ]
  },
  {
   "cell_type": "code",
   "execution_count": 35,
   "id": "reliable-leave",
   "metadata": {},
   "outputs": [
    {
     "data": {
      "text/plain": [
       "['ICL Systems India Private Limited',\n",
       " 'Axis Bank Limited',\n",
       " 'Change leaders',\n",
       " 'Amity University',\n",
       " 'FUTURES AND CAREERS']"
      ]
     },
     "execution_count": 35,
     "metadata": {},
     "output_type": "execute_result"
    }
   ],
   "source": [
    "company_name=[]\n",
    "for i in comp_name_tags:\n",
    "    company_name.append(i.text)\n",
    "company_name[0:5]    "
   ]
  },
  {
   "cell_type": "markdown",
   "id": "cooperative-thomas",
   "metadata": {},
   "source": [
    "### 3.8 Experience Required"
   ]
  },
  {
   "cell_type": "markdown",
   "id": "practical-wagner",
   "metadata": {},
   "source": [
    "### 3.8.1 Extracting all tags having Experience"
   ]
  },
  {
   "cell_type": "code",
   "execution_count": 36,
   "id": "synthetic-aluminum",
   "metadata": {},
   "outputs": [
    {
     "data": {
      "text/plain": [
       "[<selenium.webdriver.remote.webelement.WebElement (session=\"bcab4832ac4b2402d84747bbafdcf59e\", element=\"a4364b50-1dc4-44ef-8956-67b82dba68f2\")>,\n",
       " <selenium.webdriver.remote.webelement.WebElement (session=\"bcab4832ac4b2402d84747bbafdcf59e\", element=\"23ccd7bb-96df-424b-b01c-2b074fd9ba3c\")>,\n",
       " <selenium.webdriver.remote.webelement.WebElement (session=\"bcab4832ac4b2402d84747bbafdcf59e\", element=\"da4cc75d-8d76-4ab8-a2fa-50b97ee68e9a\")>,\n",
       " <selenium.webdriver.remote.webelement.WebElement (session=\"bcab4832ac4b2402d84747bbafdcf59e\", element=\"0304bbe1-62f0-4ced-9657-5b46a22e095b\")>,\n",
       " <selenium.webdriver.remote.webelement.WebElement (session=\"bcab4832ac4b2402d84747bbafdcf59e\", element=\"8a521f34-e1cc-4f79-b05c-c0d8ca49c43e\")>]"
      ]
     },
     "execution_count": 36,
     "metadata": {},
     "output_type": "execute_result"
    }
   ],
   "source": [
    "experience_tags=driver.find_elements_by_xpath(\"//li[@class='fleft grey-text br2 placeHolderLi experience']/span[1]\")\n",
    "experience_tags[0:5]"
   ]
  },
  {
   "cell_type": "markdown",
   "id": "recreational-banner",
   "metadata": {},
   "source": [
    "### 3.8.2 Extarcting text from Experience tag using for loop"
   ]
  },
  {
   "cell_type": "code",
   "execution_count": 37,
   "id": "correct-shock",
   "metadata": {},
   "outputs": [
    {
     "data": {
      "text/plain": [
       "['3-5 Yrs', '4-9 Yrs', '5-10 Yrs', '6-8 Yrs', '2-7 Yrs']"
      ]
     },
     "execution_count": 37,
     "metadata": {},
     "output_type": "execute_result"
    }
   ],
   "source": [
    "experience=[]\n",
    "for i in experience_tags:\n",
    "    experience.append(i.text)\n",
    "experience[0:5] "
   ]
  },
  {
   "cell_type": "markdown",
   "id": "headed-forward",
   "metadata": {},
   "source": [
    "### 3.9 Checking for length of all tags"
   ]
  },
  {
   "cell_type": "code",
   "execution_count": 38,
   "id": "fixed-scope",
   "metadata": {},
   "outputs": [
    {
     "name": "stdout",
     "output_type": "stream",
     "text": [
      "21 21 21 21\n"
     ]
    }
   ],
   "source": [
    "print(len(title),len(location),len(company_name),len(experience))"
   ]
  },
  {
   "cell_type": "markdown",
   "id": "finnish-backing",
   "metadata": {},
   "source": [
    "### 3.10 scrape the data for the first 10 jobs"
   ]
  },
  {
   "cell_type": "code",
   "execution_count": 39,
   "id": "eleven-structure",
   "metadata": {},
   "outputs": [],
   "source": [
    "title=title[:-11]\n",
    "location=location[:-11]\n",
    "company_name=company_name[:-11]\n",
    "experience=experience[:-11]"
   ]
  },
  {
   "cell_type": "markdown",
   "id": "funny-china",
   "metadata": {},
   "source": [
    "### 3.11 DataFraming using Pandas"
   ]
  },
  {
   "cell_type": "code",
   "execution_count": 40,
   "id": "listed-wyoming",
   "metadata": {
    "scrolled": true
   },
   "outputs": [
    {
     "data": {
      "text/html": [
       "<div>\n",
       "<style scoped>\n",
       "    .dataframe tbody tr th:only-of-type {\n",
       "        vertical-align: middle;\n",
       "    }\n",
       "\n",
       "    .dataframe tbody tr th {\n",
       "        vertical-align: top;\n",
       "    }\n",
       "\n",
       "    .dataframe thead th {\n",
       "        text-align: right;\n",
       "    }\n",
       "</style>\n",
       "<table border=\"1\" class=\"dataframe\">\n",
       "  <thead>\n",
       "    <tr style=\"text-align: right;\">\n",
       "      <th></th>\n",
       "      <th>job title</th>\n",
       "      <th>location</th>\n",
       "      <th>company name</th>\n",
       "      <th>experience</th>\n",
       "    </tr>\n",
       "  </thead>\n",
       "  <tbody>\n",
       "    <tr>\n",
       "      <th>0</th>\n",
       "      <td>Developer - Data Science</td>\n",
       "      <td>Delhi / NCR</td>\n",
       "      <td>ICL Systems India Private Limited</td>\n",
       "      <td>3-5 Yrs</td>\n",
       "    </tr>\n",
       "    <tr>\n",
       "      <th>1</th>\n",
       "      <td>Required- Data Scientist (NLP)-Axis Bank - 6 m...</td>\n",
       "      <td>Kolkata, New Delhi, Hyderabad/Secunderabad, Pu...</td>\n",
       "      <td>Axis Bank Limited</td>\n",
       "      <td>4-9 Yrs</td>\n",
       "    </tr>\n",
       "    <tr>\n",
       "      <th>2</th>\n",
       "      <td>Data Scientist/Data Analyst - Python/Machine L...</td>\n",
       "      <td>Mumbai, Ghaziabad</td>\n",
       "      <td>Change leaders</td>\n",
       "      <td>5-10 Yrs</td>\n",
       "    </tr>\n",
       "    <tr>\n",
       "      <th>3</th>\n",
       "      <td>Data Scientist</td>\n",
       "      <td>Ghaziabad, Faridabad, Delhi / NCR</td>\n",
       "      <td>Amity University</td>\n",
       "      <td>6-8 Yrs</td>\n",
       "    </tr>\n",
       "    <tr>\n",
       "      <th>4</th>\n",
       "      <td>Data Scientist - Python &amp; Machine Learning</td>\n",
       "      <td>Hyderabad/Secunderabad, Pune, Bangalore/Bengal...</td>\n",
       "      <td>FUTURES AND CAREERS</td>\n",
       "      <td>2-7 Yrs</td>\n",
       "    </tr>\n",
       "    <tr>\n",
       "      <th>5</th>\n",
       "      <td>Data Scientist - Python &amp; Machine Learning</td>\n",
       "      <td>Hyderabad/Secunderabad, Bangalore/Bengaluru, D...</td>\n",
       "      <td>FUTURES AND CAREERS</td>\n",
       "      <td>2-7 Yrs</td>\n",
       "    </tr>\n",
       "    <tr>\n",
       "      <th>6</th>\n",
       "      <td>Data Scientist - Machine Learning/ NLP</td>\n",
       "      <td>Gurgaon/Gurugram</td>\n",
       "      <td>TalPro</td>\n",
       "      <td>2-6 Yrs</td>\n",
       "    </tr>\n",
       "    <tr>\n",
       "      <th>7</th>\n",
       "      <td>Hiring For Data Scientist</td>\n",
       "      <td>Gurgaon/Gurugram, Delhi / NCR</td>\n",
       "      <td>Max Bupa Health Insurance Company Limited</td>\n",
       "      <td>1-6 Yrs</td>\n",
       "    </tr>\n",
       "    <tr>\n",
       "      <th>8</th>\n",
       "      <td>Data Scientist - Python / Machine Learning / T...</td>\n",
       "      <td>Hyderabad/Secunderabad, Bangalore/Bengaluru, D...</td>\n",
       "      <td>FUTURES AND CAREERS</td>\n",
       "      <td>3-8 Yrs</td>\n",
       "    </tr>\n",
       "    <tr>\n",
       "      <th>9</th>\n",
       "      <td>Data Scientist - Python &amp; Machine Learning (IS...</td>\n",
       "      <td>Hyderabad/Secunderabad, Bangalore/Bengaluru, D...</td>\n",
       "      <td>FUTURES AND CAREERS</td>\n",
       "      <td>3-8 Yrs</td>\n",
       "    </tr>\n",
       "  </tbody>\n",
       "</table>\n",
       "</div>"
      ],
      "text/plain": [
       "                                           job title  \\\n",
       "0                           Developer - Data Science   \n",
       "1  Required- Data Scientist (NLP)-Axis Bank - 6 m...   \n",
       "2  Data Scientist/Data Analyst - Python/Machine L...   \n",
       "3                                     Data Scientist   \n",
       "4         Data Scientist - Python & Machine Learning   \n",
       "5         Data Scientist - Python & Machine Learning   \n",
       "6             Data Scientist - Machine Learning/ NLP   \n",
       "7                          Hiring For Data Scientist   \n",
       "8  Data Scientist - Python / Machine Learning / T...   \n",
       "9  Data Scientist - Python & Machine Learning (IS...   \n",
       "\n",
       "                                            location  \\\n",
       "0                                        Delhi / NCR   \n",
       "1  Kolkata, New Delhi, Hyderabad/Secunderabad, Pu...   \n",
       "2                                  Mumbai, Ghaziabad   \n",
       "3                  Ghaziabad, Faridabad, Delhi / NCR   \n",
       "4  Hyderabad/Secunderabad, Pune, Bangalore/Bengal...   \n",
       "5  Hyderabad/Secunderabad, Bangalore/Bengaluru, D...   \n",
       "6                                   Gurgaon/Gurugram   \n",
       "7                      Gurgaon/Gurugram, Delhi / NCR   \n",
       "8  Hyderabad/Secunderabad, Bangalore/Bengaluru, D...   \n",
       "9  Hyderabad/Secunderabad, Bangalore/Bengaluru, D...   \n",
       "\n",
       "                                company name experience  \n",
       "0          ICL Systems India Private Limited    3-5 Yrs  \n",
       "1                          Axis Bank Limited    4-9 Yrs  \n",
       "2                             Change leaders   5-10 Yrs  \n",
       "3                           Amity University    6-8 Yrs  \n",
       "4                        FUTURES AND CAREERS    2-7 Yrs  \n",
       "5                        FUTURES AND CAREERS    2-7 Yrs  \n",
       "6                                     TalPro    2-6 Yrs  \n",
       "7  Max Bupa Health Insurance Company Limited    1-6 Yrs  \n",
       "8                        FUTURES AND CAREERS    3-8 Yrs  \n",
       "9                        FUTURES AND CAREERS    3-8 Yrs  "
      ]
     },
     "execution_count": 40,
     "metadata": {},
     "output_type": "execute_result"
    }
   ],
   "source": [
    "jobs=pd.DataFrame({})\n",
    "jobs[\"job title\"]=title\n",
    "jobs[\"location\"]=location\n",
    "jobs[\"company name\"]=company_name\n",
    "jobs[\"experience\"]=experience\n",
    "jobs"
   ]
  },
  {
   "cell_type": "markdown",
   "id": "passive-diploma",
   "metadata": {},
   "source": [
    "### 3.12 closing the drive"
   ]
  },
  {
   "cell_type": "code",
   "execution_count": 41,
   "id": "vietnamese-latitude",
   "metadata": {},
   "outputs": [],
   "source": [
    "driver.close()"
   ]
  },
  {
   "cell_type": "markdown",
   "id": "defensive-singles",
   "metadata": {},
   "source": [
    "# 4. python program to scrape data for first 10 job results for Data scientist Designation in Noida location."
   ]
  },
  {
   "cell_type": "markdown",
   "id": "requested-breakfast",
   "metadata": {},
   "source": [
    "### 4.1 Connecting to web driver"
   ]
  },
  {
   "cell_type": "code",
   "execution_count": 42,
   "id": "grave-outdoors",
   "metadata": {},
   "outputs": [],
   "source": [
    "driver=webdriver.Chrome(r\"c://chromedriver.exe\")"
   ]
  },
  {
   "cell_type": "markdown",
   "id": "facial-screen",
   "metadata": {},
   "source": [
    "### 4.2 Getting the webpage"
   ]
  },
  {
   "cell_type": "code",
   "execution_count": 43,
   "id": "better-beijing",
   "metadata": {},
   "outputs": [],
   "source": [
    "driver.get(\"https://www.glassdoor.co.in/index.htm\")"
   ]
  },
  {
   "cell_type": "markdown",
   "id": "meaning-plane",
   "metadata": {},
   "source": [
    "### 4.3 Finding Element for job search bar"
   ]
  },
  {
   "cell_type": "code",
   "execution_count": 44,
   "id": "short-defeat",
   "metadata": {},
   "outputs": [],
   "source": [
    "search_job=driver.find_element_by_xpath(\"//input[@id='sc.keyword']\")\n",
    "search_job.send_keys(\"Data Scientist\")\n",
    "search_location=driver.find_element_by_xpath(\"//input[@id='sc.location']\")\n",
    "search_location.send_keys(\"Noida\")\n",
    "search_button=driver.find_element_by_xpath(\"//button[@class='gd-ui-button ml-std col-auto SearchStyles__newSearchButton css-iixdfr']\")\n",
    "search_button.click()"
   ]
  },
  {
   "cell_type": "markdown",
   "id": "muslim-arnold",
   "metadata": {},
   "source": [
    "### 4.4 Company Name"
   ]
  },
  {
   "cell_type": "markdown",
   "id": "precise-print",
   "metadata": {},
   "source": [
    "### 4.4.1 Extracting all tags having Company Name"
   ]
  },
  {
   "cell_type": "code",
   "execution_count": 45,
   "id": "pursuant-modem",
   "metadata": {},
   "outputs": [
    {
     "data": {
      "text/plain": [
       "[<selenium.webdriver.remote.webelement.WebElement (session=\"5d692c3a601a82b4cb4f3df997d6a54c\", element=\"530b1757-9e3d-412a-8793-fc6b644f71b5\")>,\n",
       " <selenium.webdriver.remote.webelement.WebElement (session=\"5d692c3a601a82b4cb4f3df997d6a54c\", element=\"bdd7768c-30d0-4b4f-91cb-e5e24576647c\")>,\n",
       " <selenium.webdriver.remote.webelement.WebElement (session=\"5d692c3a601a82b4cb4f3df997d6a54c\", element=\"2f54972a-d5ab-4a02-9481-c2357a99c0d7\")>,\n",
       " <selenium.webdriver.remote.webelement.WebElement (session=\"5d692c3a601a82b4cb4f3df997d6a54c\", element=\"86994b49-2091-44f7-afa2-e839e27ac60c\")>,\n",
       " <selenium.webdriver.remote.webelement.WebElement (session=\"5d692c3a601a82b4cb4f3df997d6a54c\", element=\"e9ab52ff-b0eb-4095-9c14-b88bd32c92f3\")>]"
      ]
     },
     "execution_count": 45,
     "metadata": {},
     "output_type": "execute_result"
    }
   ],
   "source": [
    "comp_name_tags=driver.find_elements_by_xpath(\"//div[@class='d-flex justify-content-between align-items-start']\")\n",
    "comp_name_tags[0:5]"
   ]
  },
  {
   "cell_type": "markdown",
   "id": "fallen-radar",
   "metadata": {},
   "source": [
    "### 4.4.2 Extracting text from company name tag using for loop"
   ]
  },
  {
   "cell_type": "code",
   "execution_count": 46,
   "id": "monetary-jordan",
   "metadata": {},
   "outputs": [
    {
     "data": {
      "text/plain": [
       "['Adobe',\n",
       " 'Biz2Credit Inc',\n",
       " 'Salasar New Age Technologies',\n",
       " 'Innovaccer Analytics Private Limited',\n",
       " 'Techlive']"
      ]
     },
     "execution_count": 46,
     "metadata": {},
     "output_type": "execute_result"
    }
   ],
   "source": [
    "company_name=[]\n",
    "for i in comp_name_tags:\n",
    "    company_name.append(i.text)\n",
    "company_name[0:5]    "
   ]
  },
  {
   "cell_type": "markdown",
   "id": "wanted-sperm",
   "metadata": {},
   "source": [
    "### 4.5 No. of days ago when job was posted"
   ]
  },
  {
   "cell_type": "markdown",
   "id": "reduced-scott",
   "metadata": {},
   "source": [
    "### 4.5.1 Extracting all tags having job age"
   ]
  },
  {
   "cell_type": "code",
   "execution_count": 47,
   "id": "considerable-forth",
   "metadata": {},
   "outputs": [
    {
     "data": {
      "text/plain": [
       "[<selenium.webdriver.remote.webelement.WebElement (session=\"5d692c3a601a82b4cb4f3df997d6a54c\", element=\"8d2418c6-a492-4ffd-876a-5f359069c301\")>,\n",
       " <selenium.webdriver.remote.webelement.WebElement (session=\"5d692c3a601a82b4cb4f3df997d6a54c\", element=\"cb8a8356-c739-467f-a427-09dee4f76a31\")>,\n",
       " <selenium.webdriver.remote.webelement.WebElement (session=\"5d692c3a601a82b4cb4f3df997d6a54c\", element=\"61da1115-957c-4dd1-a4b3-52f8ef89bba7\")>,\n",
       " <selenium.webdriver.remote.webelement.WebElement (session=\"5d692c3a601a82b4cb4f3df997d6a54c\", element=\"5bcf7bdd-e3ff-43e2-88f8-af3cf8f3b610\")>,\n",
       " <selenium.webdriver.remote.webelement.WebElement (session=\"5d692c3a601a82b4cb4f3df997d6a54c\", element=\"c3df5f1e-925d-455b-9a6b-ef6a952bb1c1\")>]"
      ]
     },
     "execution_count": 47,
     "metadata": {},
     "output_type": "execute_result"
    }
   ],
   "source": [
    "job_age_tags=driver.find_elements_by_xpath(\"//div[@class='d-flex align-items-end pl-std css-mi55ob']\")\n",
    "job_age_tags[0:5]"
   ]
  },
  {
   "cell_type": "markdown",
   "id": "original-debut",
   "metadata": {},
   "source": [
    "### 4.5.2 Extracting text from job age tag using for loop"
   ]
  },
  {
   "cell_type": "code",
   "execution_count": 48,
   "id": "large-mapping",
   "metadata": {},
   "outputs": [
    {
     "data": {
      "text/plain": [
       "['7d', '30d+', '30d+', '', '30d+']"
      ]
     },
     "execution_count": 48,
     "metadata": {},
     "output_type": "execute_result"
    }
   ],
   "source": [
    "job_age=[]\n",
    "for i in job_age_tags:\n",
    "    job_age.append(i.text)\n",
    "job_age[0:5]    "
   ]
  },
  {
   "cell_type": "markdown",
   "id": "lasting-democrat",
   "metadata": {},
   "source": [
    "### 4.6 Rating of the company"
   ]
  },
  {
   "cell_type": "markdown",
   "id": "optional-coaching",
   "metadata": {},
   "source": [
    "### 4.5.1 Extracting all tags having rating"
   ]
  },
  {
   "cell_type": "code",
   "execution_count": 49,
   "id": "medical-check",
   "metadata": {},
   "outputs": [
    {
     "data": {
      "text/plain": [
       "[<selenium.webdriver.remote.webelement.WebElement (session=\"5d692c3a601a82b4cb4f3df997d6a54c\", element=\"6d807aa2-8f7d-4814-a72b-c48d28893608\")>,\n",
       " <selenium.webdriver.remote.webelement.WebElement (session=\"5d692c3a601a82b4cb4f3df997d6a54c\", element=\"22c3b3d8-f0bc-41fd-b133-0ab8488248e3\")>,\n",
       " <selenium.webdriver.remote.webelement.WebElement (session=\"5d692c3a601a82b4cb4f3df997d6a54c\", element=\"94dd61f9-5793-461b-9166-f3b18cc3dab1\")>,\n",
       " <selenium.webdriver.remote.webelement.WebElement (session=\"5d692c3a601a82b4cb4f3df997d6a54c\", element=\"59492d79-b7a0-4cf7-b143-9f6e3a4c8d09\")>,\n",
       " <selenium.webdriver.remote.webelement.WebElement (session=\"5d692c3a601a82b4cb4f3df997d6a54c\", element=\"3e451350-2b44-4d21-9de3-cb9bcf4731a7\")>]"
      ]
     },
     "execution_count": 49,
     "metadata": {},
     "output_type": "execute_result"
    }
   ],
   "source": [
    "rating_tags=driver.find_elements_by_xpath(\"//div[@class='d-flex flex-column css-x75kgh e1rrn5ka3']\")\n",
    "rating_tags[0:5]"
   ]
  },
  {
   "cell_type": "markdown",
   "id": "democratic-object",
   "metadata": {},
   "source": [
    "### 4.5.2 Extracting text from rating tag using for loop"
   ]
  },
  {
   "cell_type": "code",
   "execution_count": 50,
   "id": "delayed-tactics",
   "metadata": {},
   "outputs": [
    {
     "data": {
      "text/plain": [
       "['3.6', '3.8', '', '3.5', '5.0']"
      ]
     },
     "execution_count": 50,
     "metadata": {},
     "output_type": "execute_result"
    }
   ],
   "source": [
    "rating=[]\n",
    "for i in rating_tags:\n",
    "    rating.append(i.text)\n",
    "rating[0:5]    "
   ]
  },
  {
   "cell_type": "markdown",
   "id": "enhanced-number",
   "metadata": {},
   "source": [
    "### 4.6 Checking for length of all tags"
   ]
  },
  {
   "cell_type": "code",
   "execution_count": 51,
   "id": "angry-fossil",
   "metadata": {},
   "outputs": [
    {
     "name": "stdout",
     "output_type": "stream",
     "text": [
      "30 30 30\n"
     ]
    }
   ],
   "source": [
    "print(len(company_name),len(job_age),len(rating))"
   ]
  },
  {
   "cell_type": "markdown",
   "id": "friendly-abraham",
   "metadata": {},
   "source": [
    "### 4.7 scrape the data for the first 10 jobs"
   ]
  },
  {
   "cell_type": "code",
   "execution_count": 52,
   "id": "logical-invalid",
   "metadata": {},
   "outputs": [],
   "source": [
    "company_name=company_name[:-20]\n",
    "job_age=job_age[:-20]\n",
    "rating=rating[:-20]\n",
    "\n"
   ]
  },
  {
   "cell_type": "markdown",
   "id": "bearing-architect",
   "metadata": {},
   "source": [
    "### 4.8 DataFraming using Pandas"
   ]
  },
  {
   "cell_type": "code",
   "execution_count": 53,
   "id": "silver-tongue",
   "metadata": {},
   "outputs": [
    {
     "data": {
      "text/html": [
       "<div>\n",
       "<style scoped>\n",
       "    .dataframe tbody tr th:only-of-type {\n",
       "        vertical-align: middle;\n",
       "    }\n",
       "\n",
       "    .dataframe tbody tr th {\n",
       "        vertical-align: top;\n",
       "    }\n",
       "\n",
       "    .dataframe thead th {\n",
       "        text-align: right;\n",
       "    }\n",
       "</style>\n",
       "<table border=\"1\" class=\"dataframe\">\n",
       "  <thead>\n",
       "    <tr style=\"text-align: right;\">\n",
       "      <th></th>\n",
       "      <th>company Name</th>\n",
       "      <th>Days job posted</th>\n",
       "      <th>Rating</th>\n",
       "    </tr>\n",
       "  </thead>\n",
       "  <tbody>\n",
       "    <tr>\n",
       "      <th>0</th>\n",
       "      <td>Adobe</td>\n",
       "      <td>7d</td>\n",
       "      <td>3.6</td>\n",
       "    </tr>\n",
       "    <tr>\n",
       "      <th>1</th>\n",
       "      <td>Biz2Credit Inc</td>\n",
       "      <td>30d+</td>\n",
       "      <td>3.8</td>\n",
       "    </tr>\n",
       "    <tr>\n",
       "      <th>2</th>\n",
       "      <td>Salasar New Age Technologies</td>\n",
       "      <td>30d+</td>\n",
       "      <td></td>\n",
       "    </tr>\n",
       "    <tr>\n",
       "      <th>3</th>\n",
       "      <td>Innovaccer Analytics Private Limited</td>\n",
       "      <td></td>\n",
       "      <td>3.5</td>\n",
       "    </tr>\n",
       "    <tr>\n",
       "      <th>4</th>\n",
       "      <td>Techlive</td>\n",
       "      <td>30d+</td>\n",
       "      <td>5.0</td>\n",
       "    </tr>\n",
       "    <tr>\n",
       "      <th>5</th>\n",
       "      <td>Salasar New Age Technologies</td>\n",
       "      <td>30d+</td>\n",
       "      <td></td>\n",
       "    </tr>\n",
       "    <tr>\n",
       "      <th>6</th>\n",
       "      <td>Innovacer</td>\n",
       "      <td>12d</td>\n",
       "      <td></td>\n",
       "    </tr>\n",
       "    <tr>\n",
       "      <th>7</th>\n",
       "      <td>SysQuo Innovation Private Limited</td>\n",
       "      <td>12d</td>\n",
       "      <td>3.0</td>\n",
       "    </tr>\n",
       "    <tr>\n",
       "      <th>8</th>\n",
       "      <td>Asquero</td>\n",
       "      <td>3d</td>\n",
       "      <td>5.0</td>\n",
       "    </tr>\n",
       "    <tr>\n",
       "      <th>9</th>\n",
       "      <td>Microsoft</td>\n",
       "      <td>30d+</td>\n",
       "      <td>4.4</td>\n",
       "    </tr>\n",
       "  </tbody>\n",
       "</table>\n",
       "</div>"
      ],
      "text/plain": [
       "                           company Name Days job posted Rating\n",
       "0                                 Adobe              7d    3.6\n",
       "1                        Biz2Credit Inc            30d+    3.8\n",
       "2          Salasar New Age Technologies            30d+       \n",
       "3  Innovaccer Analytics Private Limited                    3.5\n",
       "4                              Techlive            30d+    5.0\n",
       "5          Salasar New Age Technologies            30d+       \n",
       "6                             Innovacer             12d       \n",
       "7     SysQuo Innovation Private Limited             12d    3.0\n",
       "8                               Asquero              3d    5.0\n",
       "9                             Microsoft            30d+    4.4"
      ]
     },
     "execution_count": 53,
     "metadata": {},
     "output_type": "execute_result"
    }
   ],
   "source": [
    "jobs=pd.DataFrame({})\n",
    "jobs[\"company Name\"]=company_name\n",
    "jobs[\"Days job posted\"]=job_age\n",
    "jobs[\"Rating\"]=rating\n",
    "jobs"
   ]
  },
  {
   "cell_type": "markdown",
   "id": "compliant-possibility",
   "metadata": {},
   "source": [
    "### 4.9 closing the drive\n",
    "\n"
   ]
  },
  {
   "cell_type": "code",
   "execution_count": 54,
   "id": "greek-elder",
   "metadata": {},
   "outputs": [],
   "source": [
    "driver.close()"
   ]
  },
  {
   "cell_type": "markdown",
   "id": "rocky-honey",
   "metadata": {},
   "source": [
    "# 5. python program to scrape the salary data for Data Scientist designation in Noida location.\n"
   ]
  },
  {
   "cell_type": "markdown",
   "id": "endless-jason",
   "metadata": {},
   "source": [
    "### 5.1 Connecting to web driver"
   ]
  },
  {
   "cell_type": "code",
   "execution_count": 55,
   "id": "supreme-merit",
   "metadata": {},
   "outputs": [],
   "source": [
    "driver=webdriver.Chrome(r\"c://chromedriver.exe\")"
   ]
  },
  {
   "cell_type": "markdown",
   "id": "exempt-process",
   "metadata": {},
   "source": [
    "### 5.2 Getting the webpage"
   ]
  },
  {
   "cell_type": "code",
   "execution_count": 56,
   "id": "fabulous-travel",
   "metadata": {},
   "outputs": [],
   "source": [
    "driver.get(\"https://www.glassdoor.co.in/Salaries/index.htm\")"
   ]
  },
  {
   "cell_type": "markdown",
   "id": "flying-duplicate",
   "metadata": {},
   "source": [
    "### 5.3 Finding Element for job search bar"
   ]
  },
  {
   "cell_type": "code",
   "execution_count": 57,
   "id": "geological-fortune",
   "metadata": {},
   "outputs": [],
   "source": [
    "search_job=driver.find_element_by_id(\"KeywordSearch\")\n",
    "search_job.send_keys(\"Data Scientist\")\n",
    "search_location=driver.find_element_by_xpath(\"//input[@class='loc']\")\n",
    "search_location.send_keys(\"Noida\")\n",
    "search_button=driver.find_element_by_id(\"HeroSearchButton\")\n",
    "search_button.click()"
   ]
  },
  {
   "cell_type": "markdown",
   "id": "different-journalist",
   "metadata": {},
   "source": [
    "### 5.4 company Name"
   ]
  },
  {
   "cell_type": "markdown",
   "id": "female-newfoundland",
   "metadata": {},
   "source": [
    "### 5.4.1 Extracting all tags having company Name"
   ]
  },
  {
   "cell_type": "code",
   "execution_count": 58,
   "id": "unavailable-fisher",
   "metadata": {},
   "outputs": [
    {
     "data": {
      "text/plain": [
       "[<selenium.webdriver.remote.webelement.WebElement (session=\"41ba140aa73edd37b2586da0f54b40b2\", element=\"e21d6f03-e9a0-40e0-ae34-4de3c39454f7\")>,\n",
       " <selenium.webdriver.remote.webelement.WebElement (session=\"41ba140aa73edd37b2586da0f54b40b2\", element=\"aab2d89a-8bd8-4725-8632-5c6c506cb829\")>,\n",
       " <selenium.webdriver.remote.webelement.WebElement (session=\"41ba140aa73edd37b2586da0f54b40b2\", element=\"12107c7f-bd1a-4ab9-b18b-8ee75a6c04b3\")>,\n",
       " <selenium.webdriver.remote.webelement.WebElement (session=\"41ba140aa73edd37b2586da0f54b40b2\", element=\"b2ebd1cc-d160-4fdb-920f-e4a76a332101\")>,\n",
       " <selenium.webdriver.remote.webelement.WebElement (session=\"41ba140aa73edd37b2586da0f54b40b2\", element=\"7b1069c2-94c9-449a-a3d3-b9e88a0dffed\")>]"
      ]
     },
     "execution_count": 58,
     "metadata": {},
     "output_type": "execute_result"
    }
   ],
   "source": [
    "comp_name_tags=driver.find_elements_by_xpath(\"//p[@class='m-0 ']\")\n",
    "comp_name_tags[0:5]"
   ]
  },
  {
   "cell_type": "markdown",
   "id": "commercial-gibson",
   "metadata": {},
   "source": [
    "### 5.4.2 Extracting text from company name tag using for loop\n",
    "\n"
   ]
  },
  {
   "cell_type": "code",
   "execution_count": 59,
   "id": "vertical-theater",
   "metadata": {},
   "outputs": [
    {
     "data": {
      "text/plain": [
       "['Tata Consultancy Services',\n",
       " 'Accenture',\n",
       " 'Delhivery',\n",
       " 'IBM',\n",
       " 'Ericsson-Worldwide']"
      ]
     },
     "execution_count": 59,
     "metadata": {},
     "output_type": "execute_result"
    }
   ],
   "source": [
    "company_name=[]\n",
    "for i in comp_name_tags:\n",
    "    company_name.append(i.text)\n",
    "company_name[0:5]    "
   ]
  },
  {
   "cell_type": "markdown",
   "id": "thirty-following",
   "metadata": {},
   "source": [
    "### 5.5 Number of Salaries"
   ]
  },
  {
   "cell_type": "markdown",
   "id": "serial-paradise",
   "metadata": {},
   "source": [
    "### 5.5.1 Extracting all tags having number of salaries"
   ]
  },
  {
   "cell_type": "code",
   "execution_count": 60,
   "id": "curious-washington",
   "metadata": {},
   "outputs": [
    {
     "data": {
      "text/plain": [
       "[<selenium.webdriver.remote.webelement.WebElement (session=\"41ba140aa73edd37b2586da0f54b40b2\", element=\"cd51c189-6163-415a-91e8-0ca84bf35870\")>,\n",
       " <selenium.webdriver.remote.webelement.WebElement (session=\"41ba140aa73edd37b2586da0f54b40b2\", element=\"0b5bde7d-14fd-4d5e-8082-42aa1283321d\")>,\n",
       " <selenium.webdriver.remote.webelement.WebElement (session=\"41ba140aa73edd37b2586da0f54b40b2\", element=\"4338d3bb-4d81-44d2-b960-2ffa36d5c8c4\")>,\n",
       " <selenium.webdriver.remote.webelement.WebElement (session=\"41ba140aa73edd37b2586da0f54b40b2\", element=\"df44668e-c677-41f1-9387-810efaa1f545\")>,\n",
       " <selenium.webdriver.remote.webelement.WebElement (session=\"41ba140aa73edd37b2586da0f54b40b2\", element=\"3b7efb0f-8bc7-4713-9453-be34c408c756\")>]"
      ]
     },
     "execution_count": 60,
     "metadata": {},
     "output_type": "execute_result"
    }
   ],
   "source": [
    "no_of_salaries_tags=driver.find_elements_by_xpath(\"//p[@class='css-1uyte9r css-1kuy7z7 m-0 ']\")\n",
    "no_of_salaries_tags[0:5]"
   ]
  },
  {
   "cell_type": "markdown",
   "id": "pointed-timer",
   "metadata": {},
   "source": [
    "### 5.4.2 Extracting text from number of salaries tag using for loop\n",
    "\n"
   ]
  },
  {
   "cell_type": "code",
   "execution_count": 61,
   "id": "central-baptist",
   "metadata": {},
   "outputs": [
    {
     "data": {
      "text/plain": [
       "['14 salaries', '14 salaries', '14 salaries', '13 salaries', '12 salaries']"
      ]
     },
     "execution_count": 61,
     "metadata": {},
     "output_type": "execute_result"
    }
   ],
   "source": [
    "no_of_salaries=[]\n",
    "for i in no_of_salaries_tags:\n",
    "    no_of_salaries.append(i.text)\n",
    "no_of_salaries[0:5]    "
   ]
  },
  {
   "cell_type": "markdown",
   "id": "diverse-terrace",
   "metadata": {},
   "source": [
    "### 5.5 Average salary"
   ]
  },
  {
   "cell_type": "markdown",
   "id": "three-messaging",
   "metadata": {},
   "source": [
    "### 5.5.1 Extracting all tags having Average Salary"
   ]
  },
  {
   "cell_type": "code",
   "execution_count": 62,
   "id": "olympic-graduation",
   "metadata": {},
   "outputs": [
    {
     "data": {
      "text/plain": [
       "[<selenium.webdriver.remote.webelement.WebElement (session=\"41ba140aa73edd37b2586da0f54b40b2\", element=\"bbe647c6-dbb5-400e-8ff3-41f29604774e\")>,\n",
       " <selenium.webdriver.remote.webelement.WebElement (session=\"41ba140aa73edd37b2586da0f54b40b2\", element=\"573457af-2539-460f-bf75-8707482a828e\")>,\n",
       " <selenium.webdriver.remote.webelement.WebElement (session=\"41ba140aa73edd37b2586da0f54b40b2\", element=\"9cf56101-b3fb-418a-837f-b5f2d6cbb1f1\")>,\n",
       " <selenium.webdriver.remote.webelement.WebElement (session=\"41ba140aa73edd37b2586da0f54b40b2\", element=\"5e6433e0-f168-4d32-ac51-e314fc110e90\")>,\n",
       " <selenium.webdriver.remote.webelement.WebElement (session=\"41ba140aa73edd37b2586da0f54b40b2\", element=\"61735c8b-9e7d-40d8-9e8c-70c7f8f86871\")>]"
      ]
     },
     "execution_count": 62,
     "metadata": {},
     "output_type": "execute_result"
    }
   ],
   "source": [
    "Average_salary_tags=driver.find_elements_by_xpath(\"//div[@class='col-2 d-none d-md-flex flex-row justify-content-end']\")\n",
    "Average_salary_tags[0:5]"
   ]
  },
  {
   "cell_type": "markdown",
   "id": "remarkable-merchandise",
   "metadata": {},
   "source": [
    "### 5.5.2 Extracting text from Average Salary tag using for loop"
   ]
  },
  {
   "cell_type": "code",
   "execution_count": 63,
   "id": "static-solid",
   "metadata": {},
   "outputs": [
    {
     "data": {
      "text/plain": [
       "['₹ 6,01,000/yr',\n",
       " '₹ 11,51,207/yr',\n",
       " '₹ 12,34,207/yr',\n",
       " '₹ 7,63,825/yr',\n",
       " '₹ 7,32,209/yr']"
      ]
     },
     "execution_count": 63,
     "metadata": {},
     "output_type": "execute_result"
    }
   ],
   "source": [
    "Average_salary=[]\n",
    "for i in Average_salary_tags:\n",
    "    Average_salary.append(i.text.replace(\"\\n\",\"\"))\n",
    "Average_salary[0:5]    "
   ]
  },
  {
   "cell_type": "markdown",
   "id": "terminal-sewing",
   "metadata": {},
   "source": [
    "### 5.6 Minimum Salary "
   ]
  },
  {
   "cell_type": "markdown",
   "id": "insured-citizen",
   "metadata": {},
   "source": [
    "### 5.6.1 Extracting all tags having Minimum Salary"
   ]
  },
  {
   "cell_type": "code",
   "execution_count": 64,
   "id": "limited-concern",
   "metadata": {},
   "outputs": [
    {
     "data": {
      "text/plain": [
       "[<selenium.webdriver.remote.webelement.WebElement (session=\"41ba140aa73edd37b2586da0f54b40b2\", element=\"d269c6a1-b917-4702-91b5-cea9ee3a6020\")>,\n",
       " <selenium.webdriver.remote.webelement.WebElement (session=\"41ba140aa73edd37b2586da0f54b40b2\", element=\"d600d211-8bfb-4f83-bd30-d04a3a27f433\")>,\n",
       " <selenium.webdriver.remote.webelement.WebElement (session=\"41ba140aa73edd37b2586da0f54b40b2\", element=\"4a4b2c79-07e0-4a2a-8d92-b5b7422e0c7e\")>,\n",
       " <selenium.webdriver.remote.webelement.WebElement (session=\"41ba140aa73edd37b2586da0f54b40b2\", element=\"f5b780bd-0973-4e6b-b633-8cbe24e34ef9\")>,\n",
       " <selenium.webdriver.remote.webelement.WebElement (session=\"41ba140aa73edd37b2586da0f54b40b2\", element=\"7069cf1a-9d38-4438-b14f-35fd382bdd08\")>]"
      ]
     },
     "execution_count": 64,
     "metadata": {},
     "output_type": "execute_result"
    }
   ],
   "source": [
    "min_salary_tags=driver.find_elements_by_xpath(\"//div[@class='common__RangeBarStyle__values d-flex justify-content-between ']/span[1]\")\n",
    "min_salary_tags[0:5]"
   ]
  },
  {
   "cell_type": "markdown",
   "id": "ecological-james",
   "metadata": {},
   "source": [
    "### 5.4.2 Extracting text from Minimum Salary tag using for loop"
   ]
  },
  {
   "cell_type": "code",
   "execution_count": 65,
   "id": "laden-injury",
   "metadata": {},
   "outputs": [
    {
     "data": {
      "text/plain": [
       "['₹336L', '₹579L', '₹452L', '₹589L', '₹350L']"
      ]
     },
     "execution_count": 65,
     "metadata": {},
     "output_type": "execute_result"
    }
   ],
   "source": [
    "min_salary=[]\n",
    "for i in min_salary_tags:\n",
    "    min_salary.append(i.text)\n",
    "min_salary[0:5]    "
   ]
  },
  {
   "cell_type": "markdown",
   "id": "european-arrival",
   "metadata": {},
   "source": [
    "### 5.7 Maximum salary"
   ]
  },
  {
   "cell_type": "markdown",
   "id": "fixed-mambo",
   "metadata": {},
   "source": [
    "### 5.7.1 Extracting all tags having maximun Salary"
   ]
  },
  {
   "cell_type": "code",
   "execution_count": 66,
   "id": "informative-franchise",
   "metadata": {},
   "outputs": [
    {
     "data": {
      "text/plain": [
       "[<selenium.webdriver.remote.webelement.WebElement (session=\"41ba140aa73edd37b2586da0f54b40b2\", element=\"5b731318-9ca1-400b-98e2-ed76e12e2ceb\")>,\n",
       " <selenium.webdriver.remote.webelement.WebElement (session=\"41ba140aa73edd37b2586da0f54b40b2\", element=\"0601ce61-3521-472c-a1c7-ad882bcde606\")>,\n",
       " <selenium.webdriver.remote.webelement.WebElement (session=\"41ba140aa73edd37b2586da0f54b40b2\", element=\"46024a94-3f60-4ee5-8f66-682f3f6f7cc8\")>,\n",
       " <selenium.webdriver.remote.webelement.WebElement (session=\"41ba140aa73edd37b2586da0f54b40b2\", element=\"1e4ece40-8f26-4257-8c09-62bae87e2b74\")>,\n",
       " <selenium.webdriver.remote.webelement.WebElement (session=\"41ba140aa73edd37b2586da0f54b40b2\", element=\"7ba2e1ac-4faf-43f9-8249-977071ab5a4a\")>]"
      ]
     },
     "execution_count": 66,
     "metadata": {},
     "output_type": "execute_result"
    }
   ],
   "source": [
    "max_salary_tags=driver.find_elements_by_xpath(\"//div[@class='common__RangeBarStyle__values d-flex justify-content-between ']/span[2]\")\n",
    "max_salary_tags[0:5]"
   ]
  },
  {
   "cell_type": "markdown",
   "id": "helpful-directory",
   "metadata": {},
   "source": [
    "### 5.7.2 Extracting text from Maximum Salary tag using for loop"
   ]
  },
  {
   "cell_type": "code",
   "execution_count": 67,
   "id": "recognized-texture",
   "metadata": {},
   "outputs": [
    {
     "data": {
      "text/plain": [
       "['₹1,080L', '₹2,222L', '₹11,669L', '₹2,741L', '₹1,619L']"
      ]
     },
     "execution_count": 67,
     "metadata": {},
     "output_type": "execute_result"
    }
   ],
   "source": [
    "max_salary=[]\n",
    "for i in max_salary_tags:\n",
    "    max_salary.append(i.text)\n",
    "max_salary[0:5]    "
   ]
  },
  {
   "cell_type": "markdown",
   "id": "biblical-wages",
   "metadata": {},
   "source": [
    "### 5.8 Checking for length of all tags"
   ]
  },
  {
   "cell_type": "code",
   "execution_count": 68,
   "id": "convertible-tournament",
   "metadata": {},
   "outputs": [
    {
     "name": "stdout",
     "output_type": "stream",
     "text": [
      "20 20 20 20 20\n"
     ]
    }
   ],
   "source": [
    "print(len(company_name),len(no_of_salaries),len(Average_salary),len(min_salary),len(max_salary))\n"
   ]
  },
  {
   "cell_type": "markdown",
   "id": "pleasant-brighton",
   "metadata": {},
   "source": [
    "### 5.9 scrape the data for the first 10 jobs"
   ]
  },
  {
   "cell_type": "code",
   "execution_count": 69,
   "id": "precious-herald",
   "metadata": {},
   "outputs": [],
   "source": [
    "company_name=company_name[:-10]\n",
    "no_of_salaries=no_of_salaries[:-10]\n",
    "Average_salary=Average_salary[:-10]\n",
    "min_salary=min_salary[:-10]\n",
    "max_salary=max_salary[:-10]"
   ]
  },
  {
   "cell_type": "markdown",
   "id": "wanted-quarter",
   "metadata": {},
   "source": [
    "### 5.10 DataFraming using Pandas"
   ]
  },
  {
   "cell_type": "code",
   "execution_count": 71,
   "id": "supposed-confusion",
   "metadata": {},
   "outputs": [
    {
     "data": {
      "text/html": [
       "<div>\n",
       "<style scoped>\n",
       "    .dataframe tbody tr th:only-of-type {\n",
       "        vertical-align: middle;\n",
       "    }\n",
       "\n",
       "    .dataframe tbody tr th {\n",
       "        vertical-align: top;\n",
       "    }\n",
       "\n",
       "    .dataframe thead th {\n",
       "        text-align: right;\n",
       "    }\n",
       "</style>\n",
       "<table border=\"1\" class=\"dataframe\">\n",
       "  <thead>\n",
       "    <tr style=\"text-align: right;\">\n",
       "      <th></th>\n",
       "      <th>company name</th>\n",
       "      <th>no of salaries</th>\n",
       "      <th>Average salary</th>\n",
       "      <th>minimum salary</th>\n",
       "      <th>maximum salary</th>\n",
       "    </tr>\n",
       "  </thead>\n",
       "  <tbody>\n",
       "    <tr>\n",
       "      <th>0</th>\n",
       "      <td>Tata Consultancy Services</td>\n",
       "      <td>14 salaries</td>\n",
       "      <td>₹ 6,01,000/yr</td>\n",
       "      <td>₹336L</td>\n",
       "      <td>₹1,080L</td>\n",
       "    </tr>\n",
       "    <tr>\n",
       "      <th>1</th>\n",
       "      <td>Accenture</td>\n",
       "      <td>14 salaries</td>\n",
       "      <td>₹ 11,51,207/yr</td>\n",
       "      <td>₹579L</td>\n",
       "      <td>₹2,222L</td>\n",
       "    </tr>\n",
       "    <tr>\n",
       "      <th>2</th>\n",
       "      <td>Delhivery</td>\n",
       "      <td>14 salaries</td>\n",
       "      <td>₹ 12,34,207/yr</td>\n",
       "      <td>₹452L</td>\n",
       "      <td>₹11,669L</td>\n",
       "    </tr>\n",
       "    <tr>\n",
       "      <th>3</th>\n",
       "      <td>IBM</td>\n",
       "      <td>13 salaries</td>\n",
       "      <td>₹ 7,63,825/yr</td>\n",
       "      <td>₹589L</td>\n",
       "      <td>₹2,741L</td>\n",
       "    </tr>\n",
       "    <tr>\n",
       "      <th>4</th>\n",
       "      <td>Ericsson-Worldwide</td>\n",
       "      <td>12 salaries</td>\n",
       "      <td>₹ 7,32,209/yr</td>\n",
       "      <td>₹350L</td>\n",
       "      <td>₹1,619L</td>\n",
       "    </tr>\n",
       "    <tr>\n",
       "      <th>5</th>\n",
       "      <td>UnitedHealth Group</td>\n",
       "      <td>10 salaries</td>\n",
       "      <td>₹ 13,88,910/yr</td>\n",
       "      <td>₹1,050L</td>\n",
       "      <td>₹1,500L</td>\n",
       "    </tr>\n",
       "    <tr>\n",
       "      <th>6</th>\n",
       "      <td>Valiance Solutions</td>\n",
       "      <td>9 salaries</td>\n",
       "      <td>₹ 8,18,515/yr</td>\n",
       "      <td>₹504L</td>\n",
       "      <td>₹1,471L</td>\n",
       "    </tr>\n",
       "    <tr>\n",
       "      <th>7</th>\n",
       "      <td>Innovaccer</td>\n",
       "      <td>8 salaries</td>\n",
       "      <td>₹ 12,01,403/yr</td>\n",
       "      <td>₹623L</td>\n",
       "      <td>₹1,702L</td>\n",
       "    </tr>\n",
       "    <tr>\n",
       "      <th>8</th>\n",
       "      <td>EXL Service</td>\n",
       "      <td>7 salaries</td>\n",
       "      <td>₹ 11,90,000/yr</td>\n",
       "      <td>₹578L</td>\n",
       "      <td>₹1,500L</td>\n",
       "    </tr>\n",
       "    <tr>\n",
       "      <th>9</th>\n",
       "      <td>Cognizant Technology Solutions</td>\n",
       "      <td>6 salaries</td>\n",
       "      <td>₹ 10,11,517/yr</td>\n",
       "      <td>₹796L</td>\n",
       "      <td>₹1,268L</td>\n",
       "    </tr>\n",
       "  </tbody>\n",
       "</table>\n",
       "</div>"
      ],
      "text/plain": [
       "                     company name no of salaries  Average salary  \\\n",
       "0       Tata Consultancy Services    14 salaries   ₹ 6,01,000/yr   \n",
       "1                       Accenture    14 salaries  ₹ 11,51,207/yr   \n",
       "2                       Delhivery    14 salaries  ₹ 12,34,207/yr   \n",
       "3                             IBM    13 salaries   ₹ 7,63,825/yr   \n",
       "4              Ericsson-Worldwide    12 salaries   ₹ 7,32,209/yr   \n",
       "5              UnitedHealth Group    10 salaries  ₹ 13,88,910/yr   \n",
       "6              Valiance Solutions     9 salaries   ₹ 8,18,515/yr   \n",
       "7                      Innovaccer     8 salaries  ₹ 12,01,403/yr   \n",
       "8                     EXL Service     7 salaries  ₹ 11,90,000/yr   \n",
       "9  Cognizant Technology Solutions     6 salaries  ₹ 10,11,517/yr   \n",
       "\n",
       "  minimum salary maximum salary  \n",
       "0          ₹336L        ₹1,080L  \n",
       "1          ₹579L        ₹2,222L  \n",
       "2          ₹452L       ₹11,669L  \n",
       "3          ₹589L        ₹2,741L  \n",
       "4          ₹350L        ₹1,619L  \n",
       "5        ₹1,050L        ₹1,500L  \n",
       "6          ₹504L        ₹1,471L  \n",
       "7          ₹623L        ₹1,702L  \n",
       "8          ₹578L        ₹1,500L  \n",
       "9          ₹796L        ₹1,268L  "
      ]
     },
     "execution_count": 71,
     "metadata": {},
     "output_type": "execute_result"
    }
   ],
   "source": [
    "details=pd.DataFrame({})\n",
    "details[\"company name\"]=company_name\n",
    "details[\"no of salaries\"]=no_of_salaries\n",
    "details[\"Average salary\"]=Average_salary\n",
    "details[\"minimum salary\"]=min_salary\n",
    "details[\"maximum salary\"]=max_salary\n",
    "details"
   ]
  },
  {
   "cell_type": "markdown",
   "id": "weekly-october",
   "metadata": {},
   "source": [
    "### 5.11 closing the drive\n"
   ]
  },
  {
   "cell_type": "code",
   "execution_count": 72,
   "id": "vertical-reservation",
   "metadata": {},
   "outputs": [],
   "source": [
    "driver.close()"
   ]
  },
  {
   "cell_type": "markdown",
   "id": "loved-printing",
   "metadata": {},
   "source": [
    "# 6. python program to  scrape data of first 100 sunglasses listings on flipkart.com"
   ]
  },
  {
   "cell_type": "markdown",
   "id": "gothic-walter",
   "metadata": {},
   "source": [
    "### 6.1 Connecting to web driver"
   ]
  },
  {
   "cell_type": "code",
   "execution_count": 88,
   "id": "durable-router",
   "metadata": {},
   "outputs": [],
   "source": [
    "driver=webdriver.Chrome(r\"c://chromedriver.exe\")\n"
   ]
  },
  {
   "cell_type": "markdown",
   "id": "secure-bundle",
   "metadata": {},
   "source": [
    "### 6.2 Getting the webpage"
   ]
  },
  {
   "cell_type": "code",
   "execution_count": 89,
   "id": "minute-cooler",
   "metadata": {},
   "outputs": [],
   "source": [
    "driver.get(\"https://www.flipkart.com/\")"
   ]
  },
  {
   "cell_type": "markdown",
   "id": "active-three",
   "metadata": {},
   "source": [
    "###### Note\n",
    "\n",
    "    - After getting the web page we get an unwanted Login popup\n",
    "    - so closing the Popup"
   ]
  },
  {
   "cell_type": "code",
   "execution_count": 90,
   "id": "answering-receiver",
   "metadata": {},
   "outputs": [],
   "source": [
    "#Closing the popup \n",
    "close_button=driver.find_element_by_xpath(\"//button[@class='_2KpZ6l _2doB4z']\")\n",
    "close_button.click()"
   ]
  },
  {
   "cell_type": "markdown",
   "id": "regulated-swimming",
   "metadata": {},
   "source": [
    "### 6.3 Finding Element for search bar"
   ]
  },
  {
   "cell_type": "code",
   "execution_count": 91,
   "id": "voluntary-bryan",
   "metadata": {},
   "outputs": [],
   "source": [
    "search_product=driver.find_element_by_xpath(\"//input[@class='_3704LK']\")\n",
    "search_product.send_keys(\"sunglasses\")\n",
    "search_button=driver.find_element_by_xpath(\"//button[@class='L0Z3Pu']\")\n",
    "search_button.click()"
   ]
  },
  {
   "cell_type": "markdown",
   "id": "consolidated-bridal",
   "metadata": {},
   "source": [
    "###### Observation:\n",
    "\n",
    "    - The selected Page contain details of only 40 Products\n",
    "    - so we first collect all the details of the product in page 1 and then proceed to page 2"
   ]
  },
  {
   "cell_type": "markdown",
   "id": "capital-pizza",
   "metadata": {},
   "source": [
    "### 6.4 [Page1]  Extracting all tags  and Extracting text"
   ]
  },
  {
   "cell_type": "markdown",
   "id": "assumed-fence",
   "metadata": {},
   "source": [
    "### 6.4.1 Brand Name"
   ]
  },
  {
   "cell_type": "code",
   "execution_count": 92,
   "id": "palestinian-moldova",
   "metadata": {},
   "outputs": [
    {
     "data": {
      "text/plain": [
       "[<selenium.webdriver.remote.webelement.WebElement (session=\"3f3eb6ecc3d3ea2127bb07e0e0ec7b54\", element=\"678746bd-0de4-40b3-be78-fddb4a664db4\")>,\n",
       " <selenium.webdriver.remote.webelement.WebElement (session=\"3f3eb6ecc3d3ea2127bb07e0e0ec7b54\", element=\"cfe4b536-966a-4e61-8d23-f1cc25763ae9\")>,\n",
       " <selenium.webdriver.remote.webelement.WebElement (session=\"3f3eb6ecc3d3ea2127bb07e0e0ec7b54\", element=\"615cc3f0-038f-4083-8eb5-d9e96819163b\")>,\n",
       " <selenium.webdriver.remote.webelement.WebElement (session=\"3f3eb6ecc3d3ea2127bb07e0e0ec7b54\", element=\"cb1f12a2-70ca-4848-a2bf-63377b3d4e74\")>,\n",
       " <selenium.webdriver.remote.webelement.WebElement (session=\"3f3eb6ecc3d3ea2127bb07e0e0ec7b54\", element=\"2c9f3be1-0936-4524-84bf-f9186284bf71\")>]"
      ]
     },
     "execution_count": 92,
     "metadata": {},
     "output_type": "execute_result"
    }
   ],
   "source": [
    "brand_name_tags1=driver.find_elements_by_xpath(\"//div[@class='_2WkVRV']\")\n",
    "brand_name_tags1[0:5]"
   ]
  },
  {
   "cell_type": "code",
   "execution_count": 94,
   "id": "square-draft",
   "metadata": {},
   "outputs": [
    {
     "data": {
      "text/plain": [
       "['ROYAL SON',\n",
       " 'ROYAL SON',\n",
       " 'Fastrack',\n",
       " 'Fastrack',\n",
       " 'PIRASO',\n",
       " 'PIRASO',\n",
       " 'ROZZETTA CRAFT',\n",
       " 'PIRASO',\n",
       " 'Singco India',\n",
       " 'Fastrack']"
      ]
     },
     "execution_count": 94,
     "metadata": {},
     "output_type": "execute_result"
    }
   ],
   "source": [
    "brand_name1=[]\n",
    "for i in brand_name_tags1:\n",
    "    brand_name1.append(i.text)\n",
    "brand_name1[0:10]  "
   ]
  },
  {
   "cell_type": "markdown",
   "id": "comparative-aspect",
   "metadata": {},
   "source": [
    "### 6.4.2 Product Description"
   ]
  },
  {
   "cell_type": "code",
   "execution_count": 95,
   "id": "superior-prison",
   "metadata": {},
   "outputs": [
    {
     "data": {
      "text/plain": [
       "[<selenium.webdriver.remote.webelement.WebElement (session=\"3f3eb6ecc3d3ea2127bb07e0e0ec7b54\", element=\"a31a7a62-725f-4da7-bc11-e07882e03e4f\")>,\n",
       " <selenium.webdriver.remote.webelement.WebElement (session=\"3f3eb6ecc3d3ea2127bb07e0e0ec7b54\", element=\"e5c75e8f-6f04-43f8-833b-7806810c329d\")>,\n",
       " <selenium.webdriver.remote.webelement.WebElement (session=\"3f3eb6ecc3d3ea2127bb07e0e0ec7b54\", element=\"a4604dac-68d1-4ca9-8256-b1e096bf6953\")>,\n",
       " <selenium.webdriver.remote.webelement.WebElement (session=\"3f3eb6ecc3d3ea2127bb07e0e0ec7b54\", element=\"49d6f921-8b99-488a-92be-0ce4161e2434\")>,\n",
       " <selenium.webdriver.remote.webelement.WebElement (session=\"3f3eb6ecc3d3ea2127bb07e0e0ec7b54\", element=\"47773752-9f3b-4835-a4d8-2e216bb56b60\")>]"
      ]
     },
     "execution_count": 95,
     "metadata": {},
     "output_type": "execute_result"
    }
   ],
   "source": [
    "product_desc_tags1=driver.find_elements_by_xpath(\"//div[@class='_2B099V']/a[1]\")\n",
    "product_desc_tags1[0:5]"
   ]
  },
  {
   "cell_type": "code",
   "execution_count": 96,
   "id": "alternate-benjamin",
   "metadata": {},
   "outputs": [
    {
     "data": {
      "text/plain": [
       "['Mirrored Aviator Sunglasses (55)',\n",
       " 'UV Protection Retro Square Sunglasses (49)',\n",
       " 'UV Protection Rectangular Sunglasses (Free Size)',\n",
       " 'Mirrored, UV Protection Wayfarer Sunglasses (Free Size)',\n",
       " 'UV Protection Aviator Sunglasses (Free Size)']"
      ]
     },
     "execution_count": 96,
     "metadata": {},
     "output_type": "execute_result"
    }
   ],
   "source": [
    "product_desc1=[]\n",
    "for i in product_desc_tags1:\n",
    "    product_desc1.append(i.text)\n",
    "product_desc1[0:5]  "
   ]
  },
  {
   "cell_type": "markdown",
   "id": "strange-concrete",
   "metadata": {},
   "source": [
    "### 6.4.3 Product Price"
   ]
  },
  {
   "cell_type": "code",
   "execution_count": 97,
   "id": "tribal-panic",
   "metadata": {},
   "outputs": [
    {
     "data": {
      "text/plain": [
       "[<selenium.webdriver.remote.webelement.WebElement (session=\"3f3eb6ecc3d3ea2127bb07e0e0ec7b54\", element=\"8cba2bae-f47a-4f2a-b772-7f759322a9e1\")>,\n",
       " <selenium.webdriver.remote.webelement.WebElement (session=\"3f3eb6ecc3d3ea2127bb07e0e0ec7b54\", element=\"a86bf359-e3fb-47c6-88f0-8fb011be8bda\")>,\n",
       " <selenium.webdriver.remote.webelement.WebElement (session=\"3f3eb6ecc3d3ea2127bb07e0e0ec7b54\", element=\"5c42309a-63bd-4798-8753-9772a0b18988\")>,\n",
       " <selenium.webdriver.remote.webelement.WebElement (session=\"3f3eb6ecc3d3ea2127bb07e0e0ec7b54\", element=\"dbb46b86-fc37-42bf-9431-a50595b8db71\")>,\n",
       " <selenium.webdriver.remote.webelement.WebElement (session=\"3f3eb6ecc3d3ea2127bb07e0e0ec7b54\", element=\"b8d57af3-5857-405e-98be-445b2290d631\")>]"
      ]
     },
     "execution_count": 97,
     "metadata": {},
     "output_type": "execute_result"
    }
   ],
   "source": [
    "product_price_tags1=driver.find_elements_by_xpath(\"//div[@class='_30jeq3']\")\n",
    "product_price_tags1[0:5]"
   ]
  },
  {
   "cell_type": "code",
   "execution_count": 98,
   "id": "afraid-position",
   "metadata": {},
   "outputs": [
    {
     "data": {
      "text/plain": [
       "['₹379', '₹664', '₹569', '₹499', '₹314']"
      ]
     },
     "execution_count": 98,
     "metadata": {},
     "output_type": "execute_result"
    }
   ],
   "source": [
    "product_price1=[]\n",
    "for i in product_price_tags1:\n",
    "    product_price1.append(i.text)\n",
    "product_price1[0:5]  "
   ]
  },
  {
   "cell_type": "markdown",
   "id": "occasional-polymer",
   "metadata": {},
   "source": [
    "### 6.4.4 Discount %"
   ]
  },
  {
   "cell_type": "code",
   "execution_count": 99,
   "id": "exclusive-pearl",
   "metadata": {},
   "outputs": [
    {
     "data": {
      "text/plain": [
       "[<selenium.webdriver.remote.webelement.WebElement (session=\"3f3eb6ecc3d3ea2127bb07e0e0ec7b54\", element=\"d6ed89ca-a44e-47e9-902d-15af8c4084f1\")>,\n",
       " <selenium.webdriver.remote.webelement.WebElement (session=\"3f3eb6ecc3d3ea2127bb07e0e0ec7b54\", element=\"142db586-44e1-4263-b1cc-7cbdbcd902a5\")>,\n",
       " <selenium.webdriver.remote.webelement.WebElement (session=\"3f3eb6ecc3d3ea2127bb07e0e0ec7b54\", element=\"b1e8a378-aaea-491a-b38b-705c1231394f\")>,\n",
       " <selenium.webdriver.remote.webelement.WebElement (session=\"3f3eb6ecc3d3ea2127bb07e0e0ec7b54\", element=\"4b54c017-9566-4008-8a5b-55e677c81036\")>,\n",
       " <selenium.webdriver.remote.webelement.WebElement (session=\"3f3eb6ecc3d3ea2127bb07e0e0ec7b54\", element=\"12e5bde9-a2de-45dc-b9d2-a5bc78529f9b\")>]"
      ]
     },
     "execution_count": 99,
     "metadata": {},
     "output_type": "execute_result"
    }
   ],
   "source": [
    "discount_tags1=driver.find_elements_by_xpath(\"//div[@class='_3Ay6Sb']\")\n",
    "discount_tags1[0:5]"
   ]
  },
  {
   "cell_type": "code",
   "execution_count": 100,
   "id": "round-baltimore",
   "metadata": {},
   "outputs": [
    {
     "data": {
      "text/plain": [
       "['74% off', '66% off', '28% off', '50% off', '80% off']"
      ]
     },
     "execution_count": 100,
     "metadata": {},
     "output_type": "execute_result"
    }
   ],
   "source": [
    "discount1=[]\n",
    "for i in discount_tags1:\n",
    "    discount1.append(i.text)\n",
    "discount1[0:5]  "
   ]
  },
  {
   "cell_type": "markdown",
   "id": "banner-drinking",
   "metadata": {},
   "source": [
    "### 6.5 Moving to page 2"
   ]
  },
  {
   "cell_type": "code",
   "execution_count": 101,
   "id": "together-reset",
   "metadata": {},
   "outputs": [],
   "source": [
    "page_button=driver.find_element_by_xpath(\"//a[@href='/search?q=sunglasses&otracker=search&otracker1=search&marketplace=FLIPKART&as-show=on&as=off&page=2']\")\n",
    "page_button.click()"
   ]
  },
  {
   "cell_type": "markdown",
   "id": "tutorial-dance",
   "metadata": {},
   "source": [
    "### 6.6 [Page2]  Extracting all tags having Brand Name and Extracting text"
   ]
  },
  {
   "cell_type": "markdown",
   "id": "appreciated-interview",
   "metadata": {},
   "source": [
    "### 6.6.1 Brand Name"
   ]
  },
  {
   "cell_type": "code",
   "execution_count": 102,
   "id": "reliable-diary",
   "metadata": {},
   "outputs": [
    {
     "data": {
      "text/plain": [
       "[<selenium.webdriver.remote.webelement.WebElement (session=\"3f3eb6ecc3d3ea2127bb07e0e0ec7b54\", element=\"e7e330ee-568e-45ae-9e5b-ebc0d6185383\")>,\n",
       " <selenium.webdriver.remote.webelement.WebElement (session=\"3f3eb6ecc3d3ea2127bb07e0e0ec7b54\", element=\"5c265674-ed9d-4986-8813-8773b3e2bba4\")>,\n",
       " <selenium.webdriver.remote.webelement.WebElement (session=\"3f3eb6ecc3d3ea2127bb07e0e0ec7b54\", element=\"f2b2d84e-a60d-4fe1-8dcb-cdb2c718694f\")>,\n",
       " <selenium.webdriver.remote.webelement.WebElement (session=\"3f3eb6ecc3d3ea2127bb07e0e0ec7b54\", element=\"b29dd24d-12e0-48c3-8bab-b8ca6f44f707\")>,\n",
       " <selenium.webdriver.remote.webelement.WebElement (session=\"3f3eb6ecc3d3ea2127bb07e0e0ec7b54\", element=\"ca10ea2d-c939-413f-8367-7a491ad805c3\")>]"
      ]
     },
     "execution_count": 102,
     "metadata": {},
     "output_type": "execute_result"
    }
   ],
   "source": [
    "brand_name_tags2=driver.find_elements_by_xpath(\"//div[@class='_2WkVRV']\")\n",
    "brand_name_tags2[0:5]"
   ]
  },
  {
   "cell_type": "code",
   "execution_count": 103,
   "id": "interesting-discipline",
   "metadata": {},
   "outputs": [
    {
     "data": {
      "text/plain": [
       "['PIRASO', 'Fastrack', 'ALEYBEE', 'ROYAL SON', 'Fastrack']"
      ]
     },
     "execution_count": 103,
     "metadata": {},
     "output_type": "execute_result"
    }
   ],
   "source": [
    "brand_name2=[]\n",
    "for i in brand_name_tags2:\n",
    "    brand_name2.append(i.text)\n",
    "brand_name2[0:5]  "
   ]
  },
  {
   "cell_type": "markdown",
   "id": "warming-phase",
   "metadata": {},
   "source": [
    "### 6.6.2 Product Description"
   ]
  },
  {
   "cell_type": "code",
   "execution_count": 104,
   "id": "possible-cooper",
   "metadata": {},
   "outputs": [
    {
     "data": {
      "text/plain": [
       "[<selenium.webdriver.remote.webelement.WebElement (session=\"3f3eb6ecc3d3ea2127bb07e0e0ec7b54\", element=\"24fdf75d-9b18-481a-bfcb-ecb1b74f378f\")>,\n",
       " <selenium.webdriver.remote.webelement.WebElement (session=\"3f3eb6ecc3d3ea2127bb07e0e0ec7b54\", element=\"72b1ddb3-a75c-4b3f-ae48-b1476748bc8d\")>,\n",
       " <selenium.webdriver.remote.webelement.WebElement (session=\"3f3eb6ecc3d3ea2127bb07e0e0ec7b54\", element=\"0ae486cb-f980-4e5f-928e-15824825ef4c\")>,\n",
       " <selenium.webdriver.remote.webelement.WebElement (session=\"3f3eb6ecc3d3ea2127bb07e0e0ec7b54\", element=\"2dcd5493-b63f-44ad-aedb-0fcb5f9b30bc\")>,\n",
       " <selenium.webdriver.remote.webelement.WebElement (session=\"3f3eb6ecc3d3ea2127bb07e0e0ec7b54\", element=\"9b1cdeb4-4eee-435d-ac64-42993f343817\")>]"
      ]
     },
     "execution_count": 104,
     "metadata": {},
     "output_type": "execute_result"
    }
   ],
   "source": [
    "product_desc_tags2=driver.find_elements_by_xpath(\"//div[@class='_2B099V']/a[1]\")\n",
    "product_desc_tags2[0:5]"
   ]
  },
  {
   "cell_type": "code",
   "execution_count": 105,
   "id": "other-singing",
   "metadata": {},
   "outputs": [
    {
     "data": {
      "text/plain": [
       "['UV Protection Aviator Sunglasses (54)',\n",
       " 'UV Protection Wayfarer Sunglasses (Free Size)',\n",
       " 'UV Protection Round Sunglasses (54)',\n",
       " 'UV Protection Retro Square Sunglasses (49)',\n",
       " 'Gradient, UV Protection Wayfarer Sunglasses (Free Size)']"
      ]
     },
     "execution_count": 105,
     "metadata": {},
     "output_type": "execute_result"
    }
   ],
   "source": [
    "product_desc2=[]\n",
    "for i in product_desc_tags2:\n",
    "    product_desc2.append(i.text)\n",
    "product_desc2[0:5]  "
   ]
  },
  {
   "cell_type": "markdown",
   "id": "reported-rotation",
   "metadata": {},
   "source": [
    "### 6.6.3 Product Price"
   ]
  },
  {
   "cell_type": "code",
   "execution_count": 106,
   "id": "rental-wellington",
   "metadata": {},
   "outputs": [
    {
     "data": {
      "text/plain": [
       "[<selenium.webdriver.remote.webelement.WebElement (session=\"3f3eb6ecc3d3ea2127bb07e0e0ec7b54\", element=\"16aef4a1-af08-4af4-9192-a46f17ddbd6d\")>,\n",
       " <selenium.webdriver.remote.webelement.WebElement (session=\"3f3eb6ecc3d3ea2127bb07e0e0ec7b54\", element=\"b3ec2857-3c3b-40b7-a31f-b9dac14176b1\")>,\n",
       " <selenium.webdriver.remote.webelement.WebElement (session=\"3f3eb6ecc3d3ea2127bb07e0e0ec7b54\", element=\"49a790f4-b54d-47a5-b511-100615a7f69d\")>,\n",
       " <selenium.webdriver.remote.webelement.WebElement (session=\"3f3eb6ecc3d3ea2127bb07e0e0ec7b54\", element=\"d19bfdfb-a7d6-442f-8c13-27415d112ac5\")>,\n",
       " <selenium.webdriver.remote.webelement.WebElement (session=\"3f3eb6ecc3d3ea2127bb07e0e0ec7b54\", element=\"51982302-f2a2-44b5-8780-e1a17da0dca1\")>]"
      ]
     },
     "execution_count": 106,
     "metadata": {},
     "output_type": "execute_result"
    }
   ],
   "source": [
    "product_price_tags2=driver.find_elements_by_xpath(\"//div[@class='_30jeq3']\")\n",
    "product_price_tags2[0:5]"
   ]
  },
  {
   "cell_type": "code",
   "execution_count": 107,
   "id": "advised-civilian",
   "metadata": {},
   "outputs": [
    {
     "data": {
      "text/plain": [
       "['₹225', '₹759', '₹189', '₹664', '₹674']"
      ]
     },
     "execution_count": 107,
     "metadata": {},
     "output_type": "execute_result"
    }
   ],
   "source": [
    "product_price2=[]\n",
    "for i in product_price_tags2:\n",
    "    product_price2.append(i.text)\n",
    "product_price2[0:5]  "
   ]
  },
  {
   "cell_type": "markdown",
   "id": "warming-resistance",
   "metadata": {},
   "source": [
    "### 6.6.4 Discount % "
   ]
  },
  {
   "cell_type": "code",
   "execution_count": 108,
   "id": "reflected-heart",
   "metadata": {},
   "outputs": [
    {
     "data": {
      "text/plain": [
       "[<selenium.webdriver.remote.webelement.WebElement (session=\"3f3eb6ecc3d3ea2127bb07e0e0ec7b54\", element=\"c1583d8b-97e0-4a06-80bc-194c00cefc88\")>,\n",
       " <selenium.webdriver.remote.webelement.WebElement (session=\"3f3eb6ecc3d3ea2127bb07e0e0ec7b54\", element=\"9b33f924-30da-4958-8781-0c962e397705\")>,\n",
       " <selenium.webdriver.remote.webelement.WebElement (session=\"3f3eb6ecc3d3ea2127bb07e0e0ec7b54\", element=\"d952c579-4698-4b6a-8b04-117353e2735f\")>,\n",
       " <selenium.webdriver.remote.webelement.WebElement (session=\"3f3eb6ecc3d3ea2127bb07e0e0ec7b54\", element=\"fc37b813-aad3-4331-b59b-1fa4c78c711c\")>,\n",
       " <selenium.webdriver.remote.webelement.WebElement (session=\"3f3eb6ecc3d3ea2127bb07e0e0ec7b54\", element=\"2b16af78-84f9-45a6-847d-9c4f45139ec9\")>]"
      ]
     },
     "execution_count": 108,
     "metadata": {},
     "output_type": "execute_result"
    }
   ],
   "source": [
    "discount_tags2=driver.find_elements_by_xpath(\"//div[@class='_3Ay6Sb']\")\n",
    "discount_tags2[0:5]\n"
   ]
  },
  {
   "cell_type": "code",
   "execution_count": 109,
   "id": "square-association",
   "metadata": {},
   "outputs": [
    {
     "data": {
      "text/plain": [
       "['85% off', '15% off', '87% off', '66% off', '15% off']"
      ]
     },
     "execution_count": 109,
     "metadata": {},
     "output_type": "execute_result"
    }
   ],
   "source": [
    "discount2=[]\n",
    "for i in discount_tags2:\n",
    "    discount2.append(i.text)\n",
    "discount2[0:5]"
   ]
  },
  {
   "cell_type": "markdown",
   "id": "alternative-ballet",
   "metadata": {},
   "source": [
    "### 6.7 Moving to page 3"
   ]
  },
  {
   "cell_type": "code",
   "execution_count": 110,
   "id": "incomplete-prerequisite",
   "metadata": {},
   "outputs": [],
   "source": [
    "page_button=driver.find_element_by_xpath(\"//a[@href='/search?q=sunglasses&otracker=search&otracker1=search&marketplace=FLIPKART&as-show=on&as=off&page=3']\")\n",
    "page_button.click()"
   ]
  },
  {
   "cell_type": "markdown",
   "id": "guided-monster",
   "metadata": {},
   "source": [
    "### 6.8 [Page3]  Extracting all tags having Brand Name and Extracting text"
   ]
  },
  {
   "cell_type": "markdown",
   "id": "polish-exemption",
   "metadata": {},
   "source": [
    "### 6.8.1 Brand Name"
   ]
  },
  {
   "cell_type": "code",
   "execution_count": 111,
   "id": "behind-paintball",
   "metadata": {},
   "outputs": [
    {
     "data": {
      "text/plain": [
       "[<selenium.webdriver.remote.webelement.WebElement (session=\"3f3eb6ecc3d3ea2127bb07e0e0ec7b54\", element=\"92653522-82fb-4acc-8253-b378df26e40d\")>,\n",
       " <selenium.webdriver.remote.webelement.WebElement (session=\"3f3eb6ecc3d3ea2127bb07e0e0ec7b54\", element=\"4d269a0d-7b10-44c1-b116-eeb8d35c7d87\")>,\n",
       " <selenium.webdriver.remote.webelement.WebElement (session=\"3f3eb6ecc3d3ea2127bb07e0e0ec7b54\", element=\"6342ce69-1d5d-4d53-b37a-b0410eeb15df\")>,\n",
       " <selenium.webdriver.remote.webelement.WebElement (session=\"3f3eb6ecc3d3ea2127bb07e0e0ec7b54\", element=\"f673253c-365e-4742-9f6e-173c4b069c2c\")>,\n",
       " <selenium.webdriver.remote.webelement.WebElement (session=\"3f3eb6ecc3d3ea2127bb07e0e0ec7b54\", element=\"2f169ebf-f249-4a8e-bb98-fa40de4de83c\")>]"
      ]
     },
     "execution_count": 111,
     "metadata": {},
     "output_type": "execute_result"
    }
   ],
   "source": [
    "brand_name_tags3=driver.find_elements_by_xpath(\"//div[@class='_2WkVRV']\")\n",
    "brand_name_tags3[0:5]"
   ]
  },
  {
   "cell_type": "code",
   "execution_count": 112,
   "id": "challenging-cambridge",
   "metadata": {},
   "outputs": [
    {
     "data": {
      "text/plain": [
       "['Aislin', 'GANSTA', 'NuVew', 'EYEXACK', 'Redleaf']"
      ]
     },
     "execution_count": 112,
     "metadata": {},
     "output_type": "execute_result"
    }
   ],
   "source": [
    "brand_name3=[]\n",
    "for i in brand_name_tags3:\n",
    "    brand_name3.append(i.text)\n",
    "brand_name3[0:5]  "
   ]
  },
  {
   "cell_type": "markdown",
   "id": "younger-polyester",
   "metadata": {},
   "source": [
    "### 6.8.2 Product Description\n",
    "\n",
    "\n"
   ]
  },
  {
   "cell_type": "code",
   "execution_count": 113,
   "id": "entire-minnesota",
   "metadata": {},
   "outputs": [
    {
     "data": {
      "text/plain": [
       "[<selenium.webdriver.remote.webelement.WebElement (session=\"3f3eb6ecc3d3ea2127bb07e0e0ec7b54\", element=\"dce67f89-dada-4904-ae18-a7fa99d0f8f9\")>,\n",
       " <selenium.webdriver.remote.webelement.WebElement (session=\"3f3eb6ecc3d3ea2127bb07e0e0ec7b54\", element=\"42138f73-4d57-4cf9-9d46-5845aaabbce6\")>,\n",
       " <selenium.webdriver.remote.webelement.WebElement (session=\"3f3eb6ecc3d3ea2127bb07e0e0ec7b54\", element=\"b92e0ba9-2c54-463e-859f-c91808c09fff\")>,\n",
       " <selenium.webdriver.remote.webelement.WebElement (session=\"3f3eb6ecc3d3ea2127bb07e0e0ec7b54\", element=\"84454125-b755-48ad-aae4-a5efb254cf92\")>,\n",
       " <selenium.webdriver.remote.webelement.WebElement (session=\"3f3eb6ecc3d3ea2127bb07e0e0ec7b54\", element=\"c8963029-86db-46c1-a4c8-c3592e808f96\")>]"
      ]
     },
     "execution_count": 113,
     "metadata": {},
     "output_type": "execute_result"
    }
   ],
   "source": [
    "product_desc_tags3=driver.find_elements_by_xpath(\"//div[@class='_2B099V']/a[1]\")\n",
    "product_desc_tags3[0:5]\n"
   ]
  },
  {
   "cell_type": "code",
   "execution_count": 114,
   "id": "acquired-disaster",
   "metadata": {},
   "outputs": [
    {
     "data": {
      "text/plain": [
       "['UV Protection, Gradient Oval Sunglasses (58)',\n",
       " 'UV Protection Aviator Sunglasses (57)',\n",
       " 'UV Protection, Gradient, Night Vision, Mirrored Aviator...',\n",
       " 'UV Protection, Night Vision, Riding Glasses Sports Sung...',\n",
       " 'UV Protection Sports Sunglasses (Free Size)']"
      ]
     },
     "execution_count": 114,
     "metadata": {},
     "output_type": "execute_result"
    }
   ],
   "source": [
    "product_desc3=[]\n",
    "for i in product_desc_tags3:\n",
    "    product_desc3.append(i.text)\n",
    "product_desc3[0:5]  \n"
   ]
  },
  {
   "cell_type": "markdown",
   "id": "homeless-telescope",
   "metadata": {},
   "source": [
    "### 6.8.3 Product Price"
   ]
  },
  {
   "cell_type": "code",
   "execution_count": 115,
   "id": "celtic-tyler",
   "metadata": {},
   "outputs": [
    {
     "data": {
      "text/plain": [
       "[<selenium.webdriver.remote.webelement.WebElement (session=\"3f3eb6ecc3d3ea2127bb07e0e0ec7b54\", element=\"ca931f55-f2c5-453b-9b5e-01f18cd4efe1\")>,\n",
       " <selenium.webdriver.remote.webelement.WebElement (session=\"3f3eb6ecc3d3ea2127bb07e0e0ec7b54\", element=\"d65a4670-3d99-44b1-863d-2d9d2dce5f96\")>,\n",
       " <selenium.webdriver.remote.webelement.WebElement (session=\"3f3eb6ecc3d3ea2127bb07e0e0ec7b54\", element=\"7a2a9f9d-e1c1-4c2e-91eb-cfd87364d232\")>,\n",
       " <selenium.webdriver.remote.webelement.WebElement (session=\"3f3eb6ecc3d3ea2127bb07e0e0ec7b54\", element=\"5311ba97-b4db-424c-a581-fce0dce78848\")>,\n",
       " <selenium.webdriver.remote.webelement.WebElement (session=\"3f3eb6ecc3d3ea2127bb07e0e0ec7b54\", element=\"535961c2-8209-4771-9fcd-4e410b937600\")>]"
      ]
     },
     "execution_count": 115,
     "metadata": {},
     "output_type": "execute_result"
    }
   ],
   "source": [
    "product_price_tags3=driver.find_elements_by_xpath(\"//div[@class='_30jeq3']\")\n",
    "product_price_tags3[0:5]"
   ]
  },
  {
   "cell_type": "code",
   "execution_count": 116,
   "id": "induced-wallpaper",
   "metadata": {},
   "outputs": [
    {
     "data": {
      "text/plain": [
       "['₹498', '₹284', '₹365', '₹249', '₹339']"
      ]
     },
     "execution_count": 116,
     "metadata": {},
     "output_type": "execute_result"
    }
   ],
   "source": [
    "product_price3=[]\n",
    "for i in product_price_tags3:\n",
    "    product_price3.append(i.text)\n",
    "product_price3[0:5]  "
   ]
  },
  {
   "cell_type": "markdown",
   "id": "absolute-phase",
   "metadata": {},
   "source": [
    "### 6.8.4 Discount % "
   ]
  },
  {
   "cell_type": "code",
   "execution_count": 117,
   "id": "elementary-cowboy",
   "metadata": {},
   "outputs": [
    {
     "data": {
      "text/plain": [
       "[<selenium.webdriver.remote.webelement.WebElement (session=\"3f3eb6ecc3d3ea2127bb07e0e0ec7b54\", element=\"83cdd490-7f40-4e7e-8bce-12d34b5dcd6f\")>,\n",
       " <selenium.webdriver.remote.webelement.WebElement (session=\"3f3eb6ecc3d3ea2127bb07e0e0ec7b54\", element=\"0cc7c67c-3bb7-4dc7-bde9-e638c966ce6d\")>,\n",
       " <selenium.webdriver.remote.webelement.WebElement (session=\"3f3eb6ecc3d3ea2127bb07e0e0ec7b54\", element=\"5cc9f233-00dc-4f1c-a35b-d0ea2fc5d81a\")>,\n",
       " <selenium.webdriver.remote.webelement.WebElement (session=\"3f3eb6ecc3d3ea2127bb07e0e0ec7b54\", element=\"5e4a2c14-18c0-4ab4-9c69-be009127df4a\")>,\n",
       " <selenium.webdriver.remote.webelement.WebElement (session=\"3f3eb6ecc3d3ea2127bb07e0e0ec7b54\", element=\"fd376dd8-79b0-4458-8baa-124411cff168\")>]"
      ]
     },
     "execution_count": 117,
     "metadata": {},
     "output_type": "execute_result"
    }
   ],
   "source": [
    "discount_tags3=driver.find_elements_by_xpath(\"//div[@class='_3Ay6Sb']\")\n",
    "discount_tags3[0:5]"
   ]
  },
  {
   "cell_type": "code",
   "execution_count": 118,
   "id": "faced-project",
   "metadata": {},
   "outputs": [
    {
     "data": {
      "text/plain": [
       "['67% off', '85% off', '70% off', '75% off', '86% off']"
      ]
     },
     "execution_count": 118,
     "metadata": {},
     "output_type": "execute_result"
    }
   ],
   "source": [
    "discount3=[]\n",
    "for i in discount_tags3:\n",
    "    discount3.append(i.text)\n",
    "discount3[0:5]"
   ]
  },
  {
   "cell_type": "markdown",
   "id": "permanent-scotland",
   "metadata": {},
   "source": [
    "### 6.9 Combining scarped datas from all pages"
   ]
  },
  {
   "cell_type": "code",
   "execution_count": 119,
   "id": "powerful-afternoon",
   "metadata": {
    "scrolled": true
   },
   "outputs": [
    {
     "data": {
      "text/plain": [
       "['ROYAL SON', 'ROYAL SON', 'Fastrack', 'Fastrack', 'PIRASO']"
      ]
     },
     "execution_count": 119,
     "metadata": {},
     "output_type": "execute_result"
    }
   ],
   "source": [
    "brand=brand_name1+brand_name2+brand_name3\n",
    "brand[0:5]"
   ]
  },
  {
   "cell_type": "code",
   "execution_count": 120,
   "id": "greek-chart",
   "metadata": {},
   "outputs": [
    {
     "data": {
      "text/plain": [
       "['Mirrored Aviator Sunglasses (55)',\n",
       " 'UV Protection Retro Square Sunglasses (49)',\n",
       " 'UV Protection Rectangular Sunglasses (Free Size)',\n",
       " 'Mirrored, UV Protection Wayfarer Sunglasses (Free Size)',\n",
       " 'UV Protection Aviator Sunglasses (Free Size)']"
      ]
     },
     "execution_count": 120,
     "metadata": {},
     "output_type": "execute_result"
    }
   ],
   "source": [
    "product_desc=product_desc1+product_desc2+product_desc3\n",
    "product_desc[0:5]"
   ]
  },
  {
   "cell_type": "code",
   "execution_count": 121,
   "id": "young-category",
   "metadata": {},
   "outputs": [
    {
     "data": {
      "text/plain": [
       "['₹379', '₹664', '₹569', '₹499', '₹314']"
      ]
     },
     "execution_count": 121,
     "metadata": {},
     "output_type": "execute_result"
    }
   ],
   "source": [
    "product_price=product_price1+product_price2+product_price3\n",
    "product_price[0:5]"
   ]
  },
  {
   "cell_type": "code",
   "execution_count": 122,
   "id": "dangerous-chancellor",
   "metadata": {},
   "outputs": [
    {
     "data": {
      "text/plain": [
       "['74% off', '66% off', '28% off', '50% off', '80% off']"
      ]
     },
     "execution_count": 122,
     "metadata": {},
     "output_type": "execute_result"
    }
   ],
   "source": [
    "discount=discount1+discount2+discount3\n",
    "discount[0:5]"
   ]
  },
  {
   "cell_type": "markdown",
   "id": "transparent-mainstream",
   "metadata": {},
   "source": [
    "### 6.10 Checking for length of all tags"
   ]
  },
  {
   "cell_type": "code",
   "execution_count": 123,
   "id": "express-petroleum",
   "metadata": {},
   "outputs": [
    {
     "name": "stdout",
     "output_type": "stream",
     "text": [
      "120 120 120 120\n"
     ]
    }
   ],
   "source": [
    "print(len(brand),len(product_desc),len(product_price),len(discount))"
   ]
  },
  {
   "cell_type": "markdown",
   "id": "reduced-horror",
   "metadata": {},
   "source": [
    "### 6.11 scrape the data for the first 100 sunglasses"
   ]
  },
  {
   "cell_type": "code",
   "execution_count": 124,
   "id": "earlier-punch",
   "metadata": {},
   "outputs": [],
   "source": [
    "brand=brand[:-20]\n",
    "product_desc=product_desc[:-20]\n",
    "product_price=product_price[:-20]\n",
    "discount=discount[:-20]"
   ]
  },
  {
   "cell_type": "markdown",
   "id": "casual-oxygen",
   "metadata": {},
   "source": [
    "### 6.12 rechecking the length of all tags"
   ]
  },
  {
   "cell_type": "code",
   "execution_count": 125,
   "id": "modified-accident",
   "metadata": {},
   "outputs": [
    {
     "name": "stdout",
     "output_type": "stream",
     "text": [
      "100 100 100 100\n"
     ]
    }
   ],
   "source": [
    "print(len(brand),len(product_desc),len(product_price),len(discount))"
   ]
  },
  {
   "cell_type": "markdown",
   "id": "amber-blame",
   "metadata": {},
   "source": [
    "### 6.13 DataFraming using Pandas\n",
    "\n"
   ]
  },
  {
   "cell_type": "code",
   "execution_count": 126,
   "id": "expressed-working",
   "metadata": {},
   "outputs": [
    {
     "data": {
      "text/html": [
       "<div>\n",
       "<style scoped>\n",
       "    .dataframe tbody tr th:only-of-type {\n",
       "        vertical-align: middle;\n",
       "    }\n",
       "\n",
       "    .dataframe tbody tr th {\n",
       "        vertical-align: top;\n",
       "    }\n",
       "\n",
       "    .dataframe thead th {\n",
       "        text-align: right;\n",
       "    }\n",
       "</style>\n",
       "<table border=\"1\" class=\"dataframe\">\n",
       "  <thead>\n",
       "    <tr style=\"text-align: right;\">\n",
       "      <th></th>\n",
       "      <th>brand</th>\n",
       "      <th>Product description</th>\n",
       "      <th>Product Price</th>\n",
       "      <th>Discount%</th>\n",
       "    </tr>\n",
       "  </thead>\n",
       "  <tbody>\n",
       "    <tr>\n",
       "      <th>0</th>\n",
       "      <td>ROYAL SON</td>\n",
       "      <td>Mirrored Aviator Sunglasses (55)</td>\n",
       "      <td>₹379</td>\n",
       "      <td>74% off</td>\n",
       "    </tr>\n",
       "    <tr>\n",
       "      <th>1</th>\n",
       "      <td>ROYAL SON</td>\n",
       "      <td>UV Protection Retro Square Sunglasses (49)</td>\n",
       "      <td>₹664</td>\n",
       "      <td>66% off</td>\n",
       "    </tr>\n",
       "    <tr>\n",
       "      <th>2</th>\n",
       "      <td>Fastrack</td>\n",
       "      <td>UV Protection Rectangular Sunglasses (Free Size)</td>\n",
       "      <td>₹569</td>\n",
       "      <td>28% off</td>\n",
       "    </tr>\n",
       "    <tr>\n",
       "      <th>3</th>\n",
       "      <td>Fastrack</td>\n",
       "      <td>Mirrored, UV Protection Wayfarer Sunglasses (F...</td>\n",
       "      <td>₹499</td>\n",
       "      <td>50% off</td>\n",
       "    </tr>\n",
       "    <tr>\n",
       "      <th>4</th>\n",
       "      <td>PIRASO</td>\n",
       "      <td>UV Protection Aviator Sunglasses (Free Size)</td>\n",
       "      <td>₹314</td>\n",
       "      <td>80% off</td>\n",
       "    </tr>\n",
       "    <tr>\n",
       "      <th>...</th>\n",
       "      <td>...</td>\n",
       "      <td>...</td>\n",
       "      <td>...</td>\n",
       "      <td>...</td>\n",
       "    </tr>\n",
       "    <tr>\n",
       "      <th>95</th>\n",
       "      <td>BKGE</td>\n",
       "      <td>UV Protection, Polarized Rectangular Sunglasse...</td>\n",
       "      <td>₹389</td>\n",
       "      <td>80% off</td>\n",
       "    </tr>\n",
       "    <tr>\n",
       "      <th>96</th>\n",
       "      <td>Fastrack</td>\n",
       "      <td>UV Protection Wayfarer Sunglasses (Free Size)</td>\n",
       "      <td>₹758</td>\n",
       "      <td>15% off</td>\n",
       "    </tr>\n",
       "    <tr>\n",
       "      <th>97</th>\n",
       "      <td>NuVew</td>\n",
       "      <td>UV Protection, Mirrored Sports Sunglasses (73)</td>\n",
       "      <td>₹355</td>\n",
       "      <td>71% off</td>\n",
       "    </tr>\n",
       "    <tr>\n",
       "      <th>98</th>\n",
       "      <td>ROZZETTA CRAFT</td>\n",
       "      <td>UV Protection, Gradient Round Sunglasses (Free...</td>\n",
       "      <td>₹399</td>\n",
       "      <td>80% off</td>\n",
       "    </tr>\n",
       "    <tr>\n",
       "      <th>99</th>\n",
       "      <td>fashion style</td>\n",
       "      <td>Polarized, Gradient, UV Protection, Riding Gla...</td>\n",
       "      <td>₹295</td>\n",
       "      <td>75% off</td>\n",
       "    </tr>\n",
       "  </tbody>\n",
       "</table>\n",
       "<p>100 rows × 4 columns</p>\n",
       "</div>"
      ],
      "text/plain": [
       "             brand                                Product description  \\\n",
       "0        ROYAL SON                   Mirrored Aviator Sunglasses (55)   \n",
       "1        ROYAL SON         UV Protection Retro Square Sunglasses (49)   \n",
       "2         Fastrack   UV Protection Rectangular Sunglasses (Free Size)   \n",
       "3         Fastrack  Mirrored, UV Protection Wayfarer Sunglasses (F...   \n",
       "4           PIRASO       UV Protection Aviator Sunglasses (Free Size)   \n",
       "..             ...                                                ...   \n",
       "95            BKGE  UV Protection, Polarized Rectangular Sunglasse...   \n",
       "96        Fastrack      UV Protection Wayfarer Sunglasses (Free Size)   \n",
       "97           NuVew     UV Protection, Mirrored Sports Sunglasses (73)   \n",
       "98  ROZZETTA CRAFT  UV Protection, Gradient Round Sunglasses (Free...   \n",
       "99   fashion style  Polarized, Gradient, UV Protection, Riding Gla...   \n",
       "\n",
       "   Product Price Discount%  \n",
       "0           ₹379   74% off  \n",
       "1           ₹664   66% off  \n",
       "2           ₹569   28% off  \n",
       "3           ₹499   50% off  \n",
       "4           ₹314   80% off  \n",
       "..           ...       ...  \n",
       "95          ₹389   80% off  \n",
       "96          ₹758   15% off  \n",
       "97          ₹355   71% off  \n",
       "98          ₹399   80% off  \n",
       "99          ₹295   75% off  \n",
       "\n",
       "[100 rows x 4 columns]"
      ]
     },
     "execution_count": 126,
     "metadata": {},
     "output_type": "execute_result"
    }
   ],
   "source": [
    "product=pd.DataFrame({})\n",
    "product[\"brand\"]=brand\n",
    "product[\"Product description\"]=product_desc\n",
    "product[\"Product Price\"]=product_price\n",
    "product[\"Discount%\"]=discount\n",
    "product"
   ]
  },
  {
   "cell_type": "markdown",
   "id": "vocal-movie",
   "metadata": {},
   "source": [
    "### 6.14 closing the drive\n"
   ]
  },
  {
   "cell_type": "code",
   "execution_count": 127,
   "id": "criminal-discrimination",
   "metadata": {},
   "outputs": [],
   "source": [
    "driver.close()"
   ]
  },
  {
   "cell_type": "markdown",
   "id": "destroyed-demographic",
   "metadata": {},
   "source": [
    "# 7. Python program to Scrape 100 reviews data from flipkart.com for iphone11 "
   ]
  },
  {
   "cell_type": "markdown",
   "id": "olive-messaging",
   "metadata": {},
   "source": [
    "### 7.1 Connecting to web driver"
   ]
  },
  {
   "cell_type": "code",
   "execution_count": 22,
   "id": "decimal-neighborhood",
   "metadata": {},
   "outputs": [],
   "source": [
    "driver=webdriver.Chrome(r\"c://chromedriver.exe\")"
   ]
  },
  {
   "cell_type": "markdown",
   "id": "enabling-exploration",
   "metadata": {},
   "source": [
    "### 7.2 Getting the webpage"
   ]
  },
  {
   "cell_type": "code",
   "execution_count": 23,
   "id": "rotary-durham",
   "metadata": {},
   "outputs": [],
   "source": [
    "driver.get(\"https://www.flipkart.com/apple-iphone-11-black-64-gb-includes-earpods-power-adapter/p/itm0f37c2240b217?pid=MOBFKCTSVZAXUHGR&lid=LSTMOBFKCTSVZAXUHGREPBFGI&marketplace\")"
   ]
  },
  {
   "cell_type": "markdown",
   "id": "unknown-arrangement",
   "metadata": {},
   "source": [
    "###### Observation:\n",
    "   - The webpage contains only 3 reviews\n",
    "   - so we need to click() on **all review** bar"
   ]
  },
  {
   "cell_type": "code",
   "execution_count": 24,
   "id": "competitive-disney",
   "metadata": {},
   "outputs": [],
   "source": [
    "#clicking on \"all review\" bar\n",
    "all_review=driver.find_element_by_xpath(\"//div[@class='_3UAT2v _16PBlm']\")\n",
    "all_review.click()"
   ]
  },
  {
   "cell_type": "markdown",
   "id": "little-potato",
   "metadata": {},
   "source": [
    "###### Observation\n",
    "   - In the new webpage we can find only 10 reviews\n",
    "   - so we will scrap all the details we need in each page one by one\n"
   ]
  },
  {
   "cell_type": "markdown",
   "id": "durable-citation",
   "metadata": {},
   "source": [
    "### 7.3 Extracting all tags and extracting text in page1"
   ]
  },
  {
   "cell_type": "markdown",
   "id": "intended-dietary",
   "metadata": {},
   "source": [
    "### 7.3.1 Ratings"
   ]
  },
  {
   "cell_type": "code",
   "execution_count": 58,
   "id": "handed-power",
   "metadata": {},
   "outputs": [
    {
     "data": {
      "text/plain": [
       "[<selenium.webdriver.remote.webelement.WebElement (session=\"23ec506dd49379def814bfabc21f6e80\", element=\"40b8e4f2-e9da-4b50-8394-fd311704041d\")>,\n",
       " <selenium.webdriver.remote.webelement.WebElement (session=\"23ec506dd49379def814bfabc21f6e80\", element=\"d7cc287d-fecf-49a1-be45-ca8992a2b0a9\")>,\n",
       " <selenium.webdriver.remote.webelement.WebElement (session=\"23ec506dd49379def814bfabc21f6e80\", element=\"72fb28e5-6721-44f6-b2fa-a6c6d073eb5d\")>,\n",
       " <selenium.webdriver.remote.webelement.WebElement (session=\"23ec506dd49379def814bfabc21f6e80\", element=\"7bfdb70c-72fb-4b74-98db-13eaaf5a402b\")>,\n",
       " <selenium.webdriver.remote.webelement.WebElement (session=\"23ec506dd49379def814bfabc21f6e80\", element=\"bb17f2b1-cb46-4488-b713-d7abade7041d\")>]"
      ]
     },
     "execution_count": 58,
     "metadata": {},
     "output_type": "execute_result"
    }
   ],
   "source": [
    "rating_tags1=driver.find_elements_by_xpath(\"//div[@class='_3LWZlK _1BLPMq']\")\n",
    "rating_tags1[0:5]"
   ]
  },
  {
   "cell_type": "code",
   "execution_count": 59,
   "id": "floppy-hammer",
   "metadata": {},
   "outputs": [
    {
     "data": {
      "text/plain": [
       "['5', '5', '5', '5', '5', '5', '5', '5', '5', '5']"
      ]
     },
     "execution_count": 59,
     "metadata": {},
     "output_type": "execute_result"
    }
   ],
   "source": [
    "rating1=[]\n",
    "for i in rating_tags1:\n",
    "    rating1.append(i.text)\n",
    "rating1[0:10]  "
   ]
  },
  {
   "cell_type": "markdown",
   "id": "thermal-restaurant",
   "metadata": {},
   "source": [
    "### 7.3.2 Review Summary"
   ]
  },
  {
   "cell_type": "code",
   "execution_count": 60,
   "id": "automatic-citizenship",
   "metadata": {},
   "outputs": [
    {
     "data": {
      "text/plain": [
       "[<selenium.webdriver.remote.webelement.WebElement (session=\"23ec506dd49379def814bfabc21f6e80\", element=\"fc28fe5e-07a8-4a02-955f-4f0b096d67e8\")>,\n",
       " <selenium.webdriver.remote.webelement.WebElement (session=\"23ec506dd49379def814bfabc21f6e80\", element=\"5fa8c918-402e-4786-8787-9827abc17ead\")>,\n",
       " <selenium.webdriver.remote.webelement.WebElement (session=\"23ec506dd49379def814bfabc21f6e80\", element=\"fbdc4f00-1ea1-4f39-958d-880f2f5dde79\")>,\n",
       " <selenium.webdriver.remote.webelement.WebElement (session=\"23ec506dd49379def814bfabc21f6e80\", element=\"94527c2e-5c25-43ec-8c80-9a63fd8ba402\")>,\n",
       " <selenium.webdriver.remote.webelement.WebElement (session=\"23ec506dd49379def814bfabc21f6e80\", element=\"d3399d66-216d-4160-b09e-d3e05b57d9c0\")>]"
      ]
     },
     "execution_count": 60,
     "metadata": {},
     "output_type": "execute_result"
    }
   ],
   "source": [
    "review_summary_tags1=driver.find_elements_by_xpath(\"//p[@class='_2-N8zT']\")\n",
    "review_summary_tags1[0:5]"
   ]
  },
  {
   "cell_type": "code",
   "execution_count": 61,
   "id": "straight-restoration",
   "metadata": {},
   "outputs": [
    {
     "data": {
      "text/plain": [
       "['Brilliant',\n",
       " 'Perfect product!',\n",
       " 'Great product',\n",
       " 'Worth every penny',\n",
       " 'Highly recommended',\n",
       " 'Perfect product!',\n",
       " 'Perfect product!',\n",
       " 'Fabulous!',\n",
       " 'Wonderful',\n",
       " 'Worth every penny']"
      ]
     },
     "execution_count": 61,
     "metadata": {},
     "output_type": "execute_result"
    }
   ],
   "source": [
    "review_summary1=[]\n",
    "for i in review_summary_tags1:\n",
    "    review_summary1.append(i.text)\n",
    "review_summary1[0:10] "
   ]
  },
  {
   "cell_type": "markdown",
   "id": "valid-duplicate",
   "metadata": {},
   "source": [
    "### 7.3.3 Full Review"
   ]
  },
  {
   "cell_type": "code",
   "execution_count": 62,
   "id": "attached-broadcasting",
   "metadata": {},
   "outputs": [
    {
     "data": {
      "text/plain": [
       "[<selenium.webdriver.remote.webelement.WebElement (session=\"23ec506dd49379def814bfabc21f6e80\", element=\"e96194e0-18ac-494d-9c45-6faacf9ad083\")>,\n",
       " <selenium.webdriver.remote.webelement.WebElement (session=\"23ec506dd49379def814bfabc21f6e80\", element=\"34d14f6b-ca69-4119-a75d-ef1c8dad2166\")>,\n",
       " <selenium.webdriver.remote.webelement.WebElement (session=\"23ec506dd49379def814bfabc21f6e80\", element=\"b2820125-d84b-4c17-b392-b6a74b213ba2\")>,\n",
       " <selenium.webdriver.remote.webelement.WebElement (session=\"23ec506dd49379def814bfabc21f6e80\", element=\"6ee517f2-45dc-41ce-854a-73e9a85e9e92\")>,\n",
       " <selenium.webdriver.remote.webelement.WebElement (session=\"23ec506dd49379def814bfabc21f6e80\", element=\"586c6aac-cdef-4b81-a5e2-5534fe3cd4f8\")>]"
      ]
     },
     "execution_count": 62,
     "metadata": {},
     "output_type": "execute_result"
    }
   ],
   "source": [
    "full_review_tags1=driver.find_elements_by_xpath(\"//div[@class='t-ZTKy']\")\n",
    "full_review_tags1[0:5] "
   ]
  },
  {
   "cell_type": "code",
   "execution_count": 63,
   "id": "collective-conditioning",
   "metadata": {},
   "outputs": [
    {
     "data": {
      "text/plain": [
       "['The Best Phone for the Money,,The iPhone 11 offers superb cameras, a more durable design and excellent battery life for an affordable price.,,Compelling ultra-wide camera,New Night mode is excellent,Long battery life',\n",
       " 'Amazing phone with great cameras and better battery which gives you the best performance. I just love the camera .',\n",
       " 'Amazing Powerful and Durable Gadget.,,I’m am very happy with the camera picture quality, Amazing face id unlocked in dark room, Strong battery with perfect screen size as you can carry easily in pocket. This is my third iPhone.,,I shifted from android Samsung Note series to iPhone because of the strong build quality and peace of mind for next 3-4 years.,,Don’t think to much just go for it and I suggest you to go for minimum 128gb variant or more 256gb.,,I’ve attached my puppy pics and no fi...,READ MORE',\n",
       " 'Previously I was using one plus 3t it was a great phone,And then I decided to upgrade I am stuck between Samsung s10 plus or iPhone 11,I have seen the specs and everything were good except the display it’s somewhere between 720-1080 and it’s not even an amoled it’s an LCD display,But I decided to go with iPhone because I have never used an IOS device I have Been an android user from the past 9 years I ordered IPhone 11 (128gb) product red,My experience after using 3 weeks,1. The delivery ...,READ MORE',\n",
       " 'iphone 11 is a very good phone to buy only if you can compromise for the display. The display on this is device is pretty good but you can get other options with better displays in this price segment.,If you can survive with an HD+ LCD panel with thicker bezels and a notch up top then this is a very good phone for you.,Cameras are awesome, battery backup excellent, great performance and a decent premium look. Good job Apple !']"
      ]
     },
     "execution_count": 63,
     "metadata": {},
     "output_type": "execute_result"
    }
   ],
   "source": [
    "full_review1=[]\n",
    "for i in full_review_tags1:\n",
    "    full_review1.append(i.text.replace(\"\\n\",\",\"))\n",
    "full_review1[0:5] "
   ]
  },
  {
   "cell_type": "markdown",
   "id": "charitable-fifteen",
   "metadata": {},
   "source": [
    "### Moving to page 2"
   ]
  },
  {
   "cell_type": "code",
   "execution_count": 64,
   "id": "missing-hours",
   "metadata": {},
   "outputs": [],
   "source": [
    "page_button=driver.find_element_by_xpath(\"//nav[@class='yFHi8N']/a[2]\")\n",
    "page_button.click()"
   ]
  },
  {
   "cell_type": "markdown",
   "id": "acute-prevention",
   "metadata": {},
   "source": [
    "### 7.4 Extracting all tags and extracting text in page2"
   ]
  },
  {
   "cell_type": "markdown",
   "id": "fantastic-panama",
   "metadata": {},
   "source": [
    "### 7.4.1 Ratings"
   ]
  },
  {
   "cell_type": "code",
   "execution_count": 65,
   "id": "welcome-david",
   "metadata": {},
   "outputs": [
    {
     "data": {
      "text/plain": [
       "[<selenium.webdriver.remote.webelement.WebElement (session=\"23ec506dd49379def814bfabc21f6e80\", element=\"a4085ab6-342c-495a-82e2-951114455e9b\")>,\n",
       " <selenium.webdriver.remote.webelement.WebElement (session=\"23ec506dd49379def814bfabc21f6e80\", element=\"64d83774-1787-4b5a-a78f-8e2e6aa0e1ea\")>,\n",
       " <selenium.webdriver.remote.webelement.WebElement (session=\"23ec506dd49379def814bfabc21f6e80\", element=\"37c983bf-a128-445b-8b49-3de7e5a8eae7\")>,\n",
       " <selenium.webdriver.remote.webelement.WebElement (session=\"23ec506dd49379def814bfabc21f6e80\", element=\"70b30dec-1e0f-4da3-809f-56ea0a692e05\")>,\n",
       " <selenium.webdriver.remote.webelement.WebElement (session=\"23ec506dd49379def814bfabc21f6e80\", element=\"7fde0f86-f391-47eb-9cd5-83b43a111bac\")>]"
      ]
     },
     "execution_count": 65,
     "metadata": {},
     "output_type": "execute_result"
    }
   ],
   "source": [
    "rating_tags2=driver.find_elements_by_xpath(\"//div[@class='_3LWZlK _1BLPMq']\")\n",
    "rating_tags2[0:5]"
   ]
  },
  {
   "cell_type": "code",
   "execution_count": 66,
   "id": "protected-enemy",
   "metadata": {},
   "outputs": [
    {
     "data": {
      "text/plain": [
       "['5', '5', '5', '4', '5', '5', '5', '5', '5', '5']"
      ]
     },
     "execution_count": 66,
     "metadata": {},
     "output_type": "execute_result"
    }
   ],
   "source": [
    "rating2=[]\n",
    "for i in rating_tags2:\n",
    "    rating2.append(i.text)\n",
    "rating2[0:10]  \n"
   ]
  },
  {
   "cell_type": "markdown",
   "id": "composed-symposium",
   "metadata": {},
   "source": [
    "### 7.4.2 Review Summary"
   ]
  },
  {
   "cell_type": "code",
   "execution_count": 67,
   "id": "conscious-technique",
   "metadata": {},
   "outputs": [
    {
     "data": {
      "text/plain": [
       "[<selenium.webdriver.remote.webelement.WebElement (session=\"23ec506dd49379def814bfabc21f6e80\", element=\"3f8cf71c-a488-4251-abd0-ef19f1b16a52\")>,\n",
       " <selenium.webdriver.remote.webelement.WebElement (session=\"23ec506dd49379def814bfabc21f6e80\", element=\"a779c299-8cec-406e-95d5-1f6fe741e693\")>,\n",
       " <selenium.webdriver.remote.webelement.WebElement (session=\"23ec506dd49379def814bfabc21f6e80\", element=\"973e2318-927a-4e3b-a9fd-f0d6316a9a23\")>,\n",
       " <selenium.webdriver.remote.webelement.WebElement (session=\"23ec506dd49379def814bfabc21f6e80\", element=\"08210ce7-ed7f-40f5-bbf9-b69742d89da8\")>,\n",
       " <selenium.webdriver.remote.webelement.WebElement (session=\"23ec506dd49379def814bfabc21f6e80\", element=\"fc78318c-6724-4f86-aee8-1bfbd01bd2a4\")>]"
      ]
     },
     "execution_count": 67,
     "metadata": {},
     "output_type": "execute_result"
    }
   ],
   "source": [
    "review_summary_tags2=driver.find_elements_by_xpath(\"//p[@class='_2-N8zT']\")\n",
    "review_summary_tags2[0:5]"
   ]
  },
  {
   "cell_type": "code",
   "execution_count": 68,
   "id": "graphic-colleague",
   "metadata": {},
   "outputs": [
    {
     "data": {
      "text/plain": [
       "['Worth every penny',\n",
       " 'Simply awesome',\n",
       " 'Perfect product!',\n",
       " 'Nice product',\n",
       " 'Terrific',\n",
       " 'Brilliant',\n",
       " 'Terrific purchase',\n",
       " 'Must buy!',\n",
       " 'Wonderful',\n",
       " 'Mind-blowing purchase']"
      ]
     },
     "execution_count": 68,
     "metadata": {},
     "output_type": "execute_result"
    }
   ],
   "source": [
    "review_summary2=[]\n",
    "for i in review_summary_tags2:\n",
    "    review_summary2.append(i.text)\n",
    "review_summary2[0:10] "
   ]
  },
  {
   "cell_type": "markdown",
   "id": "static-undergraduate",
   "metadata": {},
   "source": [
    "### 7.4.3 Full Review"
   ]
  },
  {
   "cell_type": "code",
   "execution_count": 69,
   "id": "useful-hanging",
   "metadata": {},
   "outputs": [
    {
     "data": {
      "text/plain": [
       "[<selenium.webdriver.remote.webelement.WebElement (session=\"23ec506dd49379def814bfabc21f6e80\", element=\"83f09898-7ceb-4d49-aff0-9195d0381152\")>,\n",
       " <selenium.webdriver.remote.webelement.WebElement (session=\"23ec506dd49379def814bfabc21f6e80\", element=\"6ffaf6b7-bc90-4807-ae12-bc1741254739\")>,\n",
       " <selenium.webdriver.remote.webelement.WebElement (session=\"23ec506dd49379def814bfabc21f6e80\", element=\"10319f5b-3cf4-4943-9828-f7112f8f3f0a\")>,\n",
       " <selenium.webdriver.remote.webelement.WebElement (session=\"23ec506dd49379def814bfabc21f6e80\", element=\"fd746a92-e5c6-48b4-bba7-54dd7488be77\")>,\n",
       " <selenium.webdriver.remote.webelement.WebElement (session=\"23ec506dd49379def814bfabc21f6e80\", element=\"aa8451e1-7905-4bdc-9623-344fb1e10c5c\")>]"
      ]
     },
     "execution_count": 69,
     "metadata": {},
     "output_type": "execute_result"
    }
   ],
   "source": [
    "full_review_tags2=driver.find_elements_by_xpath(\"//div[@class='t-ZTKy']\")\n",
    "full_review_tags2[0:5] "
   ]
  },
  {
   "cell_type": "code",
   "execution_count": 70,
   "id": "earned-carbon",
   "metadata": {},
   "outputs": [
    {
     "data": {
      "text/plain": [
       "['It’s been almost a month since I have been using this phone. I upgraded from an iPhone 8. The main issue with my 8 was battery and this phone is just awesome when it comes to battery. It lasts a day and a half for me with my regular use , internet connected always with 4g,Can’t move forward without saying this. Battery of this phone is a life saver when I am traveling or at work when I don’t get the option to charge,Camera is superb. Front cam selfies and back cam photos are just awesome.,...,READ MORE',\n",
       " 'Excellent camera, good performance, no lag. The lcd display is also good.. but difference come when we watch movie in prime and Netflix, the colours are not vibrant.. as we see in amoled display.. and the charger in box is of 5 watts.. takes more than 3 hours to charge from 0 to 100.. so guys be prepare to buy 18 watts charger . Finally I am an android user, it was my first Iapple phone, I promise u guys the iOS is so smooth.. overall the phone is damn good.... close eyes to buy it.. thanks t...,READ MORE',\n",
       " \"Iphone is just awesome.. battery backup is very very nice.. continuously for 10 hours we can use it.camera is just awesome.. display is just fab.i love it alot..i had to wait 15 days for it as i pre ordered it..overalll it's worth the price..these all images are clicked by my iPhone..and i love it.\",\n",
       " 'Awesome Phone. Slightly high price but worth. Better than iPhone XR.,Camera is superb and wide angle camera is very clear.,12MP selfie camera is also very good.,A13 Chip gives a very good and smooth performance.',\n",
       " 'Really worth of money. i just love it. It is the best phone ever.']"
      ]
     },
     "execution_count": 70,
     "metadata": {},
     "output_type": "execute_result"
    }
   ],
   "source": [
    "full_review2=[]\n",
    "for i in full_review_tags2:\n",
    "    full_review2.append(i.text.replace(\"\\n\",\",\"))\n",
    "full_review2[0:5] "
   ]
  },
  {
   "cell_type": "markdown",
   "id": "after-savings",
   "metadata": {},
   "source": [
    "### Moving to page 3"
   ]
  },
  {
   "cell_type": "code",
   "execution_count": 71,
   "id": "driving-damage",
   "metadata": {},
   "outputs": [],
   "source": [
    "page_button=driver.find_element_by_xpath(\"//a[@href='/apple-iphone-11-black-64-gb-includes-earpods-power-adapter/product-reviews/itm0f37c2240b217?pid=MOBFKCTSVZAXUHGR&lid=LSTMOBFKCTSVZAXUHGREPBFGI&marketplace=FLIPKART&page=3']\")\n",
    "page_button.click()"
   ]
  },
  {
   "cell_type": "markdown",
   "id": "anticipated-virtue",
   "metadata": {},
   "source": [
    "### 7.5 Extracting all tags and extracting text in page3"
   ]
  },
  {
   "cell_type": "markdown",
   "id": "convinced-affair",
   "metadata": {},
   "source": [
    "### 7.5.1 Ratings"
   ]
  },
  {
   "cell_type": "code",
   "execution_count": 72,
   "id": "individual-authentication",
   "metadata": {},
   "outputs": [
    {
     "data": {
      "text/plain": [
       "[<selenium.webdriver.remote.webelement.WebElement (session=\"23ec506dd49379def814bfabc21f6e80\", element=\"8371b34d-96bd-4524-84d1-69b62a8f6274\")>,\n",
       " <selenium.webdriver.remote.webelement.WebElement (session=\"23ec506dd49379def814bfabc21f6e80\", element=\"fd32e17c-64cc-4e58-b7aa-b90d1caa545f\")>,\n",
       " <selenium.webdriver.remote.webelement.WebElement (session=\"23ec506dd49379def814bfabc21f6e80\", element=\"8d90fa44-4385-4fbd-be5e-84364dd887c3\")>,\n",
       " <selenium.webdriver.remote.webelement.WebElement (session=\"23ec506dd49379def814bfabc21f6e80\", element=\"a2193ef4-e59b-4bd0-bbd7-f6f89a9fac13\")>,\n",
       " <selenium.webdriver.remote.webelement.WebElement (session=\"23ec506dd49379def814bfabc21f6e80\", element=\"28671d6a-ac05-4584-b04e-aa29e0e25d7a\")>]"
      ]
     },
     "execution_count": 72,
     "metadata": {},
     "output_type": "execute_result"
    }
   ],
   "source": [
    "rating_tags3=driver.find_elements_by_xpath(\"//div[@class='_3LWZlK _1BLPMq']\")\n",
    "rating_tags3[0:5]"
   ]
  },
  {
   "cell_type": "code",
   "execution_count": 73,
   "id": "personal-relative",
   "metadata": {},
   "outputs": [
    {
     "data": {
      "text/plain": [
       "['5', '5', '5', '4', '5', '5', '5', '5', '5']"
      ]
     },
     "execution_count": 73,
     "metadata": {},
     "output_type": "execute_result"
    }
   ],
   "source": [
    "rating3=[]\n",
    "for i in rating_tags3:\n",
    "    rating3.append(i.text)\n",
    "rating3[0:10]  "
   ]
  },
  {
   "cell_type": "markdown",
   "id": "acknowledged-genius",
   "metadata": {},
   "source": [
    "###### Observation:\n",
    "\n",
    "   - In Above cell output we can see some missing values.\n",
    "   - when we observe closely we can see a rating in red box which has a different class as that of other\n",
    "   - since we dont have anyother options we proceed to add this rating value with the others in seperate manner"
   ]
  },
  {
   "cell_type": "code",
   "execution_count": 45,
   "id": "mental-filename",
   "metadata": {},
   "outputs": [
    {
     "data": {
      "text/plain": [
       "['5', '5', '5', '4']"
      ]
     },
     "execution_count": 45,
     "metadata": {},
     "output_type": "execute_result"
    }
   ],
   "source": [
    "rating3_1=rating3[0:4]\n",
    "rating3_1"
   ]
  },
  {
   "cell_type": "code",
   "execution_count": 74,
   "id": "deadly-component",
   "metadata": {},
   "outputs": [
    {
     "data": {
      "text/plain": [
       "[<selenium.webdriver.remote.webelement.WebElement (session=\"23ec506dd49379def814bfabc21f6e80\", element=\"98afef83-7d0c-4515-981d-daaf8f97f699\")>]"
      ]
     },
     "execution_count": 74,
     "metadata": {},
     "output_type": "execute_result"
    }
   ],
   "source": [
    "rating3_2_tags3=driver.find_elements_by_xpath(\"//div[@class='_3LWZlK _1rdVr6 _1BLPMq']\")\n",
    "rating3_2_tags3[0:5]"
   ]
  },
  {
   "cell_type": "code",
   "execution_count": 75,
   "id": "amended-force",
   "metadata": {},
   "outputs": [
    {
     "data": {
      "text/plain": [
       "['1']"
      ]
     },
     "execution_count": 75,
     "metadata": {},
     "output_type": "execute_result"
    }
   ],
   "source": [
    "rating3_2=[]\n",
    "for i in rating3_2_tags3:\n",
    "    rating3_2.append(i.text)\n",
    "rating3_2[0:10]  "
   ]
  },
  {
   "cell_type": "code",
   "execution_count": 77,
   "id": "spread-apache",
   "metadata": {},
   "outputs": [
    {
     "data": {
      "text/plain": [
       "['5', '5', '5', '5', '5']"
      ]
     },
     "execution_count": 77,
     "metadata": {},
     "output_type": "execute_result"
    }
   ],
   "source": [
    "rating3_3=rating3[4:]\n",
    "rating3_3"
   ]
  },
  {
   "cell_type": "code",
   "execution_count": 78,
   "id": "central-tractor",
   "metadata": {},
   "outputs": [
    {
     "data": {
      "text/plain": [
       "['5', '5', '5', '4', '1', '5', '5', '5', '5', '5']"
      ]
     },
     "execution_count": 78,
     "metadata": {},
     "output_type": "execute_result"
    }
   ],
   "source": [
    "rating3=rating3_1+rating3_2+rating3_3\n",
    "rating3"
   ]
  },
  {
   "cell_type": "markdown",
   "id": "stuffed-concrete",
   "metadata": {},
   "source": [
    "### 7.5.2 Review Summary"
   ]
  },
  {
   "cell_type": "code",
   "execution_count": 79,
   "id": "sudden-alexander",
   "metadata": {},
   "outputs": [
    {
     "data": {
      "text/plain": [
       "[<selenium.webdriver.remote.webelement.WebElement (session=\"23ec506dd49379def814bfabc21f6e80\", element=\"44214c80-ec1b-4767-9a79-b0a5b5f0acb8\")>,\n",
       " <selenium.webdriver.remote.webelement.WebElement (session=\"23ec506dd49379def814bfabc21f6e80\", element=\"e2ba66f6-fd3c-41d0-b32e-c06b2fe027c3\")>,\n",
       " <selenium.webdriver.remote.webelement.WebElement (session=\"23ec506dd49379def814bfabc21f6e80\", element=\"68cba05d-d1bb-4bbb-905f-ce17f5f59177\")>,\n",
       " <selenium.webdriver.remote.webelement.WebElement (session=\"23ec506dd49379def814bfabc21f6e80\", element=\"d9cd61a2-446e-44d5-8dd3-9088bb94e102\")>,\n",
       " <selenium.webdriver.remote.webelement.WebElement (session=\"23ec506dd49379def814bfabc21f6e80\", element=\"a0920e3b-1f00-4702-8617-ea4d379fcc6a\")>]"
      ]
     },
     "execution_count": 79,
     "metadata": {},
     "output_type": "execute_result"
    }
   ],
   "source": [
    "review_summary_tags3=driver.find_elements_by_xpath(\"//p[@class='_2-N8zT']\")\n",
    "review_summary_tags3[0:5]"
   ]
  },
  {
   "cell_type": "code",
   "execution_count": 80,
   "id": "employed-charm",
   "metadata": {},
   "outputs": [
    {
     "data": {
      "text/plain": [
       "['Great product',\n",
       " 'Terrific purchase',\n",
       " 'Simply awesome',\n",
       " 'Good quality product',\n",
       " 'Very poor',\n",
       " 'Fabulous!',\n",
       " 'Highly recommended',\n",
       " 'Mind-blowing purchase',\n",
       " 'Mind-blowing purchase',\n",
       " 'Wonderful']"
      ]
     },
     "execution_count": 80,
     "metadata": {},
     "output_type": "execute_result"
    }
   ],
   "source": [
    "review_summary3=[]\n",
    "for i in review_summary_tags3:\n",
    "    review_summary3.append(i.text)\n",
    "review_summary3[0:10] "
   ]
  },
  {
   "cell_type": "markdown",
   "id": "decreased-officer",
   "metadata": {},
   "source": [
    "### 7.5.3 Full Review"
   ]
  },
  {
   "cell_type": "code",
   "execution_count": 81,
   "id": "independent-moses",
   "metadata": {},
   "outputs": [
    {
     "data": {
      "text/plain": [
       "[<selenium.webdriver.remote.webelement.WebElement (session=\"23ec506dd49379def814bfabc21f6e80\", element=\"e900f733-458d-4959-a148-bf338d7f2dd1\")>,\n",
       " <selenium.webdriver.remote.webelement.WebElement (session=\"23ec506dd49379def814bfabc21f6e80\", element=\"d8631250-807f-40e3-82f0-bed422eb2b4f\")>,\n",
       " <selenium.webdriver.remote.webelement.WebElement (session=\"23ec506dd49379def814bfabc21f6e80\", element=\"3c9f7f66-e7a6-4963-af77-a11a54d836e3\")>,\n",
       " <selenium.webdriver.remote.webelement.WebElement (session=\"23ec506dd49379def814bfabc21f6e80\", element=\"d38cc303-dfc2-4cf9-aef4-e188c463ca66\")>,\n",
       " <selenium.webdriver.remote.webelement.WebElement (session=\"23ec506dd49379def814bfabc21f6e80\", element=\"f4635664-1014-4021-b8b3-48fbf1fb3c39\")>]"
      ]
     },
     "execution_count": 81,
     "metadata": {},
     "output_type": "execute_result"
    }
   ],
   "source": [
    "full_review_tags3=driver.find_elements_by_xpath(\"//div[@class='t-ZTKy']\")\n",
    "full_review_tags3[0:5] "
   ]
  },
  {
   "cell_type": "code",
   "execution_count": 82,
   "id": "silent-cause",
   "metadata": {},
   "outputs": [
    {
     "data": {
      "text/plain": [
       "['Well you all know the specifications . One of a kind. Best iPhone till date. Many enhancements to the camera app with many options. Love the glass body with matte finish in the lens area on the back. Lovely colours to choose from. Best battery in an iPhone till date, enough to last more than a day in normal usage. I tested my iPhone 11 battery and lasted for than 24 hours after full charge still with 30% battery charge left. Watched movies for some time. Normal usage on calls, browsing, musi...,READ MORE',\n",
       " 'The built quality is not very premium.,The battery back is great .,The LCD panel is not so sharp but the brightness level is very High .,Camera is super duper awesome.,The red colour which people think is bright is actually very soothing and excellent colour to choose from .,The A13 Bionic chip is really a flagship processor and can beat any phone which even has 12 gb ram .,Camera module is very great and looks very stylish.',\n",
       " 'Really good actually this is my first apple product am using its really awesome performance wise excellent. Am really happy with this iphone11',\n",
       " 'it is very good at performance. Camera is best like before and very smooth response even in water. Don’t buy 12 mini buy iPhone 11 , it is far better than 12 mini believe me ! Have a nice day \\uf8ff ☺️',\n",
       " 'Reviewing again after 5 months. At the beginning the battery and performance was good but it degraded soon. Also I was facing heating issues. The mobile will heat up like a stove sometimes. You cannot even play Pubg even in low settings properly, performance is not a problem but heating is. Also if you play that game for 10 mins the brightness will be automatically down due to over heating even when the auto brightness is set to off. This will not be solved even if u manually increase the bri...,READ MORE']"
      ]
     },
     "execution_count": 82,
     "metadata": {},
     "output_type": "execute_result"
    }
   ],
   "source": [
    "full_review3=[]\n",
    "for i in full_review_tags3:\n",
    "    full_review3.append(i.text.replace(\"\\n\",\",\"))\n",
    "full_review3[0:5] "
   ]
  },
  {
   "cell_type": "markdown",
   "id": "direct-parks",
   "metadata": {},
   "source": [
    "### Moving to page 4"
   ]
  },
  {
   "cell_type": "code",
   "execution_count": 83,
   "id": "encouraging-webcam",
   "metadata": {},
   "outputs": [],
   "source": [
    "page_button=driver.find_element_by_xpath(\"//a[@href='/apple-iphone-11-black-64-gb-includes-earpods-power-adapter/product-reviews/itm0f37c2240b217?pid=MOBFKCTSVZAXUHGR&lid=LSTMOBFKCTSVZAXUHGREPBFGI&marketplace=FLIPKART&page=4']\")\n",
    "page_button.click()"
   ]
  },
  {
   "cell_type": "markdown",
   "id": "sealed-merit",
   "metadata": {},
   "source": [
    "### 7.6 Extracting all tags and extracting text in page4"
   ]
  },
  {
   "cell_type": "markdown",
   "id": "maritime-freight",
   "metadata": {},
   "source": [
    "### 7.6.1 Ratings"
   ]
  },
  {
   "cell_type": "code",
   "execution_count": 84,
   "id": "indonesian-queensland",
   "metadata": {},
   "outputs": [
    {
     "data": {
      "text/plain": [
       "[<selenium.webdriver.remote.webelement.WebElement (session=\"23ec506dd49379def814bfabc21f6e80\", element=\"0b2f1568-786d-4268-96f1-045741d2c11b\")>,\n",
       " <selenium.webdriver.remote.webelement.WebElement (session=\"23ec506dd49379def814bfabc21f6e80\", element=\"2d558b00-4adc-4554-98ea-a07dd6a2dde3\")>,\n",
       " <selenium.webdriver.remote.webelement.WebElement (session=\"23ec506dd49379def814bfabc21f6e80\", element=\"f200498a-1fd1-4da6-9f79-d9f306276d81\")>,\n",
       " <selenium.webdriver.remote.webelement.WebElement (session=\"23ec506dd49379def814bfabc21f6e80\", element=\"84840371-c843-40f9-8220-8d27c33cfb81\")>,\n",
       " <selenium.webdriver.remote.webelement.WebElement (session=\"23ec506dd49379def814bfabc21f6e80\", element=\"dfcb8c7c-b4f5-4666-9a00-830d7c089273\")>]"
      ]
     },
     "execution_count": 84,
     "metadata": {},
     "output_type": "execute_result"
    }
   ],
   "source": [
    "rating_tags4=driver.find_elements_by_xpath(\"//div[@class='_3LWZlK _1BLPMq']\")\n",
    "rating_tags4[0:5]\n"
   ]
  },
  {
   "cell_type": "code",
   "execution_count": 85,
   "id": "homeless-stanley",
   "metadata": {},
   "outputs": [
    {
     "data": {
      "text/plain": [
       "['4', '5', '5', '5', '5', '5', '4', '5', '5', '5']"
      ]
     },
     "execution_count": 85,
     "metadata": {},
     "output_type": "execute_result"
    }
   ],
   "source": [
    "rating4=[]\n",
    "for i in rating_tags4:\n",
    "    rating4.append(i.text)\n",
    "rating4[0:10]  "
   ]
  },
  {
   "cell_type": "markdown",
   "id": "perceived-trash",
   "metadata": {},
   "source": [
    "### 7.6.2 Review Summary"
   ]
  },
  {
   "cell_type": "code",
   "execution_count": 86,
   "id": "authorized-fitting",
   "metadata": {},
   "outputs": [
    {
     "data": {
      "text/plain": [
       "[<selenium.webdriver.remote.webelement.WebElement (session=\"23ec506dd49379def814bfabc21f6e80\", element=\"05eb483b-3226-4fcc-8bee-5c7a80e5424b\")>,\n",
       " <selenium.webdriver.remote.webelement.WebElement (session=\"23ec506dd49379def814bfabc21f6e80\", element=\"9b5c6802-4dba-4137-b126-57d70d835c6c\")>,\n",
       " <selenium.webdriver.remote.webelement.WebElement (session=\"23ec506dd49379def814bfabc21f6e80\", element=\"e9cac285-20b7-41f5-bbe5-7a847e308d1b\")>,\n",
       " <selenium.webdriver.remote.webelement.WebElement (session=\"23ec506dd49379def814bfabc21f6e80\", element=\"79355d01-bcc9-4908-b61b-159a1ea92a9d\")>,\n",
       " <selenium.webdriver.remote.webelement.WebElement (session=\"23ec506dd49379def814bfabc21f6e80\", element=\"9c749278-62e6-42ab-bcae-6456b75ba2ff\")>]"
      ]
     },
     "execution_count": 86,
     "metadata": {},
     "output_type": "execute_result"
    }
   ],
   "source": [
    "review_summary_tags4=driver.find_elements_by_xpath(\"//p[@class='_2-N8zT']\")\n",
    "review_summary_tags4[0:5]"
   ]
  },
  {
   "cell_type": "code",
   "execution_count": 87,
   "id": "entire-sucking",
   "metadata": {},
   "outputs": [
    {
     "data": {
      "text/plain": [
       "['Good choice',\n",
       " 'Perfect product!',\n",
       " 'Classy product',\n",
       " 'Perfect product!',\n",
       " 'Just wow!',\n",
       " 'Awesome',\n",
       " 'Good choice',\n",
       " 'Terrific purchase',\n",
       " 'Perfect product!',\n",
       " 'Highly recommended']"
      ]
     },
     "execution_count": 87,
     "metadata": {},
     "output_type": "execute_result"
    }
   ],
   "source": [
    "review_summary4=[]\n",
    "for i in review_summary_tags4:\n",
    "    review_summary4.append(i.text)\n",
    "review_summary4[0:10] "
   ]
  },
  {
   "cell_type": "markdown",
   "id": "portable-beverage",
   "metadata": {},
   "source": [
    "### 7.6.4 Full Review"
   ]
  },
  {
   "cell_type": "code",
   "execution_count": 88,
   "id": "cultural-webmaster",
   "metadata": {},
   "outputs": [
    {
     "data": {
      "text/plain": [
       "[<selenium.webdriver.remote.webelement.WebElement (session=\"23ec506dd49379def814bfabc21f6e80\", element=\"479df799-32ea-4618-9491-4eb2677f6aea\")>,\n",
       " <selenium.webdriver.remote.webelement.WebElement (session=\"23ec506dd49379def814bfabc21f6e80\", element=\"ea353bcd-3c19-45fc-8086-84ac325fb33f\")>,\n",
       " <selenium.webdriver.remote.webelement.WebElement (session=\"23ec506dd49379def814bfabc21f6e80\", element=\"62c838b3-8936-4b64-96e0-a1910f204413\")>,\n",
       " <selenium.webdriver.remote.webelement.WebElement (session=\"23ec506dd49379def814bfabc21f6e80\", element=\"bdfb0b07-722d-47a7-9cb6-8619d37914c3\")>,\n",
       " <selenium.webdriver.remote.webelement.WebElement (session=\"23ec506dd49379def814bfabc21f6e80\", element=\"5915c1c9-5709-4c59-a4fc-091a3b461923\")>]"
      ]
     },
     "execution_count": 88,
     "metadata": {},
     "output_type": "execute_result"
    }
   ],
   "source": [
    "full_review_tags4=driver.find_elements_by_xpath(\"//div[@class='t-ZTKy']\")\n",
    "full_review_tags4[0:5]"
   ]
  },
  {
   "cell_type": "code",
   "execution_count": 89,
   "id": "applicable-alcohol",
   "metadata": {},
   "outputs": [
    {
     "data": {
      "text/plain": [
       "['Looking so good 👍 😍 super 👌 stylish 😎 phone,Clean box 📦 good 👍 delivery 👌 fast delivery,Original box Original iphone 📱 👌 😍😍😍',\n",
       " 'Battery backup is extraordinary, camera is decent & performance offered by A13 bionic is awsome. The display is good in practical usage like the visibility of display is very good in direct sun light compare to pro models. Iam extremely satisfied for the money I spent.',\n",
       " 'Well while switching from android to iOS the first thing you need to be careful about is that you will loose all your whatsapp chat backups as both are different operating systems. Camera clarity is awesome and though being an lcd screen clarity and resolution is good. Battery backup is also good unlike previous gen iPhone. So far the experience is good will Padre after a few months of usage.,,P.S the black is more of a dark grey shade and not jet black',\n",
       " 'In love with this iphone great performance,camera ,battery everything. Go for it have a uncompareble battery backup, no doubts in iPhone camera here You can see the picture which is shot on my iPhone In love with this iphone great performance,camera ,battery everything. Go for it have a uncompareble battery backup, no doubts in iPhone camera here You can see the picture which is shot on my iPhone In love with this iphone great performance,camera ,battery everything. Go for it have a uncompare...,READ MORE',\n",
       " 'Best in class. Battery backup is good especially when you play games like Pubg COD. But it is sort of heavy when you hold in hands. Portrait mode is best to click pictures. Stage light effect is awesome. Try to click photos outside in nature because photos inside home or room will not give you the quality in any phone even in DSLR.']"
      ]
     },
     "execution_count": 89,
     "metadata": {},
     "output_type": "execute_result"
    }
   ],
   "source": [
    "full_review4=[]\n",
    "for i in full_review_tags4:\n",
    "    full_review4.append(i.text.replace(\"\\n\",\",\"))\n",
    "full_review4[0:5] "
   ]
  },
  {
   "cell_type": "markdown",
   "id": "everyday-drill",
   "metadata": {},
   "source": [
    "### Moving to page 5"
   ]
  },
  {
   "cell_type": "code",
   "execution_count": 90,
   "id": "beneficial-christmas",
   "metadata": {},
   "outputs": [],
   "source": [
    "page_button=driver.find_element_by_xpath(\"//a[@href='/apple-iphone-11-black-64-gb-includes-earpods-power-adapter/product-reviews/itm0f37c2240b217?pid=MOBFKCTSVZAXUHGR&lid=LSTMOBFKCTSVZAXUHGREPBFGI&marketplace=FLIPKART&page=5']\")\n",
    "page_button.click()"
   ]
  },
  {
   "cell_type": "markdown",
   "id": "metric-plaza",
   "metadata": {},
   "source": [
    "### 7.7 Extracting all tags and extracting text in page5"
   ]
  },
  {
   "cell_type": "markdown",
   "id": "honey-field",
   "metadata": {},
   "source": [
    "### 7.7.1 Ratings`"
   ]
  },
  {
   "cell_type": "code",
   "execution_count": 91,
   "id": "under-composition",
   "metadata": {},
   "outputs": [
    {
     "data": {
      "text/plain": [
       "[<selenium.webdriver.remote.webelement.WebElement (session=\"23ec506dd49379def814bfabc21f6e80\", element=\"2d00f5fd-78f4-44d9-9e54-dcf82b0185f4\")>,\n",
       " <selenium.webdriver.remote.webelement.WebElement (session=\"23ec506dd49379def814bfabc21f6e80\", element=\"e0d34abe-c8f3-48f4-9f30-53605cb7da69\")>,\n",
       " <selenium.webdriver.remote.webelement.WebElement (session=\"23ec506dd49379def814bfabc21f6e80\", element=\"e01cc93f-fa93-44e8-bd57-67494706ec7a\")>,\n",
       " <selenium.webdriver.remote.webelement.WebElement (session=\"23ec506dd49379def814bfabc21f6e80\", element=\"2eff2843-7c30-4f33-8d7b-398ee35355d2\")>,\n",
       " <selenium.webdriver.remote.webelement.WebElement (session=\"23ec506dd49379def814bfabc21f6e80\", element=\"6b0080c1-4857-40af-8f48-70e4a7d1e148\")>]"
      ]
     },
     "execution_count": 91,
     "metadata": {},
     "output_type": "execute_result"
    }
   ],
   "source": [
    "rating_tags5=driver.find_elements_by_xpath(\"//div[@class='_3LWZlK _1BLPMq']\")\n",
    "rating_tags5[0:5]"
   ]
  },
  {
   "cell_type": "code",
   "execution_count": 92,
   "id": "stretch-convenience",
   "metadata": {},
   "outputs": [
    {
     "data": {
      "text/plain": [
       "['5', '5', '5', '5', '5', '5', '5', '5', '5', '5']"
      ]
     },
     "execution_count": 92,
     "metadata": {},
     "output_type": "execute_result"
    }
   ],
   "source": [
    "rating5=[]\n",
    "for i in rating_tags5:\n",
    "    rating5.append(i.text)\n",
    "rating5[0:10]  "
   ]
  },
  {
   "cell_type": "markdown",
   "id": "operating-geneva",
   "metadata": {},
   "source": [
    "### 7.7.2 Review Summary"
   ]
  },
  {
   "cell_type": "code",
   "execution_count": 93,
   "id": "instructional-direction",
   "metadata": {},
   "outputs": [
    {
     "data": {
      "text/plain": [
       "[<selenium.webdriver.remote.webelement.WebElement (session=\"23ec506dd49379def814bfabc21f6e80\", element=\"172c0775-e14b-479b-b3c9-4a23ad345f19\")>,\n",
       " <selenium.webdriver.remote.webelement.WebElement (session=\"23ec506dd49379def814bfabc21f6e80\", element=\"2e40d3db-9bde-4530-ba08-32d42b5baa2a\")>,\n",
       " <selenium.webdriver.remote.webelement.WebElement (session=\"23ec506dd49379def814bfabc21f6e80\", element=\"650d93fe-89fe-4631-8c1a-5f68cd8b99dd\")>,\n",
       " <selenium.webdriver.remote.webelement.WebElement (session=\"23ec506dd49379def814bfabc21f6e80\", element=\"5e7d290b-41fe-494f-9245-c505d35b25ac\")>,\n",
       " <selenium.webdriver.remote.webelement.WebElement (session=\"23ec506dd49379def814bfabc21f6e80\", element=\"4f6f174c-57ce-4ca9-8785-d6b738648664\")>]"
      ]
     },
     "execution_count": 93,
     "metadata": {},
     "output_type": "execute_result"
    }
   ],
   "source": [
    "review_summary_tags5=driver.find_elements_by_xpath(\"//p[@class='_2-N8zT']\")\n",
    "review_summary_tags5[0:5]"
   ]
  },
  {
   "cell_type": "code",
   "execution_count": 94,
   "id": "thorough-syntax",
   "metadata": {},
   "outputs": [
    {
     "data": {
      "text/plain": [
       "['Perfect product!',\n",
       " 'Excellent',\n",
       " 'Fabulous!',\n",
       " 'Excellent',\n",
       " 'Just wow!',\n",
       " 'Simply awesome',\n",
       " 'Terrific purchase',\n",
       " 'Simply awesome',\n",
       " 'Worth every penny',\n",
       " 'Classy product']"
      ]
     },
     "execution_count": 94,
     "metadata": {},
     "output_type": "execute_result"
    }
   ],
   "source": [
    "review_summary5=[]\n",
    "for i in review_summary_tags5:\n",
    "    review_summary5.append(i.text)\n",
    "review_summary5[0:10] "
   ]
  },
  {
   "cell_type": "markdown",
   "id": "elder-pastor",
   "metadata": {},
   "source": [
    "### 7.7.5 Full Review"
   ]
  },
  {
   "cell_type": "code",
   "execution_count": 95,
   "id": "hindu-messaging",
   "metadata": {},
   "outputs": [
    {
     "data": {
      "text/plain": [
       "[<selenium.webdriver.remote.webelement.WebElement (session=\"23ec506dd49379def814bfabc21f6e80\", element=\"1f462405-37b5-43e1-b52c-8d686030d0e0\")>,\n",
       " <selenium.webdriver.remote.webelement.WebElement (session=\"23ec506dd49379def814bfabc21f6e80\", element=\"489e3638-850f-4176-a304-e30823e9e6fc\")>,\n",
       " <selenium.webdriver.remote.webelement.WebElement (session=\"23ec506dd49379def814bfabc21f6e80\", element=\"a4cfef3a-9f9e-4294-b1f5-041f3b5cda5a\")>,\n",
       " <selenium.webdriver.remote.webelement.WebElement (session=\"23ec506dd49379def814bfabc21f6e80\", element=\"42508d34-00ed-4c6f-9ea7-68102fbca07b\")>,\n",
       " <selenium.webdriver.remote.webelement.WebElement (session=\"23ec506dd49379def814bfabc21f6e80\", element=\"011e69ae-c52f-4beb-a12d-cc2e3ebb87fc\")>]"
      ]
     },
     "execution_count": 95,
     "metadata": {},
     "output_type": "execute_result"
    }
   ],
   "source": [
    "full_review_tags5=driver.find_elements_by_xpath(\"//div[@class='t-ZTKy']\")\n",
    "full_review_tags5[0:5]\n"
   ]
  },
  {
   "cell_type": "code",
   "execution_count": 96,
   "id": "elementary-astrology",
   "metadata": {},
   "outputs": [
    {
     "data": {
      "text/plain": [
       "['Awesome purchase. Amazing phone with good battery backup. It’s a top notch device. White colour looks amazing. Phone has a few extra feature than iPhone XR. Overall, this is value for money',\n",
       " 'Amazing camera and feel super machine I am not describe my feeling but this is amazing Phone I am so lucky I have this',\n",
       " 'awesome phone to have. it has got many smart features apart from mind blowing looks, camera, display, battery and sound. have fallen in love with this phone. must buy phone if you have got enough money. thanks to flipkart and apple of course..',\n",
       " 'Its a fabulous mobile look awesome performance unbeaten camera like dslr battery good i think this is a beast of mobile',\n",
       " 'Dear friends... I want to share my experience with you about this amazing I phone 11....this is my first iPhone and special things about this mobile is it has great camera, battery backup and awesome display.... I mean everything is perfect.loved it 👍👍👍']"
      ]
     },
     "execution_count": 96,
     "metadata": {},
     "output_type": "execute_result"
    }
   ],
   "source": [
    "full_review5=[]\n",
    "for i in full_review_tags5:\n",
    "    full_review5.append(i.text.replace(\"\\n\",\",\"))\n",
    "full_review5[0:5] "
   ]
  },
  {
   "cell_type": "markdown",
   "id": "consecutive-english",
   "metadata": {},
   "source": [
    "### Moving to page 6\n",
    "\n"
   ]
  },
  {
   "cell_type": "code",
   "execution_count": 97,
   "id": "infinite-tournament",
   "metadata": {},
   "outputs": [],
   "source": [
    "page_button=driver.find_element_by_xpath(\"//a[@href='/apple-iphone-11-black-64-gb-includes-earpods-power-adapter/product-reviews/itm0f37c2240b217?pid=MOBFKCTSVZAXUHGR&lid=LSTMOBFKCTSVZAXUHGREPBFGI&marketplace=FLIPKART&page=6']\")\n",
    "page_button.click()"
   ]
  },
  {
   "cell_type": "markdown",
   "id": "prescription-processing",
   "metadata": {},
   "source": [
    "### 7.8 Extracting all tags and extracting text in page6"
   ]
  },
  {
   "cell_type": "markdown",
   "id": "fresh-iraqi",
   "metadata": {},
   "source": [
    "### 7.8.1 Ratings"
   ]
  },
  {
   "cell_type": "code",
   "execution_count": 98,
   "id": "considered-undergraduate",
   "metadata": {},
   "outputs": [
    {
     "data": {
      "text/plain": [
       "[<selenium.webdriver.remote.webelement.WebElement (session=\"23ec506dd49379def814bfabc21f6e80\", element=\"cc8039d9-e992-4b40-8e45-be1059e3683a\")>,\n",
       " <selenium.webdriver.remote.webelement.WebElement (session=\"23ec506dd49379def814bfabc21f6e80\", element=\"16a8bf29-308c-48d7-9cb2-26d70bbcede3\")>,\n",
       " <selenium.webdriver.remote.webelement.WebElement (session=\"23ec506dd49379def814bfabc21f6e80\", element=\"376a86f6-aa45-4123-b5c1-45e422b7fb2b\")>,\n",
       " <selenium.webdriver.remote.webelement.WebElement (session=\"23ec506dd49379def814bfabc21f6e80\", element=\"efd7fb25-d412-486e-a0e5-5ae7d3c060a3\")>,\n",
       " <selenium.webdriver.remote.webelement.WebElement (session=\"23ec506dd49379def814bfabc21f6e80\", element=\"09aab364-be94-4bb7-a57f-611879e45087\")>,\n",
       " <selenium.webdriver.remote.webelement.WebElement (session=\"23ec506dd49379def814bfabc21f6e80\", element=\"5aad2dc4-2c70-4b56-9bd0-016258441d35\")>]"
      ]
     },
     "execution_count": 98,
     "metadata": {},
     "output_type": "execute_result"
    }
   ],
   "source": [
    "rating_tags6=driver.find_elements_by_xpath(\"//div[@class='_3LWZlK _1BLPMq']\")\n",
    "rating_tags6[0:6]"
   ]
  },
  {
   "cell_type": "code",
   "execution_count": 99,
   "id": "timely-american",
   "metadata": {},
   "outputs": [
    {
     "data": {
      "text/plain": [
       "['5', '5', '5', '4', '4', '5', '4', '5', '5', '5']"
      ]
     },
     "execution_count": 99,
     "metadata": {},
     "output_type": "execute_result"
    }
   ],
   "source": [
    "rating6=[]\n",
    "for i in rating_tags6:\n",
    "    rating6.append(i.text)\n",
    "rating6[0:10]  "
   ]
  },
  {
   "cell_type": "markdown",
   "id": "coordinate-payroll",
   "metadata": {},
   "source": [
    "### 7.8.2 Review Summary"
   ]
  },
  {
   "cell_type": "code",
   "execution_count": 100,
   "id": "cellular-emission",
   "metadata": {},
   "outputs": [
    {
     "data": {
      "text/plain": [
       "[<selenium.webdriver.remote.webelement.WebElement (session=\"23ec506dd49379def814bfabc21f6e80\", element=\"e79c6f5c-454c-4db9-ab72-6b0b5787fc86\")>,\n",
       " <selenium.webdriver.remote.webelement.WebElement (session=\"23ec506dd49379def814bfabc21f6e80\", element=\"a21055e4-d978-4be0-abaf-29144082fafc\")>,\n",
       " <selenium.webdriver.remote.webelement.WebElement (session=\"23ec506dd49379def814bfabc21f6e80\", element=\"b9563a31-047f-4fb1-be62-dab37e7eeebf\")>,\n",
       " <selenium.webdriver.remote.webelement.WebElement (session=\"23ec506dd49379def814bfabc21f6e80\", element=\"5c843281-fd5b-48ba-8e2d-6a1fea312b0b\")>,\n",
       " <selenium.webdriver.remote.webelement.WebElement (session=\"23ec506dd49379def814bfabc21f6e80\", element=\"f146cc4c-ac49-4c23-86df-8a03973e294e\")>,\n",
       " <selenium.webdriver.remote.webelement.WebElement (session=\"23ec506dd49379def814bfabc21f6e80\", element=\"f0823d99-8fc8-4f4b-84b1-f9cbd72627af\")>]"
      ]
     },
     "execution_count": 100,
     "metadata": {},
     "output_type": "execute_result"
    }
   ],
   "source": [
    "review_summary_tags6=driver.find_elements_by_xpath(\"//p[@class='_2-N8zT']\")\n",
    "review_summary_tags6[0:6]"
   ]
  },
  {
   "cell_type": "code",
   "execution_count": 101,
   "id": "convertible-plant",
   "metadata": {},
   "outputs": [
    {
     "data": {
      "text/plain": [
       "['Brilliant',\n",
       " 'Mind-blowing purchase',\n",
       " 'Awesome',\n",
       " 'Value-for-money',\n",
       " 'Good quality product',\n",
       " 'Super!',\n",
       " 'Good quality product',\n",
       " 'Terrific purchase',\n",
       " 'Super!',\n",
       " 'Fabulous!']"
      ]
     },
     "execution_count": 101,
     "metadata": {},
     "output_type": "execute_result"
    }
   ],
   "source": [
    "review_summary6=[]\n",
    "for i in review_summary_tags6:\n",
    "    review_summary6.append(i.text)\n",
    "review_summary6[0:10] "
   ]
  },
  {
   "cell_type": "markdown",
   "id": "requested-liechtenstein",
   "metadata": {},
   "source": [
    "### 7.8.6 Full Review"
   ]
  },
  {
   "cell_type": "code",
   "execution_count": 102,
   "id": "crude-austria",
   "metadata": {},
   "outputs": [
    {
     "data": {
      "text/plain": [
       "[<selenium.webdriver.remote.webelement.WebElement (session=\"23ec506dd49379def814bfabc21f6e80\", element=\"5f9dea05-f01b-4a40-87b4-c6460a265567\")>,\n",
       " <selenium.webdriver.remote.webelement.WebElement (session=\"23ec506dd49379def814bfabc21f6e80\", element=\"03ddd009-bc74-42b7-b802-ec74fdc43cee\")>,\n",
       " <selenium.webdriver.remote.webelement.WebElement (session=\"23ec506dd49379def814bfabc21f6e80\", element=\"eefa45ab-b10e-4bd9-8a90-bc3d02fb0200\")>,\n",
       " <selenium.webdriver.remote.webelement.WebElement (session=\"23ec506dd49379def814bfabc21f6e80\", element=\"32f4180d-99fe-43c9-bffe-434d9fc355a3\")>,\n",
       " <selenium.webdriver.remote.webelement.WebElement (session=\"23ec506dd49379def814bfabc21f6e80\", element=\"1ac5b106-6424-45b6-aec9-ad1a79f6e21f\")>,\n",
       " <selenium.webdriver.remote.webelement.WebElement (session=\"23ec506dd49379def814bfabc21f6e80\", element=\"9069a396-4ee7-4349-9ea1-a4ecd48860d3\")>]"
      ]
     },
     "execution_count": 102,
     "metadata": {},
     "output_type": "execute_result"
    }
   ],
   "source": [
    "full_review_tags6=driver.find_elements_by_xpath(\"//div[@class='t-ZTKy']\")\n",
    "full_review_tags6[0:6]"
   ]
  },
  {
   "cell_type": "code",
   "execution_count": 103,
   "id": "needed-graduate",
   "metadata": {},
   "outputs": [
    {
     "data": {
      "text/plain": [
       "['Amazing phone and on great deal I received with super fast delivery by Flipkart...',\n",
       " 'awesome Phone Smooth Touch Too good Sexyy looks one word Awesome',\n",
       " 'Always love the apple products, upgraded from old iPhone 6S plus to this after having my first baby. I just love to click baby’s photos with it. Overall I just love this phone. Battery back up is okay, sound quality is good. Haven’t tested yet waterproof yet. Only one thing I hate is apple could have given charger & headphones in box.',\n",
       " \"I'm Really happy with the product,Delivery was fast as well,..it was a gift for my sister and she loved it so much.\",\n",
       " \"I'm switching this phone to oppo reno 10x zoom,It's really impressive,Rarely I'm missing smooth display touch response like oppo reno but,I really loved it.,Camera really impressive\",\n",
       " \"It's a great phone. From camera to display everything is best for the price.,Best camera , best performance. I think everyone should buy it . This phone has best battery life so far in iphone series which I had used earlier. Happy to have it. Thanks Flipkart\"]"
      ]
     },
     "execution_count": 103,
     "metadata": {},
     "output_type": "execute_result"
    }
   ],
   "source": [
    "full_review6=[]\n",
    "for i in full_review_tags6:\n",
    "    full_review6.append(i.text.replace(\"\\n\",\",\"))\n",
    "full_review6[0:6] "
   ]
  },
  {
   "cell_type": "markdown",
   "id": "duplicate-guide",
   "metadata": {},
   "source": [
    "### Moving to page 7"
   ]
  },
  {
   "cell_type": "code",
   "execution_count": 106,
   "id": "discrete-silly",
   "metadata": {},
   "outputs": [],
   "source": [
    "page_button=driver.find_element_by_xpath(\"//a[@href='/apple-iphone-11-black-64-gb-includes-earpods-power-adapter/product-reviews/itm0f37c2240b217?pid=MOBFKCTSVZAXUHGR&lid=LSTMOBFKCTSVZAXUHGREPBFGI&marketplace=FLIPKART&page=7']\")\n",
    "page_button.click()"
   ]
  },
  {
   "cell_type": "markdown",
   "id": "allied-clinic",
   "metadata": {},
   "source": [
    "### 7.9 Extracting all tags and extracting text in page7"
   ]
  },
  {
   "cell_type": "markdown",
   "id": "ignored-married",
   "metadata": {},
   "source": [
    "### 7.9.1 Ratings"
   ]
  },
  {
   "cell_type": "code",
   "execution_count": 107,
   "id": "literary-diving",
   "metadata": {},
   "outputs": [
    {
     "data": {
      "text/plain": [
       "[<selenium.webdriver.remote.webelement.WebElement (session=\"23ec506dd49379def814bfabc21f6e80\", element=\"53b43eaa-7241-4831-8162-73dc69d8acf7\")>,\n",
       " <selenium.webdriver.remote.webelement.WebElement (session=\"23ec506dd49379def814bfabc21f6e80\", element=\"67855a61-93de-43c0-b8a5-fa2211e77e0c\")>,\n",
       " <selenium.webdriver.remote.webelement.WebElement (session=\"23ec506dd49379def814bfabc21f6e80\", element=\"fc63cef3-a8e0-48c6-8275-c66024d68e47\")>,\n",
       " <selenium.webdriver.remote.webelement.WebElement (session=\"23ec506dd49379def814bfabc21f6e80\", element=\"75dc3cfd-be93-49ac-b07a-6bc044ec7368\")>,\n",
       " <selenium.webdriver.remote.webelement.WebElement (session=\"23ec506dd49379def814bfabc21f6e80\", element=\"94bd54fb-5faa-402c-8799-1c8800fbac62\")>,\n",
       " <selenium.webdriver.remote.webelement.WebElement (session=\"23ec506dd49379def814bfabc21f6e80\", element=\"c654bae9-a6ba-4e31-86ad-80c1ce6ff46a\")>,\n",
       " <selenium.webdriver.remote.webelement.WebElement (session=\"23ec506dd49379def814bfabc21f6e80\", element=\"9682d481-f8e7-4846-bc41-0c91c92cbd2b\")>]"
      ]
     },
     "execution_count": 107,
     "metadata": {},
     "output_type": "execute_result"
    }
   ],
   "source": [
    "rating_tags7=driver.find_elements_by_xpath(\"//div[@class='_3LWZlK _1BLPMq']\")\n",
    "rating_tags7[0:7]"
   ]
  },
  {
   "cell_type": "code",
   "execution_count": 108,
   "id": "changed-breakfast",
   "metadata": {},
   "outputs": [
    {
     "data": {
      "text/plain": [
       "['5', '4', '5', '5', '5', '3', '5', '5', '5', '4']"
      ]
     },
     "execution_count": 108,
     "metadata": {},
     "output_type": "execute_result"
    }
   ],
   "source": [
    "rating7=[]\n",
    "for i in rating_tags7:\n",
    "    rating7.append(i.text)\n",
    "rating7[0:10]  "
   ]
  },
  {
   "cell_type": "markdown",
   "id": "unavailable-sixth",
   "metadata": {},
   "source": [
    "### 7.9.2 Review Summary "
   ]
  },
  {
   "cell_type": "code",
   "execution_count": 109,
   "id": "forced-stroke",
   "metadata": {},
   "outputs": [
    {
     "data": {
      "text/plain": [
       "[<selenium.webdriver.remote.webelement.WebElement (session=\"23ec506dd49379def814bfabc21f6e80\", element=\"98d924d2-7b62-4b8c-8d4e-83825befea56\")>,\n",
       " <selenium.webdriver.remote.webelement.WebElement (session=\"23ec506dd49379def814bfabc21f6e80\", element=\"24b57378-441a-41eb-8556-05c78cbb6789\")>,\n",
       " <selenium.webdriver.remote.webelement.WebElement (session=\"23ec506dd49379def814bfabc21f6e80\", element=\"d665b466-72b1-44cc-abc8-94647ee5ce60\")>,\n",
       " <selenium.webdriver.remote.webelement.WebElement (session=\"23ec506dd49379def814bfabc21f6e80\", element=\"0db0262d-eaec-4151-a09d-c9dafd39d649\")>,\n",
       " <selenium.webdriver.remote.webelement.WebElement (session=\"23ec506dd49379def814bfabc21f6e80\", element=\"f3d72e0b-0945-4f9c-94ba-3b7cdb26eea2\")>,\n",
       " <selenium.webdriver.remote.webelement.WebElement (session=\"23ec506dd49379def814bfabc21f6e80\", element=\"81b6933c-a737-4f47-93bb-4059cc5a4613\")>,\n",
       " <selenium.webdriver.remote.webelement.WebElement (session=\"23ec506dd49379def814bfabc21f6e80\", element=\"a3d6d839-73e2-434f-9172-2101331fa4ad\")>]"
      ]
     },
     "execution_count": 109,
     "metadata": {},
     "output_type": "execute_result"
    }
   ],
   "source": [
    "review_summary_tags7=driver.find_elements_by_xpath(\"//p[@class='_2-N8zT']\")\n",
    "review_summary_tags7[0:7]"
   ]
  },
  {
   "cell_type": "code",
   "execution_count": 110,
   "id": "celtic-fabric",
   "metadata": {},
   "outputs": [
    {
     "data": {
      "text/plain": [
       "['Must buy!',\n",
       " 'Wonderful',\n",
       " 'Excellent',\n",
       " 'Mind-blowing purchase',\n",
       " 'Awesome',\n",
       " 'Decent product',\n",
       " 'Brilliant',\n",
       " 'Wonderful',\n",
       " 'Just wow!',\n",
       " 'Good quality product']"
      ]
     },
     "execution_count": 110,
     "metadata": {},
     "output_type": "execute_result"
    }
   ],
   "source": [
    "review_summary7=[]\n",
    "for i in review_summary_tags7:\n",
    "    review_summary7.append(i.text)\n",
    "review_summary7[0:10]"
   ]
  },
  {
   "cell_type": "markdown",
   "id": "julian-earthquake",
   "metadata": {},
   "source": [
    "### 7.9.7 Full Review"
   ]
  },
  {
   "cell_type": "code",
   "execution_count": 111,
   "id": "rapid-penny",
   "metadata": {},
   "outputs": [
    {
     "data": {
      "text/plain": [
       "[<selenium.webdriver.remote.webelement.WebElement (session=\"23ec506dd49379def814bfabc21f6e80\", element=\"b4df90f1-0836-41dd-a2d7-6c89f0469a47\")>,\n",
       " <selenium.webdriver.remote.webelement.WebElement (session=\"23ec506dd49379def814bfabc21f6e80\", element=\"3fd00915-2785-4e01-8e5e-d1b29132d1e7\")>,\n",
       " <selenium.webdriver.remote.webelement.WebElement (session=\"23ec506dd49379def814bfabc21f6e80\", element=\"6c8f3ee6-bed7-46b0-85b6-0f6aa3194e6e\")>,\n",
       " <selenium.webdriver.remote.webelement.WebElement (session=\"23ec506dd49379def814bfabc21f6e80\", element=\"9c8cfd37-fd8e-4995-a419-5e44b0370d3a\")>,\n",
       " <selenium.webdriver.remote.webelement.WebElement (session=\"23ec506dd49379def814bfabc21f6e80\", element=\"05872cf0-b339-479c-b2df-a796c38bf886\")>,\n",
       " <selenium.webdriver.remote.webelement.WebElement (session=\"23ec506dd49379def814bfabc21f6e80\", element=\"4fe44614-34bd-45bf-9103-a32840e260c0\")>,\n",
       " <selenium.webdriver.remote.webelement.WebElement (session=\"23ec506dd49379def814bfabc21f6e80\", element=\"b01672da-84e2-4943-b29e-65360b6c3f3b\")>]"
      ]
     },
     "execution_count": 111,
     "metadata": {},
     "output_type": "execute_result"
    }
   ],
   "source": [
    "full_review_tags7=driver.find_elements_by_xpath(\"//div[@class='t-ZTKy']\")\n",
    "full_review_tags7[0:7]\n"
   ]
  },
  {
   "cell_type": "code",
   "execution_count": 112,
   "id": "forced-insurance",
   "metadata": {},
   "outputs": [
    {
     "data": {
      "text/plain": [
       "['Best Apple iPhone that i have bought at a very reasonable price, camera quality is next level just awesome n of superior quality android phones not even close(RIP) to that and also battery is really good but packaging by Flipkart of iPhone was very poor of such a expensive product, firstly im bit worried about the quality of product if i purchased it through online how was the product but i think now this was mine best decision to bought it through Flipkart online because i got genuine Apple...,READ MORE',\n",
       " \"I genuinely liked it. One of the best mobile phones I have used. It's sho smooth and it's security is very astonishing. Plus it has a very good camera quality. so overall it's a win win.\",\n",
       " \"Just go for it.,This phone is really amazing. I ordered it for my wife and we click photos on this thing which are better than dslr. I own OnePlus 6t but it's camera sucks. iPhone is really amazing when it comes to camera. It's worth spending 50k on this. Cons- only display is lcd. While using u don't feel it but if u compare with other phone then u can see difference quite easily.,Changing from Android to iphone is bit difficult coz most of things u don't know but I liked it. Some of the a...,READ MORE\",\n",
       " 'Absolutely powerful gadget. Loved it’s look! Soo glassy and classy. I would definitely recommend this model of Apple. Only disappointed with the 5W charger, one should purchase an 18W adapter for fast charging. Though battery backup is great. Bought it in September 2020, reviewing after so long so I’m gonna put the genuine review here.✅',\n",
       " 'The phone is completely good,As far as camera Apple is king of it,And its a beast in performance,And the battery is pretty good too',\n",
       " 'Everything u ll like it when u use this iPhone. Simple changes only not many to lower models but it’s nice to use. Little heavy compared to previous models like 7,8',\n",
       " 'Excellent camera and display touching very nice and smooth very improvement against iPhone XR and new processor is very fast']"
      ]
     },
     "execution_count": 112,
     "metadata": {},
     "output_type": "execute_result"
    }
   ],
   "source": [
    "full_review7=[]\n",
    "for i in full_review_tags7:\n",
    "    full_review7.append(i.text.replace(\"\\n\",\",\"))\n",
    "full_review7[0:7]"
   ]
  },
  {
   "cell_type": "markdown",
   "id": "julian-musician",
   "metadata": {},
   "source": [
    "### Moving to page 8"
   ]
  },
  {
   "cell_type": "code",
   "execution_count": 113,
   "id": "controlled-dublin",
   "metadata": {},
   "outputs": [],
   "source": [
    "page_button=driver.find_element_by_xpath(\"//a[@href='/apple-iphone-11-black-64-gb-includes-earpods-power-adapter/product-reviews/itm0f37c2240b217?pid=MOBFKCTSVZAXUHGR&lid=LSTMOBFKCTSVZAXUHGREPBFGI&marketplace=FLIPKART&page=8']\")\n",
    "page_button.click()"
   ]
  },
  {
   "cell_type": "markdown",
   "id": "unlikely-chemical",
   "metadata": {},
   "source": [
    "### 7.9 Extracting all tags and extracting text in page8"
   ]
  },
  {
   "cell_type": "code",
   "execution_count": 125,
   "id": "norman-amateur",
   "metadata": {},
   "outputs": [
    {
     "name": "stdout",
     "output_type": "stream",
     "text": [
      "the length of review_summary 10\n"
     ]
    }
   ],
   "source": [
    "### 7.9.1 Ratings\n",
    "rating_tags8=driver.find_elements_by_xpath(\"//div[@class='_3LWZlK _1BLPMq']\")\n",
    "rating8=[]\n",
    "for i in rating_tags8:\n",
    "    rating8.append(i.text)  \n",
    "### 7.9.2 Review Summary\n",
    "review_summary_tags8=driver.find_elements_by_xpath(\"//p[@class='_2-N8zT']\")\n",
    "review_summary8=[]\n",
    "for i in review_summary_tags8:\n",
    "    review_summary8.append(i.text)\n",
    "### 7.9.7Full Review\n",
    "full_review_tags8=driver.find_elements_by_xpath(\"//div[@class='t-ZTKy']\")\n",
    "full_review8=[]\n",
    "for i in full_review_tags8:\n",
    "    full_review8.append(i.text.replace(\"\\n\",\",\"))\n",
    "print(\"the length of review_summary\",len(review_summary8))"
   ]
  },
  {
   "cell_type": "markdown",
   "id": "legitimate-owner",
   "metadata": {},
   "source": [
    "### Moving to page 9"
   ]
  },
  {
   "cell_type": "code",
   "execution_count": 115,
   "id": "generic-dispute",
   "metadata": {},
   "outputs": [],
   "source": [
    "page_button=driver.find_element_by_xpath(\"//a[@href='/apple-iphone-11-black-64-gb-includes-earpods-power-adapter/product-reviews/itm0f37c2240b217?pid=MOBFKCTSVZAXUHGR&lid=LSTMOBFKCTSVZAXUHGREPBFGI&marketplace=FLIPKART&page=9']\")\n",
    "page_button.click()"
   ]
  },
  {
   "cell_type": "markdown",
   "id": "induced-check",
   "metadata": {},
   "source": [
    "### 7.10 Extracting all tags and extracting text in page 9"
   ]
  },
  {
   "cell_type": "code",
   "execution_count": 131,
   "id": "radical-signal",
   "metadata": {},
   "outputs": [],
   "source": [
    "### 7.10.1 Ratings\n",
    "rating_tags9=driver.find_elements_by_xpath(\"//div[@class='_3LWZlK _1BLPMq']\")\n",
    "rating9=[]\n",
    "for i in rating_tags9:\n",
    "    rating9.append(i.text)  \n",
    "### 7.10.2 Review Summary\n",
    "review_summary_tags9=driver.find_elements_by_xpath(\"//p[@class='_2-N8zT']\")\n",
    "review_summary9=[]\n",
    "for i in review_summary_tags9:\n",
    "    review_summary9.append(i.text)\n",
    "### 7.10.7Full Review\n",
    "full_review_tags9=driver.find_elements_by_xpath(\"//div[@class='t-ZTKy']\")\n",
    "full_review9=[]\n",
    "for i in full_review_tags9:\n",
    "    full_review9.append(i.text.replace(\"\\n\",\",\"))   "
   ]
  },
  {
   "cell_type": "markdown",
   "id": "polished-database",
   "metadata": {},
   "source": [
    "### Moving to page 10"
   ]
  },
  {
   "cell_type": "code",
   "execution_count": 117,
   "id": "sorted-error",
   "metadata": {},
   "outputs": [],
   "source": [
    "page_button=driver.find_element_by_xpath(\"//a[@href='/apple-iphone-11-black-64-gb-includes-earpods-power-adapter/product-reviews/itm0f37c2240b217?pid=MOBFKCTSVZAXUHGR&lid=LSTMOBFKCTSVZAXUHGREPBFGI&marketplace=FLIPKART&page=10']\")\n",
    "page_button.click()"
   ]
  },
  {
   "cell_type": "markdown",
   "id": "premier-formation",
   "metadata": {},
   "source": [
    "### 7.11 Extracting all tags and extracting text in page 10"
   ]
  },
  {
   "cell_type": "code",
   "execution_count": 133,
   "id": "alive-wrestling",
   "metadata": {},
   "outputs": [],
   "source": [
    "### 7.11.1 Ratings\n",
    "rating_tags10=driver.find_elements_by_xpath(\"//div[@class='_3LWZlK _1BLPMq']\")\n",
    "rating10=[]\n",
    "for i in rating_tags10:\n",
    "    rating10.append(i.text)  \n",
    "### 7.11.2 Review Summary\n",
    "review_summary_tags10=driver.find_elements_by_xpath(\"//p[@class='_2-N8zT']\")\n",
    "review_summary10=[]\n",
    "for i in review_summary_tags10:\n",
    "    review_summary10.append(i.text)\n",
    "### 7.11.7Full Review\n",
    "full_review_tags10=driver.find_elements_by_xpath(\"//div[@class='t-ZTKy']\")\n",
    "full_review10=[]\n",
    "for i in full_review_tags10:\n",
    "    full_review10.append(i.text.replace(\"\\n\",\",\"))   "
   ]
  },
  {
   "cell_type": "markdown",
   "id": "black-gazette",
   "metadata": {},
   "source": [
    "### 7.12 Checking for the length of all tags"
   ]
  },
  {
   "cell_type": "code",
   "execution_count": 137,
   "id": "comparable-server",
   "metadata": {},
   "outputs": [
    {
     "name": "stdout",
     "output_type": "stream",
     "text": [
      "100 100 100\n"
     ]
    }
   ],
   "source": [
    "rating=rating1+rating2+rating3+rating4+rating5+rating6+rating7+rating8+rating9+rating10\n",
    "review_summary=review_summary1+review_summary2+review_summary3+review_summary4+review_summary5+review_summary6+review_summary7+review_summary8+review_summary9+review_summary10\n",
    "full_review=full_review1+full_review2+full_review3+full_review4+full_review5+full_review6+full_review7+full_review8+full_review9+full_review10\n",
    "print(len(rating),len(review_summary),len(full_review))"
   ]
  },
  {
   "cell_type": "markdown",
   "id": "appointed-community",
   "metadata": {},
   "source": [
    "### 7.13 DataFraming using Pandas"
   ]
  },
  {
   "cell_type": "code",
   "execution_count": 140,
   "id": "indonesian-forth",
   "metadata": {},
   "outputs": [
    {
     "data": {
      "text/html": [
       "<div>\n",
       "<style scoped>\n",
       "    .dataframe tbody tr th:only-of-type {\n",
       "        vertical-align: middle;\n",
       "    }\n",
       "\n",
       "    .dataframe tbody tr th {\n",
       "        vertical-align: top;\n",
       "    }\n",
       "\n",
       "    .dataframe thead th {\n",
       "        text-align: right;\n",
       "    }\n",
       "</style>\n",
       "<table border=\"1\" class=\"dataframe\">\n",
       "  <thead>\n",
       "    <tr style=\"text-align: right;\">\n",
       "      <th></th>\n",
       "      <th>Rating</th>\n",
       "      <th>Review summary</th>\n",
       "      <th>Full Review</th>\n",
       "    </tr>\n",
       "  </thead>\n",
       "  <tbody>\n",
       "    <tr>\n",
       "      <th>0</th>\n",
       "      <td>5</td>\n",
       "      <td>Brilliant</td>\n",
       "      <td>The Best Phone for the Money,,The iPhone 11 of...</td>\n",
       "    </tr>\n",
       "    <tr>\n",
       "      <th>1</th>\n",
       "      <td>5</td>\n",
       "      <td>Perfect product!</td>\n",
       "      <td>Amazing phone with great cameras and better ba...</td>\n",
       "    </tr>\n",
       "    <tr>\n",
       "      <th>2</th>\n",
       "      <td>5</td>\n",
       "      <td>Great product</td>\n",
       "      <td>Amazing Powerful and Durable Gadget.,,I’m am v...</td>\n",
       "    </tr>\n",
       "    <tr>\n",
       "      <th>3</th>\n",
       "      <td>5</td>\n",
       "      <td>Worth every penny</td>\n",
       "      <td>Previously I was using one plus 3t it was a gr...</td>\n",
       "    </tr>\n",
       "    <tr>\n",
       "      <th>4</th>\n",
       "      <td>5</td>\n",
       "      <td>Highly recommended</td>\n",
       "      <td>iphone 11 is a very good phone to buy only if ...</td>\n",
       "    </tr>\n",
       "    <tr>\n",
       "      <th>...</th>\n",
       "      <td>...</td>\n",
       "      <td>...</td>\n",
       "      <td>...</td>\n",
       "    </tr>\n",
       "    <tr>\n",
       "      <th>95</th>\n",
       "      <td>5</td>\n",
       "      <td>Fabulous!</td>\n",
       "      <td>This is my first I phone and I'm very happy to...</td>\n",
       "    </tr>\n",
       "    <tr>\n",
       "      <th>96</th>\n",
       "      <td>5</td>\n",
       "      <td>Classy product</td>\n",
       "      <td>Amazing delivery. Got my phone a day before ex...</td>\n",
       "    </tr>\n",
       "    <tr>\n",
       "      <th>97</th>\n",
       "      <td>5</td>\n",
       "      <td>Must buy!</td>\n",
       "      <td>Damn this phone is a blast . Upgraded from and...</td>\n",
       "    </tr>\n",
       "    <tr>\n",
       "      <th>98</th>\n",
       "      <td>5</td>\n",
       "      <td>Classy product</td>\n",
       "      <td>Finally switched to iOS from android,There is ...</td>\n",
       "    </tr>\n",
       "    <tr>\n",
       "      <th>99</th>\n",
       "      <td>5</td>\n",
       "      <td>Awesome</td>\n",
       "      <td>So good look comfortable iPhone 11 I am so ver...</td>\n",
       "    </tr>\n",
       "  </tbody>\n",
       "</table>\n",
       "<p>100 rows × 3 columns</p>\n",
       "</div>"
      ],
      "text/plain": [
       "   Rating      Review summary  \\\n",
       "0       5           Brilliant   \n",
       "1       5    Perfect product!   \n",
       "2       5       Great product   \n",
       "3       5   Worth every penny   \n",
       "4       5  Highly recommended   \n",
       "..    ...                 ...   \n",
       "95      5           Fabulous!   \n",
       "96      5      Classy product   \n",
       "97      5           Must buy!   \n",
       "98      5      Classy product   \n",
       "99      5             Awesome   \n",
       "\n",
       "                                          Full Review  \n",
       "0   The Best Phone for the Money,,The iPhone 11 of...  \n",
       "1   Amazing phone with great cameras and better ba...  \n",
       "2   Amazing Powerful and Durable Gadget.,,I’m am v...  \n",
       "3   Previously I was using one plus 3t it was a gr...  \n",
       "4   iphone 11 is a very good phone to buy only if ...  \n",
       "..                                                ...  \n",
       "95  This is my first I phone and I'm very happy to...  \n",
       "96  Amazing delivery. Got my phone a day before ex...  \n",
       "97  Damn this phone is a blast . Upgraded from and...  \n",
       "98  Finally switched to iOS from android,There is ...  \n",
       "99  So good look comfortable iPhone 11 I am so ver...  \n",
       "\n",
       "[100 rows x 3 columns]"
      ]
     },
     "execution_count": 140,
     "metadata": {},
     "output_type": "execute_result"
    }
   ],
   "source": [
    "iphone11=pd.DataFrame({})\n",
    "iphone11[\"Rating\"]=rating\n",
    "iphone11[\"Review summary\"]=review_summary\n",
    "iphone11[\"Full Review\"]=full_review\n",
    "iphone11"
   ]
  },
  {
   "cell_type": "markdown",
   "id": "coastal-master",
   "metadata": {},
   "source": [
    "### 7.14 closing the drive"
   ]
  },
  {
   "cell_type": "code",
   "execution_count": 141,
   "id": "offshore-protection",
   "metadata": {},
   "outputs": [],
   "source": [
    "driver.close()"
   ]
  },
  {
   "cell_type": "markdown",
   "id": "acting-raleigh",
   "metadata": {},
   "source": [
    "### 8. python program to Scrape data for first 100 sneakers you find when you visit flipkart.com"
   ]
  },
  {
   "cell_type": "code",
   "execution_count": 165,
   "id": "polished-oxide",
   "metadata": {},
   "outputs": [],
   "source": [
    "### 8.1 Connecting to web driver\n",
    "driver=webdriver.Chrome(r\"c://chromedriver.exe\")\n",
    "### 8.2 Getting the webpage\n",
    "driver.get(\"https://www.flipkart.com/\")"
   ]
  },
  {
   "cell_type": "markdown",
   "id": "biblical-heater",
   "metadata": {},
   "source": [
    "###### Note\n",
    "\n",
    "    - After getting the web page we get an unwanted Login popup\n",
    "    - so closing the Popup\n"
   ]
  },
  {
   "cell_type": "code",
   "execution_count": 166,
   "id": "peripheral-model",
   "metadata": {},
   "outputs": [],
   "source": [
    "#Closing the popup \n",
    "close_button=driver.find_element_by_xpath(\"//button[@class='_2KpZ6l _2doB4z']\")\n",
    "close_button.click()\n",
    "### 8.3 Finding Element for search bar\n",
    "search_product=driver.find_element_by_xpath(\"//input[@class='_3704LK']\")\n",
    "search_product.send_keys(\"sneakers\")\n",
    "search_button=driver.find_element_by_xpath(\"//button[@class='L0Z3Pu']\")\n",
    "search_button.click()\n"
   ]
  },
  {
   "cell_type": "markdown",
   "id": "animal-responsibility",
   "metadata": {},
   "source": [
    "###### Observation:\n",
    "\n",
    "    - The selected Page contain details of only 40 Products\n",
    "    - so we first collect all the details of the product in page 1 and then proceed to page 2"
   ]
  },
  {
   "cell_type": "markdown",
   "id": "swedish-librarian",
   "metadata": {},
   "source": [
    "### 8.4 Extracting all tags  and Extracting text [Page1]  "
   ]
  },
  {
   "cell_type": "code",
   "execution_count": 167,
   "id": "meaningful-terry",
   "metadata": {},
   "outputs": [
    {
     "name": "stdout",
     "output_type": "stream",
     "text": [
      "40 40 40 40\n"
     ]
    }
   ],
   "source": [
    "### 8.4.1 Brand Name\n",
    "brand_name_tags1=driver.find_elements_by_xpath(\"//div[@class='_2WkVRV']\")\n",
    "brand_name1=[]\n",
    "for i in brand_name_tags1:\n",
    "    brand_name1.append(i.text)\n",
    "\n",
    "### 8.4.2 Product Description\n",
    "product_desc_tags1=driver.find_elements_by_xpath(\"//div[@class='_2B099V']/a[1]\")\n",
    "product_desc1=[]\n",
    "for i in product_desc_tags1:\n",
    "    product_desc1.append(i.text)  \n",
    "\n",
    "### 8.4.3 Product Price\n",
    "product_price_tags1=driver.find_elements_by_xpath(\"//div[@class='_30jeq3']\")\n",
    "product_price1=[]\n",
    "for i in product_price_tags1:\n",
    "    product_price1.append(i.text)\n",
    "\n",
    "### 8.4.4 Discount %\n",
    "discount_tags1=driver.find_elements_by_xpath(\"//div[@class='_3Ay6Sb']\")\n",
    "discount1=[]\n",
    "for i in discount_tags1:\n",
    "    discount1.append(i.text)\n",
    "#reference\n",
    "print(len(brand_name1),len(product_desc1),len(product_price1),len(discount1))"
   ]
  },
  {
   "cell_type": "markdown",
   "id": "novel-domestic",
   "metadata": {},
   "source": [
    "### Moving to page 2"
   ]
  },
  {
   "cell_type": "code",
   "execution_count": 168,
   "id": "better-transition",
   "metadata": {},
   "outputs": [],
   "source": [
    "page_button=driver.find_element_by_xpath(\"//a[@href='/search?q=sneakers&otracker=search&otracker1=search&marketplace=FLIPKART&as-show=on&as=off&page=2']\")\n",
    "page_button.click()"
   ]
  },
  {
   "cell_type": "markdown",
   "id": "cardiovascular-nightlife",
   "metadata": {},
   "source": [
    "### 8.5 Extracting all tags  and Extracting text [Page2]  "
   ]
  },
  {
   "cell_type": "code",
   "execution_count": 169,
   "id": "useful-opening",
   "metadata": {},
   "outputs": [
    {
     "name": "stdout",
     "output_type": "stream",
     "text": [
      "40 40 40 40\n"
     ]
    }
   ],
   "source": [
    "### 8.5.1 Brand Name\n",
    "brand_name_tags2=driver.find_elements_by_xpath(\"//div[@class='_2WkVRV']\")\n",
    "brand_name2=[]\n",
    "for i in brand_name_tags2:\n",
    "    brand_name2.append(i.text)\n",
    "\n",
    "### 8.5.2 Product Description\n",
    "product_desc_tags2=driver.find_elements_by_xpath(\"//div[@class='_2B099V']/a[1]\")\n",
    "product_desc2=[]\n",
    "for i in product_desc_tags2:\n",
    "    product_desc2.append(i.text)  \n",
    "\n",
    "### 8.5.3 Product Price\n",
    "product_price_tags2=driver.find_elements_by_xpath(\"//div[@class='_30jeq3']\")\n",
    "product_price2=[]\n",
    "for i in product_price_tags2:\n",
    "    product_price2.append(i.text)\n",
    "\n",
    "### 8.5.4 Discount %\n",
    "discount_tags2=driver.find_elements_by_xpath(\"//div[@class='_3Ay6Sb']\")\n",
    "discount2=[]\n",
    "for i in discount_tags2:\n",
    "    discount2.append(i.text)\n",
    "#reference\n",
    "print(len(brand_name2),len(product_desc2),len(product_price2),len(discount2))"
   ]
  },
  {
   "cell_type": "markdown",
   "id": "spread-treasurer",
   "metadata": {},
   "source": [
    "### Moving to page 2"
   ]
  },
  {
   "cell_type": "code",
   "execution_count": 170,
   "id": "institutional-hygiene",
   "metadata": {},
   "outputs": [],
   "source": [
    "page_button=driver.find_element_by_xpath(\"//a[@href='/search?q=sneakers&otracker=search&otracker1=search&marketplace=FLIPKART&as-show=on&as=off&page=3']\")\n",
    "page_button.click()"
   ]
  },
  {
   "cell_type": "markdown",
   "id": "fleet-lemon",
   "metadata": {},
   "source": [
    "### 8.6 Extracting all tags  and Extracting text [Page3]  "
   ]
  },
  {
   "cell_type": "code",
   "execution_count": 172,
   "id": "addressed-marshall",
   "metadata": {},
   "outputs": [],
   "source": [
    "### 8.6.1 Brand Name\n",
    "brand_name_tags3=driver.find_elements_by_xpath(\"//div[@class='_2WkVRV']\")\n",
    "brand_name3=[]\n",
    "for i in brand_name_tags3:\n",
    "    brand_name3.append(i.text)\n",
    "\n",
    "### 8.6.2 Product Description\n",
    "product_desc_tags3=driver.find_elements_by_xpath(\"//div[@class='_2B099V']/a[1]\")\n",
    "product_desc3=[]\n",
    "for i in product_desc_tags3:\n",
    "    product_desc3.append(i.text)  \n",
    "\n",
    "### 8.6.3 Product Price\n",
    "product_price_tags3=driver.find_elements_by_xpath(\"//div[@class='_30jeq3']\")\n",
    "product_price3=[]\n",
    "for i in product_price_tags3:\n",
    "    product_price3.append(i.text)\n",
    "\n",
    "### 8.6.4 Discount %\n",
    "discount_tags3=driver.find_elements_by_xpath(\"//div[@class='_3Ay6Sb']\")\n",
    "discount3=[]\n",
    "for i in discount_tags3:\n",
    "    discount3.append(i.text)\n",
    " "
   ]
  },
  {
   "cell_type": "code",
   "execution_count": 173,
   "id": "substantial-gardening",
   "metadata": {},
   "outputs": [],
   "source": [
    "brand=brand_name1+brand_name2+brand_name3\n",
    "product_desc=product_desc1+product_desc2+product_desc3\n",
    "product_price=product_price1+product_price2+product_price3\n",
    "discount=discount1+discount2+discount3"
   ]
  },
  {
   "cell_type": "markdown",
   "id": "labeled-champion",
   "metadata": {},
   "source": [
    "### 8.7 scrape the data for the first 100 sneakers"
   ]
  },
  {
   "cell_type": "code",
   "execution_count": 174,
   "id": "rental-benchmark",
   "metadata": {},
   "outputs": [],
   "source": [
    "brand=brand[0:100]\n",
    "product_desc=product_desc[0:100]\n",
    "product_price=product_price[0:100]\n",
    "discount=discount[0:100]"
   ]
  },
  {
   "cell_type": "markdown",
   "id": "bound-document",
   "metadata": {},
   "source": [
    "### 8.8 checking the length of all tags"
   ]
  },
  {
   "cell_type": "code",
   "execution_count": 175,
   "id": "civilian-sunglasses",
   "metadata": {},
   "outputs": [
    {
     "name": "stdout",
     "output_type": "stream",
     "text": [
      "100 100 100 100\n"
     ]
    }
   ],
   "source": [
    "print(len(brand),len(product_desc),len(product_price),len(discount))"
   ]
  },
  {
   "cell_type": "markdown",
   "id": "accurate-scholar",
   "metadata": {},
   "source": [
    "### 8.9 DataFraming using Pandas\n",
    "\n"
   ]
  },
  {
   "cell_type": "code",
   "execution_count": 176,
   "id": "gross-folks",
   "metadata": {},
   "outputs": [
    {
     "data": {
      "text/html": [
       "<div>\n",
       "<style scoped>\n",
       "    .dataframe tbody tr th:only-of-type {\n",
       "        vertical-align: middle;\n",
       "    }\n",
       "\n",
       "    .dataframe tbody tr th {\n",
       "        vertical-align: top;\n",
       "    }\n",
       "\n",
       "    .dataframe thead th {\n",
       "        text-align: right;\n",
       "    }\n",
       "</style>\n",
       "<table border=\"1\" class=\"dataframe\">\n",
       "  <thead>\n",
       "    <tr style=\"text-align: right;\">\n",
       "      <th></th>\n",
       "      <th>brand</th>\n",
       "      <th>Product description</th>\n",
       "      <th>Product Price</th>\n",
       "      <th>Discount%</th>\n",
       "    </tr>\n",
       "  </thead>\n",
       "  <tbody>\n",
       "    <tr>\n",
       "      <th>0</th>\n",
       "      <td>French Connection</td>\n",
       "      <td>Sneakers For Men</td>\n",
       "      <td>₹799</td>\n",
       "      <td>60% off</td>\n",
       "    </tr>\n",
       "    <tr>\n",
       "      <th>1</th>\n",
       "      <td>DUCATI</td>\n",
       "      <td>Sneakers For Men</td>\n",
       "      <td>₹1,449</td>\n",
       "      <td>59% off</td>\n",
       "    </tr>\n",
       "    <tr>\n",
       "      <th>2</th>\n",
       "      <td>Chevit</td>\n",
       "      <td>Perfect &amp; Affordable Combo Pack of 02 Pairs Sn...</td>\n",
       "      <td>₹499</td>\n",
       "      <td>72% off</td>\n",
       "    </tr>\n",
       "    <tr>\n",
       "      <th>3</th>\n",
       "      <td>Chevit</td>\n",
       "      <td>Combo Pack of 4 Casual Sneakers With Sneakers ...</td>\n",
       "      <td>₹474</td>\n",
       "      <td>76% off</td>\n",
       "    </tr>\n",
       "    <tr>\n",
       "      <th>4</th>\n",
       "      <td>Robbie jones</td>\n",
       "      <td>Casual Sneakers Shoes For Men Sneakers For Men</td>\n",
       "      <td>₹379</td>\n",
       "      <td>62% off</td>\n",
       "    </tr>\n",
       "    <tr>\n",
       "      <th>...</th>\n",
       "      <td>...</td>\n",
       "      <td>...</td>\n",
       "      <td>...</td>\n",
       "      <td>...</td>\n",
       "    </tr>\n",
       "    <tr>\n",
       "      <th>95</th>\n",
       "      <td>Robbie jones</td>\n",
       "      <td>Sneakers For Men</td>\n",
       "      <td>₹428</td>\n",
       "      <td>57% off</td>\n",
       "    </tr>\n",
       "    <tr>\n",
       "      <th>96</th>\n",
       "      <td>SWIGGY</td>\n",
       "      <td>Casual Loafers, Sneakers Shoes for Men Pack of...</td>\n",
       "      <td>₹759</td>\n",
       "      <td>69% off</td>\n",
       "    </tr>\n",
       "    <tr>\n",
       "      <th>97</th>\n",
       "      <td>World Wear Footwear</td>\n",
       "      <td>Latest Collection-1227 Stylish Casual Sports S...</td>\n",
       "      <td>₹259</td>\n",
       "      <td>48% off</td>\n",
       "    </tr>\n",
       "    <tr>\n",
       "      <th>98</th>\n",
       "      <td>GRSHOE</td>\n",
       "      <td>SUP FANCY IMPORTED RUNNING SHOES FOR MEN. Snea...</td>\n",
       "      <td>₹399</td>\n",
       "      <td>60% off</td>\n",
       "    </tr>\n",
       "    <tr>\n",
       "      <th>99</th>\n",
       "      <td>pollachief</td>\n",
       "      <td>Multi color casual sports / sneaker Sneakers F...</td>\n",
       "      <td>₹440</td>\n",
       "      <td>55% off</td>\n",
       "    </tr>\n",
       "  </tbody>\n",
       "</table>\n",
       "<p>100 rows × 4 columns</p>\n",
       "</div>"
      ],
      "text/plain": [
       "                  brand                                Product description  \\\n",
       "0     French Connection                                   Sneakers For Men   \n",
       "1                DUCATI                                   Sneakers For Men   \n",
       "2                Chevit  Perfect & Affordable Combo Pack of 02 Pairs Sn...   \n",
       "3                Chevit  Combo Pack of 4 Casual Sneakers With Sneakers ...   \n",
       "4          Robbie jones     Casual Sneakers Shoes For Men Sneakers For Men   \n",
       "..                  ...                                                ...   \n",
       "95         Robbie jones                                   Sneakers For Men   \n",
       "96               SWIGGY  Casual Loafers, Sneakers Shoes for Men Pack of...   \n",
       "97  World Wear Footwear  Latest Collection-1227 Stylish Casual Sports S...   \n",
       "98               GRSHOE  SUP FANCY IMPORTED RUNNING SHOES FOR MEN. Snea...   \n",
       "99           pollachief  Multi color casual sports / sneaker Sneakers F...   \n",
       "\n",
       "   Product Price Discount%  \n",
       "0           ₹799   60% off  \n",
       "1         ₹1,449   59% off  \n",
       "2           ₹499   72% off  \n",
       "3           ₹474   76% off  \n",
       "4           ₹379   62% off  \n",
       "..           ...       ...  \n",
       "95          ₹428   57% off  \n",
       "96          ₹759   69% off  \n",
       "97          ₹259   48% off  \n",
       "98          ₹399   60% off  \n",
       "99          ₹440   55% off  \n",
       "\n",
       "[100 rows x 4 columns]"
      ]
     },
     "execution_count": 176,
     "metadata": {},
     "output_type": "execute_result"
    }
   ],
   "source": [
    "product=pd.DataFrame({})\n",
    "product[\"brand\"]=brand\n",
    "product[\"Product description\"]=product_desc\n",
    "product[\"Product Price\"]=product_price\n",
    "product[\"Discount%\"]=discount\n",
    "product"
   ]
  },
  {
   "cell_type": "markdown",
   "id": "analyzed-charleston",
   "metadata": {},
   "source": [
    "# 9. python program to Scrape data for  First 100 shoes data you find when you visit myntra.com"
   ]
  },
  {
   "cell_type": "code",
   "execution_count": 51,
   "id": "crucial-smoke",
   "metadata": {},
   "outputs": [],
   "source": [
    "### 9.1 Connecting to web driver\n",
    "driver=webdriver.Chrome(r\"c://chromedriver.exe\")\n",
    "### 9.2 Getting the webpage\n",
    "driver.get(\"https://www.myntra.com/shoes\")"
   ]
  },
  {
   "cell_type": "code",
   "execution_count": 52,
   "id": "driven-creator",
   "metadata": {},
   "outputs": [],
   "source": [
    "### 9.3 clicking color filter \n",
    "color_filter=driver.find_element_by_xpath(\"//*[@id='mountRoot']/div/div[1]/main/div[3]/div[1]/section/div/div[6]/ul/li[1]/label\")\n",
    "color_filter.click()"
   ]
  },
  {
   "cell_type": "code",
   "execution_count": 53,
   "id": "advised-stereo",
   "metadata": {},
   "outputs": [],
   "source": [
    "### 9.4 clicking price filter \n",
    "price_filter=driver.find_element_by_xpath(\"//*[@id='mountRoot']/div/div[1]/main/div[3]/div[1]/section/div/div[5]/ul/li[2]/label\")\n",
    "price_filter.click()"
   ]
  },
  {
   "cell_type": "code",
   "execution_count": 122,
   "id": "split-grammar",
   "metadata": {},
   "outputs": [
    {
     "name": "stdout",
     "output_type": "stream",
     "text": [
      "50 50 50\n",
      "['Rs. 11470Rs. 13495(15% OFF)', 'Rs. 7999', 'Rs. 6999', 'Rs. 7050Rs. 8295(15% OFF)', 'Rs. 12396Rs. 15495(20% OFF)', 'Rs. 10620Rs. 12495(15% OFF)', 'Rs. 12995', 'Rs. 6996Rs. 9995(30% OFF)', 'Rs. 11495', 'Rs. 9345Rs. 10995(15% OFF)', 'Rs. 11245Rs. 12495(10% OFF)', 'Rs. 7195Rs. 7995(10% OFF)', 'Rs. 9596Rs. 11995(20% OFF)', 'Rs. 11495', 'Rs. 12495', 'Rs. 11996Rs. 14995(20% OFF)', 'Rs. 11470Rs. 13495(15% OFF)', 'Rs. 8750Rs. 10295(15% OFF)', 'Rs. 6965Rs. 8195(15% OFF)', 'Rs. 7796Rs. 11995(35% OFF)', 'Rs. 6636Rs. 8295(20% OFF)', 'Rs. 7999', 'Rs. 6999Rs. 9999(30% OFF)', 'Rs. 11999', 'Rs. 7799Rs. 12999(40% OFF)', 'Rs. 7999', 'Rs. 10999', 'Rs. 7999', 'Rs. 8999', 'Rs. 10999', 'Rs. 6999', 'Rs. 6999', 'Rs. 9799Rs. 13999(30% OFF)', 'Rs. 9999Rs. 19999(50% OFF)', 'Rs. 9999', 'Rs. 10999', 'Rs. 7499', 'Rs. 9999', 'Rs. 7999', 'Rs. 8999', 'Rs. 7693Rs. 10990(30% OFF)', 'Rs. 10995', 'Rs. 6999', 'Rs. 8999', 'Rs. 7999', 'Rs. 9999', 'Rs. 8499', 'Rs. 11490', 'Rs. 6993Rs. 9990(30% OFF)', 'Rs. 6749Rs. 8999(25% OFF)']\n"
     ]
    }
   ],
   "source": [
    "### 9.5 Extracting all tags  and Extracting text [Page1]  \n",
    "\n",
    "### 9.5.1 Brand Name\n",
    "brand_name_tags1=driver.find_elements_by_xpath(\"//h3[@class='product-brand']\")\n",
    "brand_name1=[]\n",
    "for i in brand_name_tags1:\n",
    "    brand_name1.append(i.text)\n",
    "\n",
    "### 9.5.2 short Description\n",
    "product_desc_tags1=driver.find_elements_by_xpath(\"//h4[@class='product-product']\")\n",
    "product_desc1=[]\n",
    "for i in product_desc_tags1:\n",
    "    product_desc1.append(i.text)  \n",
    "\n",
    "### 9.5.3 Product Price\n",
    "product_price_tags1=driver.find_elements_by_xpath(\"//div[@class='product-price']\")\n",
    "product_price1=[]\n",
    "for i in product_price_tags1:\n",
    "    product_price1.append(i.text)\n",
    "\n",
    "\n",
    "#reference\n",
    "print(len(brand_name1),len(product_desc1),len(product_price1))\n",
    "print(product_price1)"
   ]
  },
  {
   "cell_type": "markdown",
   "id": "ethical-aggregate",
   "metadata": {},
   "source": [
    "###### Observation:\n",
    "\n",
    "   - The Product Price shows unwanted statements\n",
    "   - so Removing unwanted strings in the list"
   ]
  },
  {
   "cell_type": "code",
   "execution_count": 123,
   "id": "mechanical-season",
   "metadata": {},
   "outputs": [
    {
     "data": {
      "text/plain": [
       "['s. 7999', 's. 9345', 's. 11245', 's. 7999', 's. 11470']"
      ]
     },
     "execution_count": 123,
     "metadata": {},
     "output_type": "execute_result"
    }
   ],
   "source": [
    "product_price1=['Rs. 7999', 'Rs. 9345Rs. 10995(15% OFF)', 'Rs. 11245Rs. 12495(10% OFF)', 'Rs. 7999', 'Rs. 11470Rs. 13495(15% OFF)', 'Rs. 11199Rs. 13999(20% OFF)', 'Rs. 6999Rs. 9999(30% OFF)', 'Rs. 10620Rs. 12495(15% OFF)', 'Rs. 7050Rs. 8295(15% OFF)', 'Rs. 11470Rs. 13495(15% OFF)', 'Rs. 7195Rs. 7995(10% OFF)', 'Rs. 7996Rs. 9995(20% OFF)', 'Rs. 12995', 'Rs. 11495', 'Rs. 11495', 'Rs. 9596Rs. 11995(20% OFF)', 'Rs. 8750Rs. 10295(15% OFF)', 'Rs. 12495', 'Rs. 6999', 'Rs. 12396Rs. 15495(20% OFF)', 'Rs. 6965Rs. 8195(15% OFF)', 'Rs. 7796Rs. 11995(35% OFF)', 'Rs. 11996Rs. 14995(20% OFF)', 'Rs. 7999', 'Rs. 11999', 'Rs. 7999', 'Rs. 10999', 'Rs. 8999', 'Rs. 7999', 'Rs. 6999', 'Rs. 7799Rs. 12999(40% OFF)', 'Rs. 10999', 'Rs. 10999', 'Rs. 9999', 'Rs. 7999', 'Rs. 10995', 'Rs. 7499', 'Rs. 6999', 'Rs. 9999', 'Rs. 6999', 'Rs. 8999', 'Rs. 7693Rs. 10990(30% OFF)', 'Rs. 6999', 'Rs. 6999', 'Rs. 9999', 'Rs. 7999', 'Rs. 8499', 'Rs. 8499', 'Rs. 11999', 'Rs. 6999']\n",
    "price=[]\n",
    "for i in product_price1:\n",
    "    price.append(i[0:9].replace(\"R\",\"\"))\n",
    "price[0:5]\n"
   ]
  },
  {
   "cell_type": "code",
   "execution_count": 124,
   "id": "material-dealing",
   "metadata": {},
   "outputs": [
    {
     "data": {
      "text/plain": [
       "['Rs. 7999', 'Rs. 9345', 'Rs. 11245', 'Rs. 7999', 'Rs. 11470']"
      ]
     },
     "execution_count": 124,
     "metadata": {},
     "output_type": "execute_result"
    }
   ],
   "source": [
    "price=['s. 7999','s. 9345','s. 11245','s. 7999','s. 11470','s. 11199','s. 6999','s. 10620','s. 7050','s. 11470','s. 7195',\n",
    " 's. 7996','s. 12995','s. 11495','s. 11495','s. 9596','s. 8750','s. 12495','s. 6999','s. 12396','s. 6965','s. 7796','s. 11996',\n",
    " 's. 7999','s. 11999','s. 7999','s. 10999','s. 8999','s. 7999','s. 6999','s. 7799','s. 10999','s. 10999','s. 9999','s. 7999',\n",
    " 's. 10995','s. 7499','s. 6999','s. 9999','s. 6999','s. 8999','s. 7693','s. 6999','s. 6999','s. 9999','s. 7999','s. 8499',\n",
    " 's. 8499','s. 11999','s. 6999']\n",
    "price1=[]\n",
    "for i in price:\n",
    "    price1.append(i.replace(\"s.\",\"Rs.\"))\n",
    "price1[0:5]"
   ]
  },
  {
   "cell_type": "code",
   "execution_count": 125,
   "id": "geographic-series",
   "metadata": {},
   "outputs": [],
   "source": [
    "#Moving to page 2\n",
    "page_button=driver.find_element_by_xpath(\"//a[@href='https://www.myntra.com/shoes?f=Color%3ABlack_36454f&plaEnabled=false&rf=Price%3A6612.0_13075.0_6612.0%20TO%2013075.0&p=2']\")\n",
    "page_button.click()"
   ]
  },
  {
   "cell_type": "code",
   "execution_count": 126,
   "id": "proud-hobby",
   "metadata": {},
   "outputs": [
    {
     "name": "stdout",
     "output_type": "stream",
     "text": [
      "50 50 50\n",
      "['Rs. 6999', 'Rs. 7999', 'Rs. 11490', 'Rs. 6993Rs. 9990(30% OFF)', 'Rs. 6749Rs. 8999(25% OFF)', 'Rs. 9999Rs. 19999(50% OFF)', 'Rs. 9999', 'Rs. 9490', 'Rs. 6999', 'Rs. 8999', 'Rs. 8990', 'Rs. 8792Rs. 10990(20% OFF)', 'Rs. 6999', 'Rs. 6990', 'Rs. 10999', 'Rs. 7192Rs. 8990(20% OFF)', 'Rs. 6999', 'Rs. 6990', 'Rs. 11999', 'Rs. 6993Rs. 9990(30% OFF)', 'Rs. 8999', 'Rs. 9999', 'Rs. 7499', 'Rs. 7999', 'Rs. 8499', 'Rs. 8499', 'Rs. 9999', 'Rs. 9499', 'Rs. 8499Rs. 9999(15% OFF)', 'Rs. 7999', 'Rs. 7006Rs. 7149(2% OFF)', 'Rs. 12999', 'Rs. 10620Rs. 12495(15% OFF)', 'Rs. 8999', 'Rs. 6990', 'Rs. 9349Rs. 10999(15% OFF)', 'Rs. 6749Rs. 8999(25% OFF)', 'Rs. 8999', 'Rs. 7039Rs. 10999(36% OFF)', 'Rs. 6999', 'Rs. 6999', 'Rs. 6993Rs. 9990(30% OFF)', 'Rs. 7440Rs. 8000(7% OFF)', 'Rs. 6675Rs. 8900(25% OFF)', 'Rs. 6999', 'Rs. 9990', 'Rs. 9490', 'Rs. 8499', 'Rs. 11990', 'Rs. 6990']\n"
     ]
    }
   ],
   "source": [
    "### 9.6 Extracting all tags  and Extracting text [Page2]  \n",
    "\n",
    "### 9.6.1 Brand Name\n",
    "brand_name_tags2=driver.find_elements_by_xpath(\"//h3[@class='product-brand']\")\n",
    "brand_name2=[]\n",
    "for i in brand_name_tags2:\n",
    "    brand_name2.append(i.text)\n",
    "\n",
    "### 9.6.2 short Description\n",
    "product_desc_tags2=driver.find_elements_by_xpath(\"//h4[@class='product-product']\")\n",
    "product_desc2=[]\n",
    "for i in product_desc_tags2:\n",
    "    product_desc2.append(i.text)  \n",
    "\n",
    "### 9.6.3 Product Price\n",
    "product_price_tags2=driver.find_elements_by_xpath(\"//div[@class='product-price']\")\n",
    "product_price2=[]\n",
    "for i in product_price_tags2:\n",
    "    product_price2.append(i.text)\n",
    "\n",
    "\n",
    "#reference\n",
    "print(len(brand_name2),len(product_desc2),len(product_price2))\n",
    "print(product_price2)"
   ]
  },
  {
   "cell_type": "markdown",
   "id": "constant-abortion",
   "metadata": {},
   "source": [
    "###### Observation:\n",
    "\n",
    "   - The Product Price shows unwanted statements\n",
    "   - so Removing unwanted strings in the list\n"
   ]
  },
  {
   "cell_type": "code",
   "execution_count": 127,
   "id": "everyday-faculty",
   "metadata": {},
   "outputs": [
    {
     "data": {
      "text/plain": [
       "['s. 7999', 's. 9345', 's. 11245', 's. 7999', 's. 11470']"
      ]
     },
     "execution_count": 127,
     "metadata": {},
     "output_type": "execute_result"
    }
   ],
   "source": [
    "product_price1=['Rs. 7999', 'Rs. 9345Rs. 10995(15% OFF)', 'Rs. 11245Rs. 12495(10% OFF)', 'Rs. 7999', 'Rs. 11470Rs. 13495(15% OFF)', 'Rs. 11199Rs. 13999(20% OFF)', 'Rs. 6999Rs. 9999(30% OFF)', 'Rs. 10620Rs. 12495(15% OFF)', 'Rs. 7050Rs. 8295(15% OFF)', 'Rs. 11470Rs. 13495(15% OFF)', 'Rs. 7195Rs. 7995(10% OFF)', 'Rs. 7996Rs. 9995(20% OFF)', 'Rs. 12995', 'Rs. 11495', 'Rs. 11495', 'Rs. 9596Rs. 11995(20% OFF)', 'Rs. 8750Rs. 10295(15% OFF)', 'Rs. 12495', 'Rs. 6999', 'Rs. 12396Rs. 15495(20% OFF)', 'Rs. 6965Rs. 8195(15% OFF)', 'Rs. 7796Rs. 11995(35% OFF)', 'Rs. 11996Rs. 14995(20% OFF)', 'Rs. 7999', 'Rs. 11999', 'Rs. 7999', 'Rs. 10999', 'Rs. 8999', 'Rs. 7999', 'Rs. 6999', 'Rs. 7799Rs. 12999(40% OFF)', 'Rs. 10999', 'Rs. 10999', 'Rs. 9999', 'Rs. 7999', 'Rs. 10995', 'Rs. 7499', 'Rs. 6999', 'Rs. 9999', 'Rs. 6999', 'Rs. 8999', 'Rs. 7693Rs. 10990(30% OFF)', 'Rs. 6999', 'Rs. 6999', 'Rs. 9999', 'Rs. 7999', 'Rs. 8499', 'Rs. 8499', 'Rs. 11999', 'Rs. 6999']\n",
    "price=[]\n",
    "for i in product_price1:\n",
    "    price.append(i[0:9].replace(\"R\",\"\"))\n",
    "price[0:5]"
   ]
  },
  {
   "cell_type": "code",
   "execution_count": 129,
   "id": "humanitarian-grain",
   "metadata": {},
   "outputs": [
    {
     "data": {
      "text/plain": [
       "['Rs. 7999', 'Rs. 9345', 'Rs. 11245', 'Rs. 7999', 'Rs. 11470']"
      ]
     },
     "execution_count": 129,
     "metadata": {},
     "output_type": "execute_result"
    }
   ],
   "source": [
    "price=['s. 7999','s. 9345','s. 11245','s. 7999','s. 11470','s. 11199','s. 6999','s. 10620','s. 7050','s. 11470','s. 7195',\n",
    " 's. 7996','s. 12995','s. 11495','s. 11495','s. 9596','s. 8750','s. 12495','s. 6999','s. 12396','s. 6965','s. 7796','s. 11996',\n",
    " 's. 7999','s. 11999','s. 7999','s. 10999','s. 8999','s. 7999','s. 6999','s. 7799','s. 10999','s. 10999','s. 9999','s. 7999',\n",
    " 's. 10995','s. 7499','s. 6999','s. 9999','s. 6999','s. 8999','s. 7693','s. 6999','s. 6999','s. 9999','s. 7999','s. 8499',\n",
    " 's. 8499','s. 11999','s. 6999']\n",
    "price2=[]\n",
    "for i in price:\n",
    "    price2.append(i.replace(\"s.\",\"Rs.\"))\n",
    "price2[0:5]"
   ]
  },
  {
   "cell_type": "code",
   "execution_count": 130,
   "id": "therapeutic-classification",
   "metadata": {},
   "outputs": [],
   "source": [
    "brand_name=brand_name1+brand_name2\n",
    "product_desc=product_desc1+product_desc2\n",
    "product_price=price1+price2"
   ]
  },
  {
   "cell_type": "code",
   "execution_count": 131,
   "id": "immune-puzzle",
   "metadata": {},
   "outputs": [
    {
     "data": {
      "text/html": [
       "<div>\n",
       "<style scoped>\n",
       "    .dataframe tbody tr th:only-of-type {\n",
       "        vertical-align: middle;\n",
       "    }\n",
       "\n",
       "    .dataframe tbody tr th {\n",
       "        vertical-align: top;\n",
       "    }\n",
       "\n",
       "    .dataframe thead th {\n",
       "        text-align: right;\n",
       "    }\n",
       "</style>\n",
       "<table border=\"1\" class=\"dataframe\">\n",
       "  <thead>\n",
       "    <tr style=\"text-align: right;\">\n",
       "      <th></th>\n",
       "      <th>Brand Name</th>\n",
       "      <th>Description</th>\n",
       "      <th>price</th>\n",
       "    </tr>\n",
       "  </thead>\n",
       "  <tbody>\n",
       "    <tr>\n",
       "      <th>0</th>\n",
       "      <td>Nike</td>\n",
       "      <td>Men AIR ZOOM Running Shoes</td>\n",
       "      <td>Rs. 7999</td>\n",
       "    </tr>\n",
       "    <tr>\n",
       "      <th>1</th>\n",
       "      <td>Puma</td>\n",
       "      <td>Men Fuse Training Sports Shoes</td>\n",
       "      <td>Rs. 9345</td>\n",
       "    </tr>\n",
       "    <tr>\n",
       "      <th>2</th>\n",
       "      <td>Bugatti</td>\n",
       "      <td>Men Perforated Mule Sneakers</td>\n",
       "      <td>Rs. 11245</td>\n",
       "    </tr>\n",
       "    <tr>\n",
       "      <th>3</th>\n",
       "      <td>Nike</td>\n",
       "      <td>Men AIR MAX INFINITY 2 Sneaker</td>\n",
       "      <td>Rs. 7999</td>\n",
       "    </tr>\n",
       "    <tr>\n",
       "      <th>4</th>\n",
       "      <td>Nike</td>\n",
       "      <td>Men React Infinity Running</td>\n",
       "      <td>Rs. 11470</td>\n",
       "    </tr>\n",
       "    <tr>\n",
       "      <th>...</th>\n",
       "      <td>...</td>\n",
       "      <td>...</td>\n",
       "      <td>...</td>\n",
       "    </tr>\n",
       "    <tr>\n",
       "      <th>95</th>\n",
       "      <td>Geox</td>\n",
       "      <td>Women Leather Block Heels</td>\n",
       "      <td>Rs. 7999</td>\n",
       "    </tr>\n",
       "    <tr>\n",
       "      <th>96</th>\n",
       "      <td>Geox</td>\n",
       "      <td>Solid Leather Wedges</td>\n",
       "      <td>Rs. 8499</td>\n",
       "    </tr>\n",
       "    <tr>\n",
       "      <th>97</th>\n",
       "      <td>Geox</td>\n",
       "      <td>Women Slip-On Sneakers</td>\n",
       "      <td>Rs. 8499</td>\n",
       "    </tr>\n",
       "    <tr>\n",
       "      <th>98</th>\n",
       "      <td>Geox</td>\n",
       "      <td>Women Leather Solid Pumps</td>\n",
       "      <td>Rs. 11999</td>\n",
       "    </tr>\n",
       "    <tr>\n",
       "      <th>99</th>\n",
       "      <td>Ruosh</td>\n",
       "      <td>Men Leather Slip-On Shoes</td>\n",
       "      <td>Rs. 6999</td>\n",
       "    </tr>\n",
       "  </tbody>\n",
       "</table>\n",
       "<p>100 rows × 3 columns</p>\n",
       "</div>"
      ],
      "text/plain": [
       "   Brand Name                     Description      price\n",
       "0        Nike      Men AIR ZOOM Running Shoes   Rs. 7999\n",
       "1        Puma  Men Fuse Training Sports Shoes   Rs. 9345\n",
       "2     Bugatti    Men Perforated Mule Sneakers  Rs. 11245\n",
       "3        Nike  Men AIR MAX INFINITY 2 Sneaker   Rs. 7999\n",
       "4        Nike      Men React Infinity Running  Rs. 11470\n",
       "..        ...                             ...        ...\n",
       "95       Geox       Women Leather Block Heels   Rs. 7999\n",
       "96       Geox            Solid Leather Wedges   Rs. 8499\n",
       "97       Geox          Women Slip-On Sneakers   Rs. 8499\n",
       "98       Geox       Women Leather Solid Pumps  Rs. 11999\n",
       "99      Ruosh       Men Leather Slip-On Shoes   Rs. 6999\n",
       "\n",
       "[100 rows x 3 columns]"
      ]
     },
     "execution_count": 131,
     "metadata": {},
     "output_type": "execute_result"
    }
   ],
   "source": [
    "### 9.7 DataFraming using Pandas\n",
    "\n",
    "shoe_product=pd.DataFrame({})\n",
    "shoe_product[\"Brand Name\"]=brand_name\n",
    "shoe_product[\"Description\"]=product_desc\n",
    "shoe_product[\"price\"]=product_price\n",
    "shoe_product"
   ]
  },
  {
   "cell_type": "markdown",
   "id": "documentary-bolivia",
   "metadata": {},
   "source": [
    "# 10. Python program to  scrape first 10 laptops data in amazon.in"
   ]
  },
  {
   "cell_type": "code",
   "execution_count": 88,
   "id": "dirty-finish",
   "metadata": {},
   "outputs": [],
   "source": [
    "### 10.1 Connecting to web driver\n",
    "driver=webdriver.Chrome(r\"c://chromedriver.exe\")\n",
    "### 10.2 Getting the webpage\n",
    "driver.get(\"https://www.amazon.in/\")"
   ]
  },
  {
   "cell_type": "code",
   "execution_count": 89,
   "id": "hybrid-consolidation",
   "metadata": {},
   "outputs": [],
   "source": [
    "### 10.3 Finding Element for product search bar\n",
    "search_product=driver.find_element_by_id(\"twotabsearchtextbox\")\n",
    "search_product.send_keys(\"Laptop\")#entering keyword \"laptop\"\n",
    "search_button=driver.find_element_by_id(\"nav-search-submit-button\")\n",
    "search_button.click()\n"
   ]
  },
  {
   "cell_type": "code",
   "execution_count": 90,
   "id": "quality-setting",
   "metadata": {},
   "outputs": [],
   "source": [
    "# 10.4 setting CPU to “Intel Core i7” Type filter\n",
    "filter_button=driver.find_elements_by_xpath(\"//a[@class='a-link-normal s-navigation-item']/span\")\n",
    "for i in filter_button:\n",
    "    if i.text=='Intel Core i7':\n",
    "        i.click()\n",
    "        break\n"
   ]
  },
  {
   "cell_type": "code",
   "execution_count": 91,
   "id": "instructional-bryan",
   "metadata": {},
   "outputs": [],
   "source": [
    "# 10.5 setting CPU to  “Intel Core i9” Type filter\n",
    "filter_button=driver.find_elements_by_xpath(\"//a[@class='a-link-normal s-navigation-item']/span\")\n",
    "for i in filter_button:\n",
    "    if i.text=='Intel Core i9':\n",
    "        i.click()\n",
    "        break\n"
   ]
  },
  {
   "cell_type": "code",
   "execution_count": 92,
   "id": "undefined-twelve",
   "metadata": {},
   "outputs": [
    {
     "data": {
      "text/plain": [
       "['Lenovo IdeaPad Flex 5 AMD Ryzen 5 4500U 14\" FHD IPS 2-in-1 Touchscreen Laptop (8GB/512GB SSD/Win 10/Office/AMD Radeon GFX/Lenovo Digital Pen Stylus/Fingerprint Reader/Graphite Grey/1.5Kg), 81X2004RIN',\n",
       " 'Microsoft Surface Laptop Go 10th Gen Intel Core™ i5-1035G1 12.4 inch Touchscreen Laptop (8GB/128GB SSD/Windows 10 Home in S Mode/Intel UHD Graphics/Platinum/1.110 kg), THH-00023',\n",
       " 'Lenovo IdeaPad Slim 3 Intel Celeron N4020 15.6-inch HD Thin and Light Laptop (4GB/256GB SSD/Windows 10/Platinum Grey/1.7Kg), 81WQ003LIN',\n",
       " 'HP 15 Entry Level 15.6-inch HD Laptop (AMD 3020e/4GB/1TB HDD/Windows 10 Home/Jet Black/1.74 Kg), 15s-gy0003AU',\n",
       " 'AVITA Essential NE14A2INC433-CR 14-inch Laptop (Celeron N4000/4GB/128GB SSD/Window 10 Home in S Mode/Integrated Graphics), Concrete Grey']"
      ]
     },
     "execution_count": 92,
     "metadata": {},
     "output_type": "execute_result"
    }
   ],
   "source": [
    "### 10.6 Laptop Title\n",
    "### 10.6.1 Extracting all tags having laptop title\n",
    "title_tags=driver.find_elements_by_xpath(\"//span[@class='a-size-medium a-color-base a-text-normal']\")\n",
    "### 10.6.2 Extarcting text from job title tag using for loop\n",
    "title=[]\n",
    "for i in title_tags:\n",
    "    title.append(i.text)\n",
    "title[0:5]    "
   ]
  },
  {
   "cell_type": "code",
   "execution_count": 93,
   "id": "posted-document",
   "metadata": {},
   "outputs": [
    {
     "data": {
      "text/plain": [
       "['59,896',\n",
       " '69,990',\n",
       " '23,990',\n",
       " '24,403',\n",
       " '18,990',\n",
       " '25,990',\n",
       " '24,990',\n",
       " '31,999',\n",
       " '29,990',\n",
       " '24,485',\n",
       " '58,990',\n",
       " '40,999',\n",
       " '35,990',\n",
       " '24,990',\n",
       " '30,674',\n",
       " '35,990',\n",
       " '35,290',\n",
       " '23,399',\n",
       " '39,999',\n",
       " '60,990',\n",
       " '58,490']"
      ]
     },
     "execution_count": 93,
     "metadata": {},
     "output_type": "execute_result"
    }
   ],
   "source": [
    "### 10.7 price\n",
    "### 10.7.1 Extracting all tags having price\n",
    "price_tags=driver.find_elements_by_xpath(\"//span[@class='a-price-whole']\")\n",
    "price=[]\n",
    "for i in price_tags:\n",
    "    price.append(i.text)\n",
    "price    "
   ]
  },
  {
   "cell_type": "code",
   "execution_count": 94,
   "id": "covered-vision",
   "metadata": {},
   "outputs": [],
   "source": [
    "### 10.8 Rating\n",
    "url=driver.find_elements_by_xpath(\"//a[@class='a-link-normal a-text-normal']\")\n",
    "Ur=[]\n",
    "Rating=[]\n",
    "for i in url[:10]:\n",
    "    Ur.append(i.get_attribute(\"href\"))\n",
    "for url in Ur:\n",
    "    driver.get(url)\n",
    "    try:\n",
    "        rate=driver.find_element_by_xpath(\"//span[@id='acrCustomerReviewText']\")\n",
    "        rate.click()\n",
    "        rating=driver.find_element_by_xpath(\"//span[@class='a-size-medium a-color-base']\")\n",
    "        Rating.append(rating.text)\n",
    "    except NoSuchElementException as e:\n",
    "        Rating.append(\"No Rating\") "
   ]
  },
  {
   "cell_type": "code",
   "execution_count": 95,
   "id": "intelligent-reasoning",
   "metadata": {},
   "outputs": [
    {
     "data": {
      "text/plain": [
       "['4 out of 5',\n",
       " '3.3 out of 5',\n",
       " '3.8 out of 5',\n",
       " '3.9 out of 5',\n",
       " '3.9 out of 5',\n",
       " '3.7 out of 5',\n",
       " '4 out of 5',\n",
       " '3.5 out of 5',\n",
       " '3.4 out of 5',\n",
       " '3.7 out of 5']"
      ]
     },
     "execution_count": 95,
     "metadata": {},
     "output_type": "execute_result"
    }
   ],
   "source": [
    "Rating"
   ]
  },
  {
   "cell_type": "code",
   "execution_count": 96,
   "id": "rapid-detail",
   "metadata": {},
   "outputs": [
    {
     "name": "stdout",
     "output_type": "stream",
     "text": [
      "22 10 21\n"
     ]
    }
   ],
   "source": [
    "### 1.10 Checking for length of all tags\n",
    "\n",
    "print(len(title),len(Rating),len(price))"
   ]
  },
  {
   "cell_type": "code",
   "execution_count": 97,
   "id": "everyday-funeral",
   "metadata": {},
   "outputs": [
    {
     "data": {
      "text/html": [
       "<div>\n",
       "<style scoped>\n",
       "    .dataframe tbody tr th:only-of-type {\n",
       "        vertical-align: middle;\n",
       "    }\n",
       "\n",
       "    .dataframe tbody tr th {\n",
       "        vertical-align: top;\n",
       "    }\n",
       "\n",
       "    .dataframe thead th {\n",
       "        text-align: right;\n",
       "    }\n",
       "</style>\n",
       "<table border=\"1\" class=\"dataframe\">\n",
       "  <thead>\n",
       "    <tr style=\"text-align: right;\">\n",
       "      <th></th>\n",
       "      <th>Product title</th>\n",
       "      <th>Rating</th>\n",
       "      <th>price</th>\n",
       "    </tr>\n",
       "  </thead>\n",
       "  <tbody>\n",
       "    <tr>\n",
       "      <th>0</th>\n",
       "      <td>Lenovo IdeaPad Flex 5 AMD Ryzen 5 4500U 14\" FH...</td>\n",
       "      <td>4 out of 5</td>\n",
       "      <td>59,896</td>\n",
       "    </tr>\n",
       "    <tr>\n",
       "      <th>1</th>\n",
       "      <td>Microsoft Surface Laptop Go 10th Gen Intel Cor...</td>\n",
       "      <td>3.3 out of 5</td>\n",
       "      <td>69,990</td>\n",
       "    </tr>\n",
       "    <tr>\n",
       "      <th>2</th>\n",
       "      <td>Lenovo IdeaPad Slim 3 Intel Celeron N4020 15.6...</td>\n",
       "      <td>3.8 out of 5</td>\n",
       "      <td>23,990</td>\n",
       "    </tr>\n",
       "    <tr>\n",
       "      <th>3</th>\n",
       "      <td>HP 15 Entry Level 15.6-inch HD Laptop (AMD 302...</td>\n",
       "      <td>3.9 out of 5</td>\n",
       "      <td>24,403</td>\n",
       "    </tr>\n",
       "    <tr>\n",
       "      <th>4</th>\n",
       "      <td>AVITA Essential NE14A2INC433-CR 14-inch Laptop...</td>\n",
       "      <td>3.9 out of 5</td>\n",
       "      <td>18,990</td>\n",
       "    </tr>\n",
       "    <tr>\n",
       "      <th>5</th>\n",
       "      <td>Lenovo Ideapad Slim 3 AMD Athlon Silver 3050U ...</td>\n",
       "      <td>3.7 out of 5</td>\n",
       "      <td>25,990</td>\n",
       "    </tr>\n",
       "    <tr>\n",
       "      <th>6</th>\n",
       "      <td>ASUS VivoBook 14 (2020) Intel Quad Core Pentiu...</td>\n",
       "      <td>4 out of 5</td>\n",
       "      <td>24,990</td>\n",
       "    </tr>\n",
       "    <tr>\n",
       "      <th>7</th>\n",
       "      <td>HP 15 Thin &amp; Light Ryzen 3-3250 Laptop, 4 GB R...</td>\n",
       "      <td>3.5 out of 5</td>\n",
       "      <td>31,999</td>\n",
       "    </tr>\n",
       "    <tr>\n",
       "      <th>8</th>\n",
       "      <td>Lenovo Ideapad Slim 3 AMD Ryzen 3 15.6 inch Fu...</td>\n",
       "      <td>3.4 out of 5</td>\n",
       "      <td>29,990</td>\n",
       "    </tr>\n",
       "    <tr>\n",
       "      <th>9</th>\n",
       "      <td>HP Chromebook 14a-na0003TU 14-inch Thin &amp; Ligh...</td>\n",
       "      <td>3.7 out of 5</td>\n",
       "      <td>24,485</td>\n",
       "    </tr>\n",
       "  </tbody>\n",
       "</table>\n",
       "</div>"
      ],
      "text/plain": [
       "                                       Product title        Rating   price\n",
       "0  Lenovo IdeaPad Flex 5 AMD Ryzen 5 4500U 14\" FH...    4 out of 5  59,896\n",
       "1  Microsoft Surface Laptop Go 10th Gen Intel Cor...  3.3 out of 5  69,990\n",
       "2  Lenovo IdeaPad Slim 3 Intel Celeron N4020 15.6...  3.8 out of 5  23,990\n",
       "3  HP 15 Entry Level 15.6-inch HD Laptop (AMD 302...  3.9 out of 5  24,403\n",
       "4  AVITA Essential NE14A2INC433-CR 14-inch Laptop...  3.9 out of 5  18,990\n",
       "5  Lenovo Ideapad Slim 3 AMD Athlon Silver 3050U ...  3.7 out of 5  25,990\n",
       "6  ASUS VivoBook 14 (2020) Intel Quad Core Pentiu...    4 out of 5  24,990\n",
       "7  HP 15 Thin & Light Ryzen 3-3250 Laptop, 4 GB R...  3.5 out of 5  31,999\n",
       "8  Lenovo Ideapad Slim 3 AMD Ryzen 3 15.6 inch Fu...  3.4 out of 5  29,990\n",
       "9  HP Chromebook 14a-na0003TU 14-inch Thin & Ligh...  3.7 out of 5  24,485"
      ]
     },
     "execution_count": 97,
     "metadata": {},
     "output_type": "execute_result"
    }
   ],
   "source": [
    "### 1.11 scrape the data for the first 10 amazon_product\n",
    "\n",
    "title=title[0:10]\n",
    "Rating=Rating[0:10]\n",
    "price=price[0:10]\n",
    "\n",
    "### 1.12 DataFraming using Pandas\n",
    "\n",
    "amazon_product=pd.DataFrame({})\n",
    "amazon_product[\"Product title\"]=title\n",
    "amazon_product[\"Rating\"]=Rating\n",
    "amazon_product[\"price\"]=price\n",
    "amazon_product"
   ]
  },
  {
   "cell_type": "code",
   "execution_count": null,
   "id": "velvet-gregory",
   "metadata": {},
   "outputs": [],
   "source": []
  },
  {
   "cell_type": "code",
   "execution_count": null,
   "id": "optimum-occurrence",
   "metadata": {},
   "outputs": [],
   "source": []
  },
  {
   "cell_type": "code",
   "execution_count": null,
   "id": "optimum-polymer",
   "metadata": {},
   "outputs": [],
   "source": []
  },
  {
   "cell_type": "code",
   "execution_count": null,
   "id": "applicable-trance",
   "metadata": {},
   "outputs": [],
   "source": []
  }
 ],
 "metadata": {
  "kernelspec": {
   "display_name": "Python 3",
   "language": "python",
   "name": "python3"
  },
  "language_info": {
   "codemirror_mode": {
    "name": "ipython",
    "version": 3
   },
   "file_extension": ".py",
   "mimetype": "text/x-python",
   "name": "python",
   "nbconvert_exporter": "python",
   "pygments_lexer": "ipython3",
   "version": "3.9.2"
  }
 },
 "nbformat": 4,
 "nbformat_minor": 5
}
